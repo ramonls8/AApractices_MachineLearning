{
 "cells": [
  {
   "cell_type": "markdown",
   "metadata": {
    "id": "3TeHZc1FZKAi"
   },
   "source": [
    "# **Asignatura**: Aprendizaje Automático\n",
    "\n",
    "**Práctica 3**: Introducción a Deep Learning\n",
    "\n",
    "**Nombre**: Ramón"
   ]
  },
  {
   "cell_type": "markdown",
   "metadata": {
    "id": "sbmdqr0DZgnx"
   },
   "source": [
    "# **Ejercicio 1: Clasificación (5 puntos)**"
   ]
  },
  {
   "cell_type": "markdown",
   "metadata": {
    "id": "Cto6L5TrZl6z"
   },
   "source": [
    "En este ejercicio los alumnos se enfrentarán a un problema de clasificación, el cual tendrán que abordar de comienzo a fin (desde el análisis exploratorio hasta el entrenamiento y validación de los modelos de aprendizaje automático seleccionados). En particular, se enfrentarán a un problema real de uso de técnicas de aprendizaje automático para tratar de clasificar imágenes que contienen prendas de ropa, prediciendo la categoría de la imagen de entrada que contiene la prenda. El conjunto de datos original se obteniene a partir de la investigación realizada en el siguiente artículo:\n",
    "\n",
    "- Han Xiao, Kashif Rasul, Roland Vollgraf, Fashion-MNIST: a Novel Image Dataset for Benchmarking Machine Learning Algorithms, Technical Report, ArXiv, 2017 (URL: <a href=\"https://arxiv.org/abs/1708.07747\">https://arxiv.org/abs/1708.07747</a>)."
   ]
  },
  {
   "cell_type": "markdown",
   "metadata": {
    "id": "hxFvGS7SaXNo"
   },
   "source": [
    "## El conjunto de datos"
   ]
  },
  {
   "cell_type": "markdown",
   "metadata": {
    "id": "rl5xTIlnaY4-"
   },
   "source": [
    "**Fashion-MNIST** es un conjunto de datos que contiene imágenes de artículos de venta online desde la web de **Zalando**. Se distribuye en dos conjuntos de entrenamiento (60.000 imágenes) y test (10.000 imágenes) de prendas de ropa en escala de grises, donde cada imagen tiene un tamaño de 28 filas y 28 columnas. Cada una de las prendas se corresponde con una etiqueta entre 10 classes posibles:\n",
    "\n",
    "- 0 T-shirt/top\n",
    "- 1 Trouser\n",
    "- 2 Pullover\n",
    "- 3 Dress\n",
    "- 4 Coat\n",
    "- 5 Sandal\n",
    "- 6 Shirt\n",
    "- 7 Sneaker\n",
    "- 8 Bag\n",
    "- 9 Ankle boot\n",
    "\n",
    "Una muestra de ejemplo del contenido del conjunto de datos se ilustra en la siguiente figura:\n",
    "\n",
    "<center>\n",
    "<img src=\"https://github.com/zalandoresearch/fashion-mnist/raw/master/doc/img/fashion-mnist-sprite.png\" />\n",
    "</center>\n",
    "\n",
    "\n",
    "El **objetivo de la práctica** es desarrollar un modelo de aprendizaje automático con **Keras** capaz de identificar, si es posible, la categoría a la que pertenece cada prenda de ropa, tratando de alcanzar el máximo rendimiento en la resolución del problema.\n",
    "\n",
    "El dataset se encuentra disponible en **Keras**, y puede leerse como se muestra en la siguiente celda de código:"
   ]
  },
  {
   "cell_type": "code",
   "execution_count": null,
   "metadata": {
    "colab": {
     "base_uri": "https://localhost:8080/"
    },
    "executionInfo": {
     "elapsed": 3910,
     "status": "ok",
     "timestamp": 1748028122729,
     "user": {
      "displayName": "José Sánchez",
      "userId": "04755864308978426799"
     },
     "user_tz": -120
    },
    "id": "SVLZ7y3_ZbJS",
    "outputId": "a140656b-e07a-4e19-fa63-fa026bd1d176"
   },
   "outputs": [
    {
     "name": "stdout",
     "output_type": "stream",
     "text": [
      "Conjunto de training:  <class 'tuple'> 2\n",
      "Conjunto de test:  <class 'tuple'> 2\n"
     ]
    }
   ],
   "source": [
    "import tensorflow as tf\n",
    "\n",
    "Train, Test= tf.keras.datasets.fashion_mnist.load_data()\n",
    "print('Conjunto de training: ', type(Train), len(Train))\n",
    "print('Conjunto de test: ', type(Test), len(Test))"
   ]
  },
  {
   "cell_type": "markdown",
   "metadata": {
    "id": "mgkADWAncwFx"
   },
   "source": [
    "## Tarea"
   ]
  },
  {
   "cell_type": "markdown",
   "metadata": {
    "id": "lHfRbuOGcxJ1"
   },
   "source": [
    "El alumnado debe realizar, al menos, las siguientes tareas (que deben ser descritas y abordadas, explícitamente, en la documentación entregada; de hecho, se debe incluir un subapartado en el Notebook para cada una de ellas):\n",
    "\n",
    "1. Análisis descriptivo del problema y análisis exploratorio de los datos a nuestra disposición.\n",
    "2. Preprocesado de datos (selección/extracción de características, reducción de dimensionalidad, procesado de datos extremos/atípicos, imputación de datos faltantes, escalado de variables, codificación/transformación de datos, desbalanceo de datos).\n",
    "3. Definición del protocolo de validación experimental (entrenamiento, validación y test), junto con las métricas de evaluación del rendimiento que corresponda.\n",
    "4. Selección de dos tipos de modelos distintos de **Deep Learning**: Al primero lo llamaremos **C1** y al segundo **C2**.\n",
    "5. Selección y estimación de valores para hiperparámetros.\n",
    "6. Entrenamiento y estimación del error fuera de la muestra. Discusión de resultados y extracción de conclusiones.\n",
    "\n",
    "\n",
    "Con respecto a los modelos a utilizar, partiremos de la propuesta realizada en el siguiente artículo:\n",
    "\n",
    "- E. Xhaferra, E. Cina and L. Toti, \"Classification of Standard FASHION MNIST Dataset Using Deep Learning Based CNN Algorithms,\" 2022 International Symposium on Multidisciplinary Studies and Innovative Technologies (ISMSIT), Ankara, Turkey, 2022, pp. 494-498, doi: 10.1109/ISMSIT56059.2022.9932737 (URL: <a href=\"https://ieeexplore.ieee.org/document/9932737\">https://ieeexplore.ieee.org/document/9932737</a>.\n",
    "\n",
    "\n",
    "\n",
    "\n",
    "La arquitectura de la red para el modelo **C1** es la siguiente:\n",
    "\n",
    "<table>\n",
    "<th>\n",
    "  <td><b>Layer Type</b></td>\n",
    "  <td><b>kernel type (conv.)</b></td>\n",
    "  <td><b>Input | Output dim.</b></td>\n",
    "  <td><b>Input | Output channels (conv.)</b></td>\n",
    "</th>\n",
    "<tr>\n",
    "  <td></td>\n",
    "  <td> Conv </td>\n",
    "  <td> 3x3 </td>\n",
    "  <td> 28x28 | 26x26 </td>\n",
    "  <td> 1 | 6 </td>\n",
    "</tr>\n",
    "<tr>\n",
    "  <td></td>\n",
    "  <td> ReLU </td>\n",
    "  <td> - </td>\n",
    "  <td> - </td>\n",
    "  <td> - </td>\n",
    "</tr>\n",
    "<tr>\n",
    "  <td></td>\n",
    "  <td> MaxPooling </td>\n",
    "  <td> 2x2 </td>\n",
    "  <td> 26x26 | 13x13 </td>\n",
    "  <td> - </td>\n",
    "</tr>\n",
    "<tr>\n",
    "  <td></td>\n",
    "  <td> Conv </td>\n",
    "  <td> 3x3 </td>\n",
    "  <td> 13x13 | 11x11 </td>\n",
    "  <td> 6 | 10 </td>\n",
    "</tr>\n",
    "<tr>\n",
    "  <td></td>\n",
    "  <td> ReLU </td>\n",
    "  <td> - </td>\n",
    "  <td> - </td>\n",
    "  <td> - </td>\n",
    "</tr>\n",
    "<tr>\n",
    "  <td></td>\n",
    "  <td> Batch Norm. </td>\n",
    "  <td> - </td>\n",
    "  <td> - </td>\n",
    "  <td> - </td>\n",
    "</tr>\n",
    "<tr>\n",
    "  <td></td>\n",
    "  <td> MaxPooling </td>\n",
    "  <td> 2x2 </td>\n",
    "  <td> 11x11 | 5x5 </td>\n",
    "  <td> - </td>\n",
    "</tr>\n",
    "<tr>\n",
    "  <td></td>\n",
    "  <td> FC </td>\n",
    "  <td> - </td>\n",
    "  <td> 250 | 128 </td>\n",
    "  <td> - </td>\n",
    "</tr>\n",
    "<tr>\n",
    "  <td></td>\n",
    "  <td> ReLU </td>\n",
    "  <td> - </td>\n",
    "  <td> - </td>\n",
    "  <td> - </td>\n",
    "</tr>\n",
    "<tr>\n",
    "  <td></td>\n",
    "  <td> FC </td>\n",
    "  <td> - </td>\n",
    "  <td> 128 | 10 </td>\n",
    "  <td> - </td>\n",
    "</tr>\n",
    "</table>\n",
    "\n",
    "\n",
    "\n",
    "Por otra parte, la arquitectura de la red para el modelo **C2** es la siguiente:\n",
    "\n",
    "<table>\n",
    "<th>\n",
    "  <td><b>Layer Type</b></td>\n",
    "  <td><b>kernel type (conv.)</b></td>\n",
    "  <td><b>Input | Output dim.</b></td>\n",
    "  <td><b>Input | Output channels (conv.)</b></td>\n",
    "</th>\n",
    "<tr>\n",
    "  <td></td>\n",
    "  <td> Conv </td>\n",
    "  <td> 3x3 </td>\n",
    "  <td> 28x28 | 28x28 </td>\n",
    "  <td> 1 | 112 </td>\n",
    "</tr>\n",
    "<tr>\n",
    "  <td></td>\n",
    "  <td> Batch Norm. </td>\n",
    "  <td> - </td>\n",
    "  <td> - </td>\n",
    "  <td> - </td>\n",
    "</tr>\n",
    "<tr>\n",
    "  <td></td>\n",
    "  <td> ReLU </td>\n",
    "  <td> - </td>\n",
    "  <td> - </td>\n",
    "  <td> - </td>\n",
    "</tr>\n",
    "<tr>\n",
    "  <td></td>\n",
    "  <td> Conv </td>\n",
    "  <td> 3x3 </td>\n",
    "  <td> 28x28 | 28x28 </td>\n",
    "  <td> 112 | 64 </td>\n",
    "</tr>\n",
    "<tr>\n",
    "  <td></td>\n",
    "  <td> Batch Norm. </td>\n",
    "  <td> - </td>\n",
    "  <td> - </td>\n",
    "  <td> - </td>\n",
    "</tr>\n",
    "<tr>\n",
    "  <td></td>\n",
    "  <td> ReLU </td>\n",
    "  <td> - </td>\n",
    "  <td> - </td>\n",
    "  <td> - </td>\n",
    "</tr>\n",
    "<tr>\n",
    "  <td></td>\n",
    "  <td> Conv </td>\n",
    "  <td> 3x3 </td>\n",
    "  <td> 28x28 | 28x28 </td>\n",
    "  <td> 64 | 128 </td>\n",
    "</tr>\n",
    "<tr>\n",
    "  <td></td>\n",
    "  <td> Batch Norm. </td>\n",
    "  <td> - </td>\n",
    "  <td> - </td>\n",
    "  <td> - </td>\n",
    "</tr>\n",
    "<tr>\n",
    "  <td></td>\n",
    "  <td> ReLU </td>\n",
    "  <td> - </td>\n",
    "  <td> - </td>\n",
    "  <td> - </td>\n",
    "</tr>\n",
    "<tr>\n",
    "  <td></td>\n",
    "  <td> MaxPooling </td>\n",
    "  <td> 2x2 </td>\n",
    "  <td> 28x28 | 14x14 </td>\n",
    "  <td> - </td>\n",
    "</tr>\n",
    "<tr>\n",
    "  <td></td>\n",
    "  <td> FC </td>\n",
    "  <td> - </td>\n",
    "  <td> 25088 | 208 </td>\n",
    "  <td> - </td>\n",
    "</tr>\n",
    "<tr>\n",
    "  <td></td>\n",
    "  <td> Dropout(0.1) </td>\n",
    "  <td> - </td>\n",
    "  <td> - </td>\n",
    "  <td> - </td>\n",
    "</tr>\n",
    "<tr>\n",
    "  <td></td>\n",
    "  <td> ReLU </td>\n",
    "  <td> - </td>\n",
    "  <td> - </td>\n",
    "  <td> - </td>\n",
    "</tr>\n",
    "<tr>\n",
    "  <td></td>\n",
    "  <td> FC </td>\n",
    "  <td> - </td>\n",
    "  <td> 208 | 160 </td>\n",
    "  <td> - </td>\n",
    "</tr>\n",
    "<tr>\n",
    "  <td></td>\n",
    "  <td> Dropout(0.1) </td>\n",
    "  <td> - </td>\n",
    "  <td> - </td>\n",
    "  <td> - </td>\n",
    "</tr>\n",
    "<tr>\n",
    "  <td></td>\n",
    "  <td> ReLU </td>\n",
    "  <td> - </td>\n",
    "  <td> - </td>\n",
    "  <td> - </td>\n",
    "</tr>\n",
    "<tr>\n",
    "  <td></td>\n",
    "  <td> FC </td>\n",
    "  <td> - </td>\n",
    "  <td> 160 | 128 </td>\n",
    "  <td> - </td>\n",
    "</tr>\n",
    "<tr>\n",
    "  <td></td>\n",
    "  <td> Dropout(0.1) </td>\n",
    "  <td> - </td>\n",
    "  <td> - </td>\n",
    "  <td> - </td>\n",
    "</tr>\n",
    "<tr>\n",
    "  <td></td>\n",
    "  <td> ReLU </td>\n",
    "  <td> - </td>\n",
    "  <td> - </td>\n",
    "  <td> - </td>\n",
    "</tr>\n",
    "<tr>\n",
    "  <td></td>\n",
    "  <td> FC </td>\n",
    "  <td> - </td>\n",
    "  <td> 128 | 10 </td>\n",
    "  <td> - </td>\n",
    "</tr>\n",
    "</table>\n",
    "\n",
    "\n",
    "**Entrene cada modelo un total de 20 épocas. Pruebe con dos tipos de tamaño de batch (64 y 1000) en cada modelo.**.\n",
    "\n",
    "<font color=\"red\"><b>NO OLVIDAR ACTIVAR LA GPU EN LA CONFIGURACIÓN DEL CUADERNO (Menú Editar -> Configuración del cuaderno)</b></font>"
   ]
  },
  {
   "cell_type": "markdown",
   "metadata": {
    "id": "bbMkZ9foCsZl"
   },
   "source": [
    "## 1.1 Análisis descriptivo del problema y análisis exploratorio de los datos a nuestra disposición"
   ]
  },
  {
   "cell_type": "markdown",
   "metadata": {
    "id": "X9onTRGGCsZl"
   },
   "source": [
    "Vemos como los datos de entrada ( Train[0] ) están formados por los píxeles de las imágenes, con valores entre 0 y 255. Para ello mostramos en la primera imagen ( Train[0][0] ) algunas de sus filas ( Train[0][0][5:8] ):"
   ]
  },
  {
   "cell_type": "code",
   "execution_count": null,
   "metadata": {
    "colab": {
     "base_uri": "https://localhost:8080/"
    },
    "executionInfo": {
     "elapsed": 65,
     "status": "ok",
     "timestamp": 1748028122730,
     "user": {
      "displayName": "José Sánchez",
      "userId": "04755864308978426799"
     },
     "user_tz": -120
    },
    "id": "nlciSl7OCsZl",
    "outputId": "712e4dee-135c-44f3-d76a-13ff986ca1d6"
   },
   "outputs": [
    {
     "data": {
      "text/plain": [
       "array([[  0,   0,   0,   0,   0,   0,   0,   0,   0,   0,   0,   0,   6,\n",
       "          0, 102, 204, 176, 134, 144, 123,  23,   0,   0,   0,   0,  12,\n",
       "         10,   0],\n",
       "       [  0,   0,   0,   0,   0,   0,   0,   0,   0,   0,   0,   0,   0,\n",
       "          0, 155, 236, 207, 178, 107, 156, 161, 109,  64,  23,  77, 130,\n",
       "         72,  15],\n",
       "       [  0,   0,   0,   0,   0,   0,   0,   0,   0,   0,   0,   1,   0,\n",
       "         69, 207, 223, 218, 216, 216, 163, 127, 121, 122, 146, 141,  88,\n",
       "        172,  66]], dtype=uint8)"
      ]
     },
     "execution_count": 3,
     "metadata": {},
     "output_type": "execute_result"
    }
   ],
   "source": [
    "Train[0][0][5:8]"
   ]
  },
  {
   "cell_type": "markdown",
   "metadata": {
    "id": "LoOHatOFCsZm"
   },
   "source": [
    "Los valores de salida ( Train[1] ) corresponden al tipo de prenda, con valores entre 0 y 9:"
   ]
  },
  {
   "cell_type": "code",
   "execution_count": null,
   "metadata": {
    "colab": {
     "base_uri": "https://localhost:8080/"
    },
    "executionInfo": {
     "elapsed": 34,
     "status": "ok",
     "timestamp": 1748028122730,
     "user": {
      "displayName": "José Sánchez",
      "userId": "04755864308978426799"
     },
     "user_tz": -120
    },
    "id": "HvHubCm9CsZm",
    "outputId": "54b71ecf-5d25-4b48-92ab-a3bfb3ba9f14"
   },
   "outputs": [
    {
     "data": {
      "text/plain": [
       "array([9, 0, 0, ..., 3, 0, 5], dtype=uint8)"
      ]
     },
     "execution_count": 4,
     "metadata": {},
     "output_type": "execute_result"
    }
   ],
   "source": [
    "Train[1]"
   ]
  },
  {
   "cell_type": "markdown",
   "metadata": {
    "id": "X1BUcZ96CsZn"
   },
   "source": [
    "Separamos X de Y:"
   ]
  },
  {
   "cell_type": "code",
   "execution_count": null,
   "metadata": {
    "id": "Q2-nu6F-CsZn"
   },
   "outputs": [],
   "source": [
    "Xtrain = Train[0]\n",
    "Ytrain = Train[1]\n",
    "Xtest = Test[0]\n",
    "Ytest = Test[1]"
   ]
  },
  {
   "cell_type": "markdown",
   "metadata": {
    "id": "9dBSQvPPCsZo"
   },
   "source": [
    "Tenemos 60000 muestras de train y 10000 de test, con imágenes de 28x28 píxeles:"
   ]
  },
  {
   "cell_type": "code",
   "execution_count": null,
   "metadata": {
    "colab": {
     "base_uri": "https://localhost:8080/"
    },
    "executionInfo": {
     "elapsed": 18,
     "status": "ok",
     "timestamp": 1748028122731,
     "user": {
      "displayName": "José Sánchez",
      "userId": "04755864308978426799"
     },
     "user_tz": -120
    },
    "id": "UKRT9uYcCsZo",
    "outputId": "73e11edc-7574-4fa7-8e8c-97f7a0dd0bb8"
   },
   "outputs": [
    {
     "name": "stdout",
     "output_type": "stream",
     "text": [
      "(60000, 28, 28)\n",
      "(60000,)\n",
      "(10000, 28, 28)\n",
      "(10000,)\n"
     ]
    }
   ],
   "source": [
    "print(Xtrain.shape)\n",
    "print(Ytrain.shape)\n",
    "print(Xtest.shape)\n",
    "print(Ytest.shape)"
   ]
  },
  {
   "cell_type": "markdown",
   "metadata": {
    "id": "pkRTYjiqCsZo"
   },
   "source": [
    "Mostramos algunas de las imágenes junto a su etiqueta:"
   ]
  },
  {
   "cell_type": "code",
   "execution_count": null,
   "metadata": {
    "colab": {
     "base_uri": "https://localhost:8080/",
     "height": 169
    },
    "executionInfo": {
     "elapsed": 277,
     "status": "ok",
     "timestamp": 1748028123003,
     "user": {
      "displayName": "José Sánchez",
      "userId": "04755864308978426799"
     },
     "user_tz": -120
    },
    "id": "A0UD3uQSCsZp",
    "outputId": "302dea81-3ea0-4495-b723-4fbc888a027b"
   },
   "outputs": [
    {
     "data": {
      "image/png": "[encoded data removed]",
      "text/plain": [
       "<Figure size 640x480 with 5 Axes>"
      ]
     },
     "metadata": {},
     "output_type": "display_data"
    }
   ],
   "source": [
    "import numpy as np\n",
    "import matplotlib.pyplot as plt\n",
    "\n",
    "imgs_mostrar= 5\n",
    "selected = np.random.choice(range(len(Xtrain)), size=imgs_mostrar)\n",
    "imgs, digits = Xtrain[ selected ], Ytrain[selected]\n",
    "\n",
    "for i, (img, digit) in enumerate(zip(imgs, digits)):\n",
    "  plt.subplot(1, 5, i+1)\n",
    "  plt.imshow(img.squeeze(), cmap= 'gray')\n",
    "  plt.xlabel(digit)"
   ]
  },
  {
   "cell_type": "markdown",
   "metadata": {
    "id": "zEDHPnQXCsZp"
   },
   "source": [
    "Vamos a ver los histogramas de las intesidades de color de las diferentes prendas de ropa:"
   ]
  },
  {
   "cell_type": "code",
   "execution_count": null,
   "metadata": {
    "colab": {
     "base_uri": "https://localhost:8080/",
     "height": 956
    },
    "executionInfo": {
     "elapsed": 1983,
     "status": "ok",
     "timestamp": 1748028124976,
     "user": {
      "displayName": "José Sánchez",
      "userId": "04755864308978426799"
     },
     "user_tz": -120
    },
    "id": "C5lZ4uxXCsZp",
    "outputId": "5c6d3bf7-86b9-4cee-b24e-0347d4337398"
   },
   "outputs": [
    {
     "data": {
      "image/png": "[encoded data removed]",
      "text/plain": [
       "<Figure size 1500x1000 with 10 Axes>"
      ]
     },
     "metadata": {},
     "output_type": "display_data"
    }
   ],
   "source": [
    "import pandas as pd\n",
    "import matplotlib.pyplot as plt\n",
    "\n",
    "columns = ['T-shirt/top', 'Trouser', 'Pullover', 'Dress', 'Coat', 'Sandal', 'Shirt', 'Sneaker', 'Bag', 'Ankle boot']\n",
    "\n",
    "Xtrain_flatten = Xtrain.reshape(len(Xtrain), -1)\n",
    "\n",
    "fig, axes = plt.subplots(nrows=4, ncols=3, figsize=(15, 10))\n",
    "axes = axes.flatten()\n",
    "\n",
    "for i, col in enumerate(columns):\n",
    "    pixels = Xtrain_flatten[Ytrain == i].flatten()\n",
    "    # No tenemos en cuenta los píxeles con valor 0 ya que el fondo es de este color y el número de estos será demasiado alto frente al resto\n",
    "    axes[i].hist(pixels[pixels != 0], bins=30)\n",
    "    axes[i].set_title(col)\n",
    "    axes[i].set_xlabel('Valor')\n",
    "    axes[i].set_ylabel('Frecuencia')\n",
    "\n",
    "# Eliminar ejes vacíos si hay menos de 12 columnas\n",
    "for j in range(i + 1, len(axes)):\n",
    "    fig.delaxes(axes[j])\n",
    "\n",
    "plt.tight_layout()\n",
    "plt.show()"
   ]
  },
  {
   "cell_type": "markdown",
   "metadata": {
    "id": "-bu2YcOHCsZq"
   },
   "source": [
    "Vemos como en la mayoría de prendas predomina una variedad de tonos más claros, mientras que en sneaker y sobretodo sandal no hay tantos, por lo que estas prendas son más oscuras."
   ]
  },
  {
   "cell_type": "markdown",
   "metadata": {
    "id": "3uhF7X1FCsZq"
   },
   "source": [
    "## 1.3.1 Protocolo de validación experimental"
   ]
  },
  {
   "cell_type": "markdown",
   "metadata": {
    "id": "y7TjawNVCsZq"
   },
   "source": [
    "Antes de realizar ```Preprocesado de datos```, vamos a dividir los datos de train y test que tenemos, en train, val y test, para hacer así el preprocesado solo en los de train y val.\n",
    "\n",
    "Dividimos el conjunto de datos de train en un 20 % de val y 80 % de train."
   ]
  },
  {
   "cell_type": "code",
   "execution_count": null,
   "metadata": {
    "colab": {
     "base_uri": "https://localhost:8080/"
    },
    "executionInfo": {
     "elapsed": 16,
     "status": "ok",
     "timestamp": 1748028124997,
     "user": {
      "displayName": "José Sánchez",
      "userId": "04755864308978426799"
     },
     "user_tz": -120
    },
    "id": "136Ga01ECsZq",
    "outputId": "5b472621-2267-4c6b-b393-66f533bef7d4"
   },
   "outputs": [
    {
     "name": "stdout",
     "output_type": "stream",
     "text": [
      "Xtrain: (48000, 28, 28)\n",
      "Xval: (12000, 28, 28)\n"
     ]
    }
   ],
   "source": [
    "from sklearn.model_selection import train_test_split\n",
    "\n",
    "Xtrain, Xval, Ytrain, Yval = train_test_split(Xtrain, Ytrain, test_size= 0.2, random_state= 123)\n",
    "\n",
    "print(\"Xtrain:\", Xtrain.shape)\n",
    "print(\"Xval:\", Xval.shape)"
   ]
  },
  {
   "cell_type": "markdown",
   "metadata": {
    "id": "068bTNhVCsZr"
   },
   "source": [
    "## 1.2 Preprocesado de datos"
   ]
  },
  {
   "cell_type": "markdown",
   "metadata": {
    "id": "kMNoEc8bCsZr"
   },
   "source": [
    "Para mejorar la precisión del modelo aplicaremos normalización, es decir, dejaremos los datos con media 0 y std 1. Esto ayuda ya que los parámetros de los modelos no serán números tan elevados."
   ]
  },
  {
   "cell_type": "code",
   "execution_count": null,
   "metadata": {
    "colab": {
     "base_uri": "https://localhost:8080/"
    },
    "executionInfo": {
     "elapsed": 536,
     "status": "ok",
     "timestamp": 1748028125529,
     "user": {
      "displayName": "José Sánchez",
      "userId": "04755864308978426799"
     },
     "user_tz": -120
    },
    "id": "LlRUBnK-CsZr",
    "outputId": "2b58c2dc-d781-49e0-e0de-1df5d9bd250b"
   },
   "outputs": [
    {
     "name": "stdout",
     "output_type": "stream",
     "text": [
      "Xtrain: (48000, 28, 28)\n",
      "Xval: (12000, 28, 28)\n",
      "\n",
      "Tras cambiar los datos a 2 dimensiones:\n",
      "Xtrain: (48000, 784)\n",
      "Xval: (12000, 784)\n",
      "\n",
      "Tras devolver los datos a las dimensiones originales:\n",
      "Xtrain: (48000, 28, 28)\n",
      "Xval: (12000, 28, 28)\n"
     ]
    }
   ],
   "source": [
    "from sklearn.preprocessing import StandardScaler\n",
    "\n",
    "# Cambiamos las dimensiones de los datos para poder usar el StandardScaler\n",
    "print(\"Xtrain:\", Xtrain.shape)\n",
    "print(\"Xval:\", Xval.shape)\n",
    "\n",
    "Xtrain = Xtrain.reshape(len(Xtrain), -1)\n",
    "Xval = Xval.reshape(len(Xval), -1)\n",
    "\n",
    "print(\"\\nTras cambiar los datos a 2 dimensiones:\")\n",
    "print(\"Xtrain:\", Xtrain.shape)\n",
    "print(\"Xval:\", Xval.shape)\n",
    "\n",
    "# Estandarización (normalización de datos con media 0 y std 1)\n",
    "se = StandardScaler()\n",
    "se.fit(Xtrain)\n",
    "\n",
    "Xtrain = se.transform(Xtrain)\n",
    "Xval = se.transform(Xval)\n",
    "\n",
    "# Volvemos a cambiar a las dimensiones originales\n",
    "Xtrain = Xtrain.reshape(len(Xtrain), 28, 28)\n",
    "Xval = Xval.reshape(len(Xval), 28, 28)\n",
    "\n",
    "print(\"\\nTras devolver los datos a las dimensiones originales:\")\n",
    "print(\"Xtrain:\", Xtrain.shape)\n",
    "print(\"Xval:\", Xval.shape)"
   ]
  },
  {
   "cell_type": "markdown",
   "metadata": {
    "id": "ER24j4p6CsZr"
   },
   "source": [
    "En TensorFlow, el procesamiento de imágenes necesita especificar de forma explítica los canales que tiene cada imagen. Al estar en blanco y negro, hay que indicar que hay un único canal, para ello incluiremos una última dimensión a los datos de entrada."
   ]
  },
  {
   "cell_type": "code",
   "execution_count": null,
   "metadata": {
    "colab": {
     "base_uri": "https://localhost:8080/"
    },
    "executionInfo": {
     "elapsed": 15,
     "status": "ok",
     "timestamp": 1748028125553,
     "user": {
      "displayName": "José Sánchez",
      "userId": "04755864308978426799"
     },
     "user_tz": -120
    },
    "id": "F43eJaQJCsZs",
    "outputId": "a0d1f4dd-1acd-472a-9f37-3cd704e3d170"
   },
   "outputs": [
    {
     "name": "stdout",
     "output_type": "stream",
     "text": [
      "Xtrain: (48000, 28, 28, 1)\n",
      "Xval: (12000, 28, 28, 1)\n"
     ]
    }
   ],
   "source": [
    "Xtrain= np.expand_dims(Xtrain, axis= -1)\n",
    "Xval= np.expand_dims(Xval, axis= -1)\n",
    "\n",
    "print(\"Xtrain:\", Xtrain.shape)\n",
    "print(\"Xval:\", Xval.shape)"
   ]
  },
  {
   "cell_type": "markdown",
   "metadata": {
    "id": "yfyLgkrBCsZs"
   },
   "source": [
    "Pasemos ahora los datos a tensor:"
   ]
  },
  {
   "cell_type": "code",
   "execution_count": null,
   "metadata": {
    "id": "yZMwmT9tCsZs"
   },
   "outputs": [],
   "source": [
    "tXtrain, tYtrain= tf.convert_to_tensor(Xtrain), tf.convert_to_tensor(Ytrain, dtype=tf.int32)\n",
    "tXval, tYval= tf.convert_to_tensor(Xval), tf.convert_to_tensor(Yval, dtype=tf.int32)"
   ]
  },
  {
   "cell_type": "markdown",
   "metadata": {
    "id": "CeUSAlziCsZs"
   },
   "source": [
    "## 1.3.2 Métricas de evaluación del rendimiento"
   ]
  },
  {
   "cell_type": "markdown",
   "metadata": {
    "id": "gXnJ5XjgCsZt"
   },
   "source": [
    "Usaremos la métrica accuracy, que mide la tasa de aciertos frente al total de predicciones:\n",
    "\n",
    "  $Acc={\\#Aciertos\\over{\\#Totales}}$.\n"
   ]
  },
  {
   "cell_type": "code",
   "execution_count": null,
   "metadata": {
    "id": "rU_tqoNHCsZt"
   },
   "outputs": [],
   "source": [
    "metrics = ['accuracy']"
   ]
  },
  {
   "cell_type": "markdown",
   "metadata": {
    "id": "XQnOKXE4CsZt"
   },
   "source": [
    "## 1.4 Modelos de deep learning"
   ]
  },
  {
   "cell_type": "markdown",
   "metadata": {
    "id": "pMglDxx8CsZt"
   },
   "source": [
    "**<u>Modelo C1</u>**"
   ]
  },
  {
   "cell_type": "markdown",
   "metadata": {
    "id": "7eqGFGuXCsZt"
   },
   "source": [
    "<table>\n",
    "<th>\n",
    "  <td><b>Layer Type</b></td>\n",
    "  <td><b>kernel type (conv.)</b></td>\n",
    "  <td><b>Input | Output dim.</b></td>\n",
    "  <td><b>Input | Output channels (conv.)</b></td>\n",
    "</th>\n",
    "<tr>\n",
    "  <td></td>\n",
    "  <td> Conv </td>\n",
    "  <td> 3x3 </td>\n",
    "  <td> 28x28 | 26x26 </td>\n",
    "  <td> 1 | 6 </td>\n",
    "</tr>\n",
    "<tr>\n",
    "  <td></td>\n",
    "  <td> ReLU </td>\n",
    "  <td> - </td>\n",
    "  <td> - </td>\n",
    "  <td> - </td>\n",
    "</tr>\n",
    "<tr>\n",
    "  <td></td>\n",
    "  <td> MaxPooling </td>\n",
    "  <td> 2x2 </td>\n",
    "  <td> 26x26 | 13x13 </td>\n",
    "  <td> - </td>\n",
    "</tr>\n",
    "<tr>\n",
    "  <td></td>\n",
    "  <td> Conv </td>\n",
    "  <td> 3x3 </td>\n",
    "  <td> 13x13 | 11x11 </td>\n",
    "  <td> 6 | 10 </td>\n",
    "</tr>\n",
    "<tr>\n",
    "  <td></td>\n",
    "  <td> ReLU </td>\n",
    "  <td> - </td>\n",
    "  <td> - </td>\n",
    "  <td> - </td>\n",
    "</tr>\n",
    "<tr>\n",
    "  <td></td>\n",
    "  <td> Batch Norm. </td>\n",
    "  <td> - </td>\n",
    "  <td> - </td>\n",
    "  <td> - </td>\n",
    "</tr>\n",
    "<tr>\n",
    "  <td></td>\n",
    "  <td> MaxPooling </td>\n",
    "  <td> 2x2 </td>\n",
    "  <td> 11x11 | 5x5 </td>\n",
    "  <td> - </td>\n",
    "</tr>\n",
    "<tr>\n",
    "  <td></td>\n",
    "  <td> FC </td>\n",
    "  <td> - </td>\n",
    "  <td> 250 | 128 </td>\n",
    "  <td> - </td>\n",
    "</tr>\n",
    "<tr>\n",
    "  <td></td>\n",
    "  <td> ReLU </td>\n",
    "  <td> - </td>\n",
    "  <td> - </td>\n",
    "  <td> - </td>\n",
    "</tr>\n",
    "<tr>\n",
    "  <td></td>\n",
    "  <td> FC </td>\n",
    "  <td> - </td>\n",
    "  <td> 128 | 10 </td>\n",
    "  <td> - </td>\n",
    "</tr>\n",
    "</table>"
   ]
  },
  {
   "cell_type": "markdown",
   "metadata": {
    "id": "ikAp0xfqCsZz"
   },
   "source": [
    "Construimos el modelo C1 con sus correspondientes capas:"
   ]
  },
  {
   "cell_type": "code",
   "execution_count": null,
   "metadata": {
    "id": "hnp-ZLHpCsZ0"
   },
   "outputs": [],
   "source": [
    "from tensorflow.keras import Input, Sequential\n",
    "from tensorflow.keras.layers import Conv2D, Dense, MaxPooling2D, BatchNormalization, Flatten\n",
    "\n",
    "# Creamos el modelo y las dimensiones de input\n",
    "modelC1 = Sequential()\n",
    "modelC1.add( Input(shape= (tXtrain.shape[1], tXtrain.shape[2], tXtrain.shape[3])) )\n",
    "\n",
    "modelC1.add( Conv2D(filters=6, kernel_size=(3,3), padding='valid', activation='relu'))\n",
    "\n",
    "modelC1.add( MaxPooling2D(pool_size=(2,2)) )\n",
    "\n",
    "modelC1.add( Conv2D(filters=10, kernel_size=(3,3), padding='valid', activation='relu'))\n",
    "\n",
    "modelC1.add( BatchNormalization() )\n",
    "\n",
    "modelC1.add( MaxPooling2D(pool_size=(2,2)) )\n",
    "\n",
    "# Usamos Flatten para transformar la salida de una capa Conv2D a capa densa\n",
    "modelC1.add ( Flatten () )\n",
    "\n",
    "modelC1.add( Dense(128, activation='relu') )\n",
    "\n",
    "# Capa densa de salida (softmax para clasificación)\n",
    "modelC1.add( Dense(10, activation='softmax') )"
   ]
  },
  {
   "cell_type": "markdown",
   "metadata": {
    "id": "m13TCohUCsZ0"
   },
   "source": [
    "Función de pérdida:\n",
    "\n",
    "Para probar el modelo, usaremos la función de pérdida sparse_categorical_crossentropy."
   ]
  },
  {
   "cell_type": "code",
   "execution_count": null,
   "metadata": {
    "id": "TRsU-GeMCsZ0"
   },
   "outputs": [],
   "source": [
    "from tensorflow.keras.losses import sparse_categorical_crossentropy"
   ]
  },
  {
   "cell_type": "markdown",
   "metadata": {
    "id": "rI4DZixjCsZ0"
   },
   "source": [
    "Algoritmo de aprendizaje:\n",
    "\n",
    "Probaremos inicialmente con el algoritmo de aprendizaje Adam:"
   ]
  },
  {
   "cell_type": "code",
   "execution_count": null,
   "metadata": {
    "id": "WH5r0l8iCsZ0"
   },
   "outputs": [],
   "source": [
    "from tensorflow.keras.optimizers import Adam"
   ]
  },
  {
   "cell_type": "markdown",
   "metadata": {
    "id": "Guf1bbTaCsZ0"
   },
   "source": [
    "Compilación del modelo con la correspondiente función de pérdida y algoritmo de aprendizaje:"
   ]
  },
  {
   "cell_type": "code",
   "execution_count": null,
   "metadata": {
    "colab": {
     "base_uri": "https://localhost:8080/",
     "height": 497
    },
    "executionInfo": {
     "elapsed": 94,
     "status": "ok",
     "timestamp": 1748028127332,
     "user": {
      "displayName": "José Sánchez",
      "userId": "04755864308978426799"
     },
     "user_tz": -120
    },
    "id": "VCvnPffqCsZ1",
    "outputId": "9acb4e55-d7f6-41f2-e183-969e4b167387"
   },
   "outputs": [
    {
     "data": {
      "text/html": [
       "<pre style=\"white-space:pre;overflow-x:auto;line-height:normal;font-family:Menlo,'DejaVu Sans Mono',consolas,'Courier New',monospace\"><span style=\"font-weight: bold\">Model: \"sequential\"</span>\n",
       "</pre>\n"
      ],
      "text/plain": [
       "\u001b[1mModel: \"sequential\"\u001b[0m\n"
      ]
     },
     "metadata": {},
     "output_type": "display_data"
    },
    {
     "data": {
      "text/html": [
       "<pre style=\"white-space:pre;overflow-x:auto;line-height:normal;font-family:Menlo,'DejaVu Sans Mono',consolas,'Courier New',monospace\">┏━━━━━━━━━━━━━━━━━━━━━━━━━━━━━━━━━┳━━━━━━━━━━━━━━━━━━━━━━━━┳━━━━━━━━━━━━━━━┓\n",
       "┃<span style=\"font-weight: bold\"> Layer (type)                    </span>┃<span style=\"font-weight: bold\"> Output Shape           </span>┃<span style=\"font-weight: bold\">       Param # </span>┃\n",
       "┡━━━━━━━━━━━━━━━━━━━━━━━━━━━━━━━━━╇━━━━━━━━━━━━━━━━━━━━━━━━╇━━━━━━━━━━━━━━━┩\n",
       "│ conv2d (<span style=\"color: #0087ff; text-decoration-color: #0087ff\">Conv2D</span>)                 │ (<span style=\"color: #00d7ff; text-decoration-color: #00d7ff\">None</span>, <span style=\"color: #00af00; text-decoration-color: #00af00\">26</span>, <span style=\"color: #00af00; text-decoration-color: #00af00\">26</span>, <span style=\"color: #00af00; text-decoration-color: #00af00\">6</span>)      │            <span style=\"color: #00af00; text-decoration-color: #00af00\">60</span> │\n",
       "├─────────────────────────────────┼────────────────────────┼───────────────┤\n",
       "│ max_pooling2d (<span style=\"color: #0087ff; text-decoration-color: #0087ff\">MaxPooling2D</span>)    │ (<span style=\"color: #00d7ff; text-decoration-color: #00d7ff\">None</span>, <span style=\"color: #00af00; text-decoration-color: #00af00\">13</span>, <span style=\"color: #00af00; text-decoration-color: #00af00\">13</span>, <span style=\"color: #00af00; text-decoration-color: #00af00\">6</span>)      │             <span style=\"color: #00af00; text-decoration-color: #00af00\">0</span> │\n",
       "├─────────────────────────────────┼────────────────────────┼───────────────┤\n",
       "│ conv2d_1 (<span style=\"color: #0087ff; text-decoration-color: #0087ff\">Conv2D</span>)               │ (<span style=\"color: #00d7ff; text-decoration-color: #00d7ff\">None</span>, <span style=\"color: #00af00; text-decoration-color: #00af00\">11</span>, <span style=\"color: #00af00; text-decoration-color: #00af00\">11</span>, <span style=\"color: #00af00; text-decoration-color: #00af00\">10</span>)     │           <span style=\"color: #00af00; text-decoration-color: #00af00\">550</span> │\n",
       "├─────────────────────────────────┼────────────────────────┼───────────────┤\n",
       "│ batch_normalization             │ (<span style=\"color: #00d7ff; text-decoration-color: #00d7ff\">None</span>, <span style=\"color: #00af00; text-decoration-color: #00af00\">11</span>, <span style=\"color: #00af00; text-decoration-color: #00af00\">11</span>, <span style=\"color: #00af00; text-decoration-color: #00af00\">10</span>)     │            <span style=\"color: #00af00; text-decoration-color: #00af00\">40</span> │\n",
       "│ (<span style=\"color: #0087ff; text-decoration-color: #0087ff\">BatchNormalization</span>)            │                        │               │\n",
       "├─────────────────────────────────┼────────────────────────┼───────────────┤\n",
       "│ max_pooling2d_1 (<span style=\"color: #0087ff; text-decoration-color: #0087ff\">MaxPooling2D</span>)  │ (<span style=\"color: #00d7ff; text-decoration-color: #00d7ff\">None</span>, <span style=\"color: #00af00; text-decoration-color: #00af00\">5</span>, <span style=\"color: #00af00; text-decoration-color: #00af00\">5</span>, <span style=\"color: #00af00; text-decoration-color: #00af00\">10</span>)       │             <span style=\"color: #00af00; text-decoration-color: #00af00\">0</span> │\n",
       "├─────────────────────────────────┼────────────────────────┼───────────────┤\n",
       "│ flatten (<span style=\"color: #0087ff; text-decoration-color: #0087ff\">Flatten</span>)               │ (<span style=\"color: #00d7ff; text-decoration-color: #00d7ff\">None</span>, <span style=\"color: #00af00; text-decoration-color: #00af00\">250</span>)            │             <span style=\"color: #00af00; text-decoration-color: #00af00\">0</span> │\n",
       "├─────────────────────────────────┼────────────────────────┼───────────────┤\n",
       "│ dense (<span style=\"color: #0087ff; text-decoration-color: #0087ff\">Dense</span>)                   │ (<span style=\"color: #00d7ff; text-decoration-color: #00d7ff\">None</span>, <span style=\"color: #00af00; text-decoration-color: #00af00\">128</span>)            │        <span style=\"color: #00af00; text-decoration-color: #00af00\">32,128</span> │\n",
       "├─────────────────────────────────┼────────────────────────┼───────────────┤\n",
       "│ dense_1 (<span style=\"color: #0087ff; text-decoration-color: #0087ff\">Dense</span>)                 │ (<span style=\"color: #00d7ff; text-decoration-color: #00d7ff\">None</span>, <span style=\"color: #00af00; text-decoration-color: #00af00\">10</span>)             │         <span style=\"color: #00af00; text-decoration-color: #00af00\">1,290</span> │\n",
       "└─────────────────────────────────┴────────────────────────┴───────────────┘\n",
       "</pre>\n"
      ],
      "text/plain": [
       "┏━━━━━━━━━━━━━━━━━━━━━━━━━━━━━━━━━┳━━━━━━━━━━━━━━━━━━━━━━━━┳━━━━━━━━━━━━━━━┓\n",
       "┃\u001b[1m \u001b[0m\u001b[1mLayer (type)                   \u001b[0m\u001b[1m \u001b[0m┃\u001b[1m \u001b[0m\u001b[1mOutput Shape          \u001b[0m\u001b[1m \u001b[0m┃\u001b[1m \u001b[0m\u001b[1m      Param #\u001b[0m\u001b[1m \u001b[0m┃\n",
       "┡━━━━━━━━━━━━━━━━━━━━━━━━━━━━━━━━━╇━━━━━━━━━━━━━━━━━━━━━━━━╇━━━━━━━━━━━━━━━┩\n",
       "│ conv2d (\u001b[38;5;33mConv2D\u001b[0m)                 │ (\u001b[38;5;45mNone\u001b[0m, \u001b[38;5;34m26\u001b[0m, \u001b[38;5;34m26\u001b[0m, \u001b[38;5;34m6\u001b[0m)      │            \u001b[38;5;34m60\u001b[0m │\n",
       "├─────────────────────────────────┼────────────────────────┼───────────────┤\n",
       "│ max_pooling2d (\u001b[38;5;33mMaxPooling2D\u001b[0m)    │ (\u001b[38;5;45mNone\u001b[0m, \u001b[38;5;34m13\u001b[0m, \u001b[38;5;34m13\u001b[0m, \u001b[38;5;34m6\u001b[0m)      │             \u001b[38;5;34m0\u001b[0m │\n",
       "├─────────────────────────────────┼────────────────────────┼───────────────┤\n",
       "│ conv2d_1 (\u001b[38;5;33mConv2D\u001b[0m)               │ (\u001b[38;5;45mNone\u001b[0m, \u001b[38;5;34m11\u001b[0m, \u001b[38;5;34m11\u001b[0m, \u001b[38;5;34m10\u001b[0m)     │           \u001b[38;5;34m550\u001b[0m │\n",
       "├─────────────────────────────────┼────────────────────────┼───────────────┤\n",
       "│ batch_normalization             │ (\u001b[38;5;45mNone\u001b[0m, \u001b[38;5;34m11\u001b[0m, \u001b[38;5;34m11\u001b[0m, \u001b[38;5;34m10\u001b[0m)     │            \u001b[38;5;34m40\u001b[0m │\n",
       "│ (\u001b[38;5;33mBatchNormalization\u001b[0m)            │                        │               │\n",
       "├─────────────────────────────────┼────────────────────────┼───────────────┤\n",
       "│ max_pooling2d_1 (\u001b[38;5;33mMaxPooling2D\u001b[0m)  │ (\u001b[38;5;45mNone\u001b[0m, \u001b[38;5;34m5\u001b[0m, \u001b[38;5;34m5\u001b[0m, \u001b[38;5;34m10\u001b[0m)       │             \u001b[38;5;34m0\u001b[0m │\n",
       "├─────────────────────────────────┼────────────────────────┼───────────────┤\n",
       "│ flatten (\u001b[38;5;33mFlatten\u001b[0m)               │ (\u001b[38;5;45mNone\u001b[0m, \u001b[38;5;34m250\u001b[0m)            │             \u001b[38;5;34m0\u001b[0m │\n",
       "├─────────────────────────────────┼────────────────────────┼───────────────┤\n",
       "│ dense (\u001b[38;5;33mDense\u001b[0m)                   │ (\u001b[38;5;45mNone\u001b[0m, \u001b[38;5;34m128\u001b[0m)            │        \u001b[38;5;34m32,128\u001b[0m │\n",
       "├─────────────────────────────────┼────────────────────────┼───────────────┤\n",
       "│ dense_1 (\u001b[38;5;33mDense\u001b[0m)                 │ (\u001b[38;5;45mNone\u001b[0m, \u001b[38;5;34m10\u001b[0m)             │         \u001b[38;5;34m1,290\u001b[0m │\n",
       "└─────────────────────────────────┴────────────────────────┴───────────────┘\n"
      ]
     },
     "metadata": {},
     "output_type": "display_data"
    },
    {
     "data": {
      "text/html": [
       "<pre style=\"white-space:pre;overflow-x:auto;line-height:normal;font-family:Menlo,'DejaVu Sans Mono',consolas,'Courier New',monospace\"><span style=\"font-weight: bold\"> Total params: </span><span style=\"color: #00af00; text-decoration-color: #00af00\">34,068</span> (133.08 KB)\n",
       "</pre>\n"
      ],
      "text/plain": [
       "\u001b[1m Total params: \u001b[0m\u001b[38;5;34m34,068\u001b[0m (133.08 KB)\n"
      ]
     },
     "metadata": {},
     "output_type": "display_data"
    },
    {
     "data": {
      "text/html": [
       "<pre style=\"white-space:pre;overflow-x:auto;line-height:normal;font-family:Menlo,'DejaVu Sans Mono',consolas,'Courier New',monospace\"><span style=\"font-weight: bold\"> Trainable params: </span><span style=\"color: #00af00; text-decoration-color: #00af00\">34,048</span> (133.00 KB)\n",
       "</pre>\n"
      ],
      "text/plain": [
       "\u001b[1m Trainable params: \u001b[0m\u001b[38;5;34m34,048\u001b[0m (133.00 KB)\n"
      ]
     },
     "metadata": {},
     "output_type": "display_data"
    },
    {
     "data": {
      "text/html": [
       "<pre style=\"white-space:pre;overflow-x:auto;line-height:normal;font-family:Menlo,'DejaVu Sans Mono',consolas,'Courier New',monospace\"><span style=\"font-weight: bold\"> Non-trainable params: </span><span style=\"color: #00af00; text-decoration-color: #00af00\">20</span> (80.00 B)\n",
       "</pre>\n"
      ],
      "text/plain": [
       "\u001b[1m Non-trainable params: \u001b[0m\u001b[38;5;34m20\u001b[0m (80.00 B)\n"
      ]
     },
     "metadata": {},
     "output_type": "display_data"
    }
   ],
   "source": [
    "from keras.models import clone_model\n",
    "\n",
    "modelC1_with_bs_64 = clone_model(modelC1)\n",
    "modelC1_with_bs_1000 = clone_model(modelC1)\n",
    "\n",
    "modelC1_with_bs_64.compile(optimizer=Adam(learning_rate=0.001), loss=sparse_categorical_crossentropy, metrics=metrics)\n",
    "modelC1_with_bs_1000.compile(optimizer=Adam(learning_rate=0.001), loss=sparse_categorical_crossentropy, metrics=metrics)\n",
    "\n",
    "modelC1_with_bs_64.summary()"
   ]
  },
  {
   "cell_type": "markdown",
   "metadata": {
    "id": "nVdVE8V8CsZ1"
   },
   "source": [
    "Entrenamos el modelo con 20 etapas y un batch size de 64 y 1000:"
   ]
  },
  {
   "cell_type": "code",
   "execution_count": null,
   "metadata": {
    "colab": {
     "base_uri": "https://localhost:8080/"
    },
    "executionInfo": {
     "elapsed": 71625,
     "status": "ok",
     "timestamp": 1748028198961,
     "user": {
      "displayName": "José Sánchez",
      "userId": "04755864308978426799"
     },
     "user_tz": -120
    },
    "id": "To8wSb2jCsZ1",
    "outputId": "f7f49265-2189-4e97-8619-bddc53cde002"
   },
   "outputs": [
    {
     "name": "stdout",
     "output_type": "stream",
     "text": [
      "Epoch 1/20\n",
      "\u001b[1m750/750\u001b[0m \u001b[32m━━━━━━━━━━━━━━━━━━━━\u001b[0m\u001b[37m\u001b[0m \u001b[1m6s\u001b[0m 3ms/step - accuracy: 0.7516 - loss: 0.6997\n",
      "Epoch 2/20\n",
      "\u001b[1m750/750\u001b[0m \u001b[32m━━━━━━━━━━━━━━━━━━━━\u001b[0m\u001b[37m\u001b[0m \u001b[1m3s\u001b[0m 3ms/step - accuracy: 0.8718 - loss: 0.3545\n",
      "Epoch 3/20\n",
      "\u001b[1m750/750\u001b[0m \u001b[32m━━━━━━━━━━━━━━━━━━━━\u001b[0m\u001b[37m\u001b[0m \u001b[1m3s\u001b[0m 3ms/step - accuracy: 0.8886 - loss: 0.3079\n",
      "Epoch 4/20\n",
      "\u001b[1m750/750\u001b[0m \u001b[32m━━━━━━━━━━━━━━━━━━━━\u001b[0m\u001b[37m\u001b[0m \u001b[1m3s\u001b[0m 3ms/step - accuracy: 0.8970 - loss: 0.2773\n",
      "Epoch 5/20\n",
      "\u001b[1m750/750\u001b[0m \u001b[32m━━━━━━━━━━━━━━━━━━━━\u001b[0m\u001b[37m\u001b[0m \u001b[1m4s\u001b[0m 5ms/step - accuracy: 0.9042 - loss: 0.2570\n",
      "Epoch 6/20\n",
      "\u001b[1m750/750\u001b[0m \u001b[32m━━━━━━━━━━━━━━━━━━━━\u001b[0m\u001b[37m\u001b[0m \u001b[1m4s\u001b[0m 5ms/step - accuracy: 0.9093 - loss: 0.2437\n",
      "Epoch 7/20\n",
      "\u001b[1m750/750\u001b[0m \u001b[32m━━━━━━━━━━━━━━━━━━━━\u001b[0m\u001b[37m\u001b[0m \u001b[1m3s\u001b[0m 4ms/step - accuracy: 0.9169 - loss: 0.2219\n",
      "Epoch 8/20\n",
      "\u001b[1m750/750\u001b[0m \u001b[32m━━━━━━━━━━━━━━━━━━━━\u001b[0m\u001b[37m\u001b[0m \u001b[1m2s\u001b[0m 3ms/step - accuracy: 0.9205 - loss: 0.2121\n",
      "Epoch 9/20\n",
      "\u001b[1m750/750\u001b[0m \u001b[32m━━━━━━━━━━━━━━━━━━━━\u001b[0m\u001b[37m\u001b[0m \u001b[1m2s\u001b[0m 3ms/step - accuracy: 0.9280 - loss: 0.1927\n",
      "Epoch 10/20\n",
      "\u001b[1m750/750\u001b[0m \u001b[32m━━━━━━━━━━━━━━━━━━━━\u001b[0m\u001b[37m\u001b[0m \u001b[1m2s\u001b[0m 3ms/step - accuracy: 0.9318 - loss: 0.1859\n",
      "Epoch 11/20\n",
      "\u001b[1m750/750\u001b[0m \u001b[32m━━━━━━━━━━━━━━━━━━━━\u001b[0m\u001b[37m\u001b[0m \u001b[1m2s\u001b[0m 3ms/step - accuracy: 0.9376 - loss: 0.1704\n",
      "Epoch 12/20\n",
      "\u001b[1m750/750\u001b[0m \u001b[32m━━━━━━━━━━━━━━━━━━━━\u001b[0m\u001b[37m\u001b[0m \u001b[1m3s\u001b[0m 3ms/step - accuracy: 0.9429 - loss: 0.1593\n",
      "Epoch 13/20\n",
      "\u001b[1m750/750\u001b[0m \u001b[32m━━━━━━━━━━━━━━━━━━━━\u001b[0m\u001b[37m\u001b[0m \u001b[1m3s\u001b[0m 4ms/step - accuracy: 0.9437 - loss: 0.1517\n",
      "Epoch 14/20\n",
      "\u001b[1m750/750\u001b[0m \u001b[32m━━━━━━━━━━━━━━━━━━━━\u001b[0m\u001b[37m\u001b[0m \u001b[1m4s\u001b[0m 3ms/step - accuracy: 0.9479 - loss: 0.1406\n",
      "Epoch 15/20\n",
      "\u001b[1m750/750\u001b[0m \u001b[32m━━━━━━━━━━━━━━━━━━━━\u001b[0m\u001b[37m\u001b[0m \u001b[1m3s\u001b[0m 3ms/step - accuracy: 0.9501 - loss: 0.1313\n",
      "Epoch 16/20\n",
      "\u001b[1m750/750\u001b[0m \u001b[32m━━━━━━━━━━━━━━━━━━━━\u001b[0m\u001b[37m\u001b[0m \u001b[1m3s\u001b[0m 3ms/step - accuracy: 0.9525 - loss: 0.1270\n",
      "Epoch 17/20\n",
      "\u001b[1m750/750\u001b[0m \u001b[32m━━━━━━━━━━━━━━━━━━━━\u001b[0m\u001b[37m\u001b[0m \u001b[1m2s\u001b[0m 3ms/step - accuracy: 0.9562 - loss: 0.1159\n",
      "Epoch 18/20\n",
      "\u001b[1m750/750\u001b[0m \u001b[32m━━━━━━━━━━━━━━━━━━━━\u001b[0m\u001b[37m\u001b[0m \u001b[1m3s\u001b[0m 4ms/step - accuracy: 0.9624 - loss: 0.1048\n",
      "Epoch 19/20\n",
      "\u001b[1m750/750\u001b[0m \u001b[32m━━━━━━━━━━━━━━━━━━━━\u001b[0m\u001b[37m\u001b[0m \u001b[1m4s\u001b[0m 3ms/step - accuracy: 0.9636 - loss: 0.1003\n",
      "Epoch 20/20\n",
      "\u001b[1m750/750\u001b[0m \u001b[32m━━━━━━━━━━━━━━━━━━━━\u001b[0m\u001b[37m\u001b[0m \u001b[1m2s\u001b[0m 3ms/step - accuracy: 0.9652 - loss: 0.0937\n",
      "Epoch 1/20\n",
      "\u001b[1m48/48\u001b[0m \u001b[32m━━━━━━━━━━━━━━━━━━━━\u001b[0m\u001b[37m\u001b[0m \u001b[1m4s\u001b[0m 7ms/step - accuracy: 0.5130 - loss: 1.5459\n",
      "Epoch 2/20\n",
      "\u001b[1m48/48\u001b[0m \u001b[32m━━━━━━━━━━━━━━━━━━━━\u001b[0m\u001b[37m\u001b[0m \u001b[1m1s\u001b[0m 8ms/step - accuracy: 0.8102 - loss: 0.5271\n",
      "Epoch 3/20\n",
      "\u001b[1m48/48\u001b[0m \u001b[32m━━━━━━━━━━━━━━━━━━━━\u001b[0m\u001b[37m\u001b[0m \u001b[1m0s\u001b[0m 7ms/step - accuracy: 0.8406 - loss: 0.4435\n",
      "Epoch 4/20\n",
      "\u001b[1m48/48\u001b[0m \u001b[32m━━━━━━━━━━━━━━━━━━━━\u001b[0m\u001b[37m\u001b[0m \u001b[1m0s\u001b[0m 6ms/step - accuracy: 0.8571 - loss: 0.3990\n",
      "Epoch 5/20\n",
      "\u001b[1m48/48\u001b[0m \u001b[32m━━━━━━━━━━━━━━━━━━━━\u001b[0m\u001b[37m\u001b[0m \u001b[1m1s\u001b[0m 6ms/step - accuracy: 0.8682 - loss: 0.3682\n",
      "Epoch 6/20\n",
      "\u001b[1m48/48\u001b[0m \u001b[32m━━━━━━━━━━━━━━━━━━━━\u001b[0m\u001b[37m\u001b[0m \u001b[1m0s\u001b[0m 6ms/step - accuracy: 0.8773 - loss: 0.3475\n",
      "Epoch 7/20\n",
      "\u001b[1m48/48\u001b[0m \u001b[32m━━━━━━━━━━━━━━━━━━━━\u001b[0m\u001b[37m\u001b[0m \u001b[1m0s\u001b[0m 6ms/step - accuracy: 0.8811 - loss: 0.3268\n",
      "Epoch 8/20\n",
      "\u001b[1m48/48\u001b[0m \u001b[32m━━━━━━━━━━━━━━━━━━━━\u001b[0m\u001b[37m\u001b[0m \u001b[1m0s\u001b[0m 6ms/step - accuracy: 0.8908 - loss: 0.3122\n",
      "Epoch 9/20\n",
      "\u001b[1m48/48\u001b[0m \u001b[32m━━━━━━━━━━━━━━━━━━━━\u001b[0m\u001b[37m\u001b[0m \u001b[1m0s\u001b[0m 6ms/step - accuracy: 0.8926 - loss: 0.2990\n",
      "Epoch 10/20\n",
      "\u001b[1m48/48\u001b[0m \u001b[32m━━━━━━━━━━━━━━━━━━━━\u001b[0m\u001b[37m\u001b[0m \u001b[1m0s\u001b[0m 6ms/step - accuracy: 0.8965 - loss: 0.2865\n",
      "Epoch 11/20\n",
      "\u001b[1m48/48\u001b[0m \u001b[32m━━━━━━━━━━━━━━━━━━━━\u001b[0m\u001b[37m\u001b[0m \u001b[1m1s\u001b[0m 6ms/step - accuracy: 0.8986 - loss: 0.2818\n",
      "Epoch 12/20\n",
      "\u001b[1m48/48\u001b[0m \u001b[32m━━━━━━━━━━━━━━━━━━━━\u001b[0m\u001b[37m\u001b[0m \u001b[1m1s\u001b[0m 6ms/step - accuracy: 0.9024 - loss: 0.2740\n",
      "Epoch 13/20\n",
      "\u001b[1m48/48\u001b[0m \u001b[32m━━━━━━━━━━━━━━━━━━━━\u001b[0m\u001b[37m\u001b[0m \u001b[1m0s\u001b[0m 6ms/step - accuracy: 0.9048 - loss: 0.2644\n",
      "Epoch 14/20\n",
      "\u001b[1m48/48\u001b[0m \u001b[32m━━━━━━━━━━━━━━━━━━━━\u001b[0m\u001b[37m\u001b[0m \u001b[1m1s\u001b[0m 6ms/step - accuracy: 0.9076 - loss: 0.2552\n",
      "Epoch 15/20\n",
      "\u001b[1m48/48\u001b[0m \u001b[32m━━━━━━━━━━━━━━━━━━━━\u001b[0m\u001b[37m\u001b[0m \u001b[1m0s\u001b[0m 6ms/step - accuracy: 0.9109 - loss: 0.2450\n",
      "Epoch 16/20\n",
      "\u001b[1m48/48\u001b[0m \u001b[32m━━━━━━━━━━━━━━━━━━━━\u001b[0m\u001b[37m\u001b[0m \u001b[1m0s\u001b[0m 6ms/step - accuracy: 0.9133 - loss: 0.2379\n",
      "Epoch 17/20\n",
      "\u001b[1m48/48\u001b[0m \u001b[32m━━━━━━━━━━━━━━━━━━━━\u001b[0m\u001b[37m\u001b[0m \u001b[1m0s\u001b[0m 6ms/step - accuracy: 0.9156 - loss: 0.2345\n",
      "Epoch 18/20\n",
      "\u001b[1m48/48\u001b[0m \u001b[32m━━━━━━━━━━━━━━━━━━━━\u001b[0m\u001b[37m\u001b[0m \u001b[1m0s\u001b[0m 6ms/step - accuracy: 0.9189 - loss: 0.2285\n",
      "Epoch 19/20\n",
      "\u001b[1m48/48\u001b[0m \u001b[32m━━━━━━━━━━━━━━━━━━━━\u001b[0m\u001b[37m\u001b[0m \u001b[1m0s\u001b[0m 6ms/step - accuracy: 0.9201 - loss: 0.2186\n",
      "Epoch 20/20\n",
      "\u001b[1m48/48\u001b[0m \u001b[32m━━━━━━━━━━━━━━━━━━━━\u001b[0m\u001b[37m\u001b[0m \u001b[1m1s\u001b[0m 6ms/step - accuracy: 0.9222 - loss: 0.2151\n"
     ]
    },
    {
     "data": {
      "text/plain": [
       "<keras.src.callbacks.history.History at 0x7c880038d550>"
      ]
     },
     "execution_count": 18,
     "metadata": {},
     "output_type": "execute_result"
    }
   ],
   "source": [
    "modelC1_with_bs_64.fit(tXtrain, tYtrain, batch_size=64, epochs=20)\n",
    "modelC1_with_bs_1000.fit(tXtrain, tYtrain, batch_size=1000, epochs=20)"
   ]
  },
  {
   "cell_type": "markdown",
   "metadata": {
    "id": "GU3zy2nQCsZ1"
   },
   "source": [
    "Definimos una función que nos permite evaluar un modelo y ver el resultado de sus métricas en Xtrain y Xval:"
   ]
  },
  {
   "cell_type": "code",
   "execution_count": null,
   "metadata": {
    "id": "jAyhtOh0CsZ1"
   },
   "outputs": [],
   "source": [
    "def evaluate_model(model, model_name):\n",
    "    ScoresTrain = model.evaluate(tXtrain, tYtrain)\n",
    "    ScoresVal = model.evaluate(tXval, tYval)\n",
    "\n",
    "    print(model_name + \":\")\n",
    "\n",
    "    print('\\tConjunto de entrenamiento:')\n",
    "    print(\"\\t\\tLoss Value:\", format(ScoresTrain[0]))\n",
    "    for i in range(len(metrics)):\n",
    "        print(\"\\t\\t\", metrics[i], \":\", ScoresTrain[i+1])\n",
    "\n",
    "    print('\\tConjunto de validación:')\n",
    "    print(\"\\t\\tLoss Value:\", format(ScoresVal[0]))\n",
    "    for i in range(len(metrics)):\n",
    "        print(\"\\t\\t\", metrics[i], \":\", ScoresVal[i+1])"
   ]
  },
  {
   "cell_type": "markdown",
   "metadata": {
    "id": "j5zRcRIwCsZ2"
   },
   "source": [
    "Vemos los resultados del modelo C1 con diferentes batch sizes:"
   ]
  },
  {
   "cell_type": "code",
   "execution_count": null,
   "metadata": {
    "colab": {
     "base_uri": "https://localhost:8080/"
    },
    "executionInfo": {
     "elapsed": 16417,
     "status": "ok",
     "timestamp": 1748028215384,
     "user": {
      "displayName": "José Sánchez",
      "userId": "04755864308978426799"
     },
     "user_tz": -120
    },
    "id": "14gEb461CsZ2",
    "outputId": "2b6055d1-1a82-43c8-b16c-886ec2267072"
   },
   "outputs": [
    {
     "name": "stdout",
     "output_type": "stream",
     "text": [
      "\u001b[1m1500/1500\u001b[0m \u001b[32m━━━━━━━━━━━━━━━━━━━━\u001b[0m\u001b[37m\u001b[0m \u001b[1m6s\u001b[0m 3ms/step - accuracy: 0.9638 - loss: 0.0951\n",
      "\u001b[1m375/375\u001b[0m \u001b[32m━━━━━━━━━━━━━━━━━━━━\u001b[0m\u001b[37m\u001b[0m \u001b[1m1s\u001b[0m 2ms/step - accuracy: 0.8893 - loss: 0.4344\n",
      "Modelo con batch size 64:\n",
      "\tConjunto de entrenamiento:\n",
      "\t\tLoss Value: 0.09397047758102417\n",
      "\t\t accuracy : 0.9642916917800903\n",
      "\tConjunto de validación:\n",
      "\t\tLoss Value: 0.442731112241745\n",
      "\t\t accuracy : 0.8857499957084656\n",
      "\n",
      "\u001b[1m1500/1500\u001b[0m \u001b[32m━━━━━━━━━━━━━━━━━━━━\u001b[0m\u001b[37m\u001b[0m \u001b[1m4s\u001b[0m 2ms/step - accuracy: 0.9252 - loss: 0.2104\n",
      "\u001b[1m375/375\u001b[0m \u001b[32m━━━━━━━━━━━━━━━━━━━━\u001b[0m\u001b[37m\u001b[0m \u001b[1m1s\u001b[0m 3ms/step - accuracy: 0.8905 - loss: 0.3116\n",
      "Modelo con batch size 1000:\n",
      "\tConjunto de entrenamiento:\n",
      "\t\tLoss Value: 0.20644232630729675\n",
      "\t\t accuracy : 0.926395833492279\n",
      "\tConjunto de validación:\n",
      "\t\tLoss Value: 0.31463608145713806\n",
      "\t\t accuracy : 0.8881666660308838\n"
     ]
    }
   ],
   "source": [
    "evaluate_model(modelC1_with_bs_64, \"Modelo con batch size 64\")\n",
    "print()\n",
    "evaluate_model(modelC1_with_bs_1000, \"Modelo con batch size 1000\")"
   ]
  },
  {
   "cell_type": "markdown",
   "metadata": {
    "id": "3PlcPAHPCsZ2"
   },
   "source": [
    "Vemos como para batch size 64 se obtienen muy buenos resultados en el conjunto de entrenamiento, mejor que con batch size 1000, puede deberse a que hay una mejor generalización y al que al hacer actualizaciones más frecuentes la convergencia es más rápida.\n",
    "\n",
    "En el conjunto de validación se obtienen resultados peores en los dos casos, alrededor de 0.88 de accuracy, puede deberse a que no ha generalizado bien o hay alguna clase que da problemas."
   ]
  },
  {
   "cell_type": "markdown",
   "metadata": {
    "id": "BIgai9e-CsZ2"
   },
   "source": [
    "**<u>Modelo C2</u>**"
   ]
  },
  {
   "cell_type": "markdown",
   "metadata": {
    "id": "FXg-8hTPCsZ2"
   },
   "source": [
    "\n",
    "<table>\n",
    "<th>\n",
    "  <td><b>Layer Type</b></td>\n",
    "  <td><b>kernel type (conv.)</b></td>\n",
    "  <td><b>Input | Output dim.</b></td>\n",
    "  <td><b>Input | Output channels (conv.)</b></td>\n",
    "</th>\n",
    "<tr>\n",
    "  <td></td>\n",
    "  <td> Conv </td>\n",
    "  <td> 3x3 </td>\n",
    "  <td> 28x28 | 28x28 </td>\n",
    "  <td> 1 | 112 </td>\n",
    "</tr>\n",
    "<tr>\n",
    "  <td></td>\n",
    "  <td> Batch Norm. </td>\n",
    "  <td> - </td>\n",
    "  <td> - </td>\n",
    "  <td> - </td>\n",
    "</tr>\n",
    "<tr>\n",
    "  <td></td>\n",
    "  <td> ReLU </td>\n",
    "  <td> - </td>\n",
    "  <td> - </td>\n",
    "  <td> - </td>\n",
    "</tr>\n",
    "<tr>\n",
    "  <td></td>\n",
    "  <td> Conv </td>\n",
    "  <td> 3x3 </td>\n",
    "  <td> 28x28 | 28x28 </td>\n",
    "  <td> 112 | 64 </td>\n",
    "</tr>\n",
    "<tr>\n",
    "  <td></td>\n",
    "  <td> Batch Norm. </td>\n",
    "  <td> - </td>\n",
    "  <td> - </td>\n",
    "  <td> - </td>\n",
    "</tr>\n",
    "<tr>\n",
    "  <td></td>\n",
    "  <td> ReLU </td>\n",
    "  <td> - </td>\n",
    "  <td> - </td>\n",
    "  <td> - </td>\n",
    "</tr>\n",
    "<tr>\n",
    "  <td></td>\n",
    "  <td> Conv </td>\n",
    "  <td> 3x3 </td>\n",
    "  <td> 28x28 | 28x28 </td>\n",
    "  <td> 64 | 128 </td>\n",
    "</tr>\n",
    "<tr>\n",
    "  <td></td>\n",
    "  <td> Batch Norm. </td>\n",
    "  <td> - </td>\n",
    "  <td> - </td>\n",
    "  <td> - </td>\n",
    "</tr>\n",
    "<tr>\n",
    "  <td></td>\n",
    "  <td> ReLU </td>\n",
    "  <td> - </td>\n",
    "  <td> - </td>\n",
    "  <td> - </td>\n",
    "</tr>\n",
    "<tr>\n",
    "  <td></td>\n",
    "  <td> MaxPooling </td>\n",
    "  <td> 2x2 </td>\n",
    "  <td> 28x28 | 14x14 </td>\n",
    "  <td> - </td>\n",
    "</tr>\n",
    "<tr>\n",
    "  <td></td>\n",
    "  <td> FC </td>\n",
    "  <td> - </td>\n",
    "  <td> 25088 | 208 </td>\n",
    "  <td> - </td>\n",
    "</tr>\n",
    "<tr>\n",
    "  <td></td>\n",
    "  <td> Dropout(0.1) </td>\n",
    "  <td> - </td>\n",
    "  <td> - </td>\n",
    "  <td> - </td>\n",
    "</tr>\n",
    "<tr>\n",
    "  <td></td>\n",
    "  <td> ReLU </td>\n",
    "  <td> - </td>\n",
    "  <td> - </td>\n",
    "  <td> - </td>\n",
    "</tr>\n",
    "<tr>\n",
    "  <td></td>\n",
    "  <td> FC </td>\n",
    "  <td> - </td>\n",
    "  <td> 208 | 160 </td>\n",
    "  <td> - </td>\n",
    "</tr>\n",
    "<tr>\n",
    "  <td></td>\n",
    "  <td> Dropout(0.1) </td>\n",
    "  <td> - </td>\n",
    "  <td> - </td>\n",
    "  <td> - </td>\n",
    "</tr>\n",
    "<tr>\n",
    "  <td></td>\n",
    "  <td> ReLU </td>\n",
    "  <td> - </td>\n",
    "  <td> - </td>\n",
    "  <td> - </td>\n",
    "</tr>\n",
    "<tr>\n",
    "  <td></td>\n",
    "  <td> FC </td>\n",
    "  <td> - </td>\n",
    "  <td> 160 | 128 </td>\n",
    "  <td> - </td>\n",
    "</tr>\n",
    "<tr>\n",
    "  <td></td>\n",
    "  <td> Dropout(0.1) </td>\n",
    "  <td> - </td>\n",
    "  <td> - </td>\n",
    "  <td> - </td>\n",
    "</tr>\n",
    "<tr>\n",
    "  <td></td>\n",
    "  <td> ReLU </td>\n",
    "  <td> - </td>\n",
    "  <td> - </td>\n",
    "  <td> - </td>\n",
    "</tr>\n",
    "<tr>\n",
    "  <td></td>\n",
    "  <td> FC </td>\n",
    "  <td> - </td>\n",
    "  <td> 128 | 10 </td>\n",
    "  <td> - </td>\n",
    "</tr>\n",
    "</table>\n"
   ]
  },
  {
   "cell_type": "markdown",
   "metadata": {
    "id": "bSFhdwL8CsZ2"
   },
   "source": [
    "Creamos la estructura del segundo modelo:"
   ]
  },
  {
   "cell_type": "code",
   "execution_count": null,
   "metadata": {
    "id": "9xPMWQ9qCsZ3"
   },
   "outputs": [],
   "source": [
    "from keras.layers import Dropout, Activation\n",
    "\n",
    "# Creamos el modelo y las dimensiones de input\n",
    "modelC2 = Sequential()\n",
    "modelC2.add( Input(shape= (tXtrain.shape[1], tXtrain.shape[2], tXtrain.shape[3])) )\n",
    "\n",
    "modelC2.add( Conv2D(filters=112, kernel_size=(3,3), padding='same'))\n",
    "\n",
    "modelC2.add(BatchNormalization())\n",
    "\n",
    "modelC2.add(Activation('relu'))\n",
    "\n",
    "modelC2.add( Conv2D(filters=64, kernel_size=(3,3), padding='same'))\n",
    "\n",
    "modelC2.add(BatchNormalization())\n",
    "\n",
    "modelC2.add(Activation('relu'))\n",
    "\n",
    "modelC2.add( Conv2D(filters=128, kernel_size=(3,3), padding='same'))\n",
    "\n",
    "modelC2.add(BatchNormalization())\n",
    "\n",
    "modelC2.add(Activation('relu'))\n",
    "\n",
    "modelC2.add( MaxPooling2D(pool_size=(2,2)) )\n",
    "\n",
    "# Usamos Flatten para transformar la salida de una capa Conv2D a una capa densa\n",
    "modelC2.add ( Flatten () )\n",
    "\n",
    "modelC2.add( Dense(208) )\n",
    "\n",
    "modelC2.add( Dropout(0.1) )\n",
    "\n",
    "modelC2.add(Activation('relu'))\n",
    "\n",
    "modelC2.add( Dense(160) )\n",
    "\n",
    "modelC2.add( Dropout(0.1) )\n",
    "\n",
    "modelC2.add(Activation('relu'))\n",
    "\n",
    "modelC2.add( Dense(128) )\n",
    "\n",
    "modelC2.add( Dropout(0.1) )\n",
    "\n",
    "modelC2.add(Activation('relu'))\n",
    "\n",
    "# Capa densa de salida (softmax para clasificación)\n",
    "modelC2.add( Dense(10, activation='softmax') )"
   ]
  },
  {
   "cell_type": "markdown",
   "metadata": {
    "id": "JRz9Wv2dCsZ3"
   },
   "source": [
    "Compilación del modelo con la función de pérdida y algoritmo de aprendizaje anteriores:"
   ]
  },
  {
   "cell_type": "code",
   "execution_count": null,
   "metadata": {
    "colab": {
     "base_uri": "https://localhost:8080/",
     "height": 1000
    },
    "executionInfo": {
     "elapsed": 266,
     "status": "ok",
     "timestamp": 1748028215939,
     "user": {
      "displayName": "José Sánchez",
      "userId": "04755864308978426799"
     },
     "user_tz": -120
    },
    "id": "_673P-YlCsZ3",
    "outputId": "41d6d9f5-15ce-4bf5-cbc1-d44e6e7701f0"
   },
   "outputs": [
    {
     "data": {
      "text/html": [
       "<pre style=\"white-space:pre;overflow-x:auto;line-height:normal;font-family:Menlo,'DejaVu Sans Mono',consolas,'Courier New',monospace\"><span style=\"font-weight: bold\">Model: \"sequential_1\"</span>\n",
       "</pre>\n"
      ],
      "text/plain": [
       "\u001b[1mModel: \"sequential_1\"\u001b[0m\n"
      ]
     },
     "metadata": {},
     "output_type": "display_data"
    },
    {
     "data": {
      "text/html": [
       "<pre style=\"white-space:pre;overflow-x:auto;line-height:normal;font-family:Menlo,'DejaVu Sans Mono',consolas,'Courier New',monospace\">┏━━━━━━━━━━━━━━━━━━━━━━━━━━━━━━━━━┳━━━━━━━━━━━━━━━━━━━━━━━━┳━━━━━━━━━━━━━━━┓\n",
       "┃<span style=\"font-weight: bold\"> Layer (type)                    </span>┃<span style=\"font-weight: bold\"> Output Shape           </span>┃<span style=\"font-weight: bold\">       Param # </span>┃\n",
       "┡━━━━━━━━━━━━━━━━━━━━━━━━━━━━━━━━━╇━━━━━━━━━━━━━━━━━━━━━━━━╇━━━━━━━━━━━━━━━┩\n",
       "│ conv2d_2 (<span style=\"color: #0087ff; text-decoration-color: #0087ff\">Conv2D</span>)               │ (<span style=\"color: #00d7ff; text-decoration-color: #00d7ff\">None</span>, <span style=\"color: #00af00; text-decoration-color: #00af00\">28</span>, <span style=\"color: #00af00; text-decoration-color: #00af00\">28</span>, <span style=\"color: #00af00; text-decoration-color: #00af00\">112</span>)    │         <span style=\"color: #00af00; text-decoration-color: #00af00\">1,120</span> │\n",
       "├─────────────────────────────────┼────────────────────────┼───────────────┤\n",
       "│ batch_normalization_1           │ (<span style=\"color: #00d7ff; text-decoration-color: #00d7ff\">None</span>, <span style=\"color: #00af00; text-decoration-color: #00af00\">28</span>, <span style=\"color: #00af00; text-decoration-color: #00af00\">28</span>, <span style=\"color: #00af00; text-decoration-color: #00af00\">112</span>)    │           <span style=\"color: #00af00; text-decoration-color: #00af00\">448</span> │\n",
       "│ (<span style=\"color: #0087ff; text-decoration-color: #0087ff\">BatchNormalization</span>)            │                        │               │\n",
       "├─────────────────────────────────┼────────────────────────┼───────────────┤\n",
       "│ activation (<span style=\"color: #0087ff; text-decoration-color: #0087ff\">Activation</span>)         │ (<span style=\"color: #00d7ff; text-decoration-color: #00d7ff\">None</span>, <span style=\"color: #00af00; text-decoration-color: #00af00\">28</span>, <span style=\"color: #00af00; text-decoration-color: #00af00\">28</span>, <span style=\"color: #00af00; text-decoration-color: #00af00\">112</span>)    │             <span style=\"color: #00af00; text-decoration-color: #00af00\">0</span> │\n",
       "├─────────────────────────────────┼────────────────────────┼───────────────┤\n",
       "│ conv2d_3 (<span style=\"color: #0087ff; text-decoration-color: #0087ff\">Conv2D</span>)               │ (<span style=\"color: #00d7ff; text-decoration-color: #00d7ff\">None</span>, <span style=\"color: #00af00; text-decoration-color: #00af00\">28</span>, <span style=\"color: #00af00; text-decoration-color: #00af00\">28</span>, <span style=\"color: #00af00; text-decoration-color: #00af00\">64</span>)     │        <span style=\"color: #00af00; text-decoration-color: #00af00\">64,576</span> │\n",
       "├─────────────────────────────────┼────────────────────────┼───────────────┤\n",
       "│ batch_normalization_2           │ (<span style=\"color: #00d7ff; text-decoration-color: #00d7ff\">None</span>, <span style=\"color: #00af00; text-decoration-color: #00af00\">28</span>, <span style=\"color: #00af00; text-decoration-color: #00af00\">28</span>, <span style=\"color: #00af00; text-decoration-color: #00af00\">64</span>)     │           <span style=\"color: #00af00; text-decoration-color: #00af00\">256</span> │\n",
       "│ (<span style=\"color: #0087ff; text-decoration-color: #0087ff\">BatchNormalization</span>)            │                        │               │\n",
       "├─────────────────────────────────┼────────────────────────┼───────────────┤\n",
       "│ activation_1 (<span style=\"color: #0087ff; text-decoration-color: #0087ff\">Activation</span>)       │ (<span style=\"color: #00d7ff; text-decoration-color: #00d7ff\">None</span>, <span style=\"color: #00af00; text-decoration-color: #00af00\">28</span>, <span style=\"color: #00af00; text-decoration-color: #00af00\">28</span>, <span style=\"color: #00af00; text-decoration-color: #00af00\">64</span>)     │             <span style=\"color: #00af00; text-decoration-color: #00af00\">0</span> │\n",
       "├─────────────────────────────────┼────────────────────────┼───────────────┤\n",
       "│ conv2d_4 (<span style=\"color: #0087ff; text-decoration-color: #0087ff\">Conv2D</span>)               │ (<span style=\"color: #00d7ff; text-decoration-color: #00d7ff\">None</span>, <span style=\"color: #00af00; text-decoration-color: #00af00\">28</span>, <span style=\"color: #00af00; text-decoration-color: #00af00\">28</span>, <span style=\"color: #00af00; text-decoration-color: #00af00\">128</span>)    │        <span style=\"color: #00af00; text-decoration-color: #00af00\">73,856</span> │\n",
       "├─────────────────────────────────┼────────────────────────┼───────────────┤\n",
       "│ batch_normalization_3           │ (<span style=\"color: #00d7ff; text-decoration-color: #00d7ff\">None</span>, <span style=\"color: #00af00; text-decoration-color: #00af00\">28</span>, <span style=\"color: #00af00; text-decoration-color: #00af00\">28</span>, <span style=\"color: #00af00; text-decoration-color: #00af00\">128</span>)    │           <span style=\"color: #00af00; text-decoration-color: #00af00\">512</span> │\n",
       "│ (<span style=\"color: #0087ff; text-decoration-color: #0087ff\">BatchNormalization</span>)            │                        │               │\n",
       "├─────────────────────────────────┼────────────────────────┼───────────────┤\n",
       "│ activation_2 (<span style=\"color: #0087ff; text-decoration-color: #0087ff\">Activation</span>)       │ (<span style=\"color: #00d7ff; text-decoration-color: #00d7ff\">None</span>, <span style=\"color: #00af00; text-decoration-color: #00af00\">28</span>, <span style=\"color: #00af00; text-decoration-color: #00af00\">28</span>, <span style=\"color: #00af00; text-decoration-color: #00af00\">128</span>)    │             <span style=\"color: #00af00; text-decoration-color: #00af00\">0</span> │\n",
       "├─────────────────────────────────┼────────────────────────┼───────────────┤\n",
       "│ max_pooling2d_2 (<span style=\"color: #0087ff; text-decoration-color: #0087ff\">MaxPooling2D</span>)  │ (<span style=\"color: #00d7ff; text-decoration-color: #00d7ff\">None</span>, <span style=\"color: #00af00; text-decoration-color: #00af00\">14</span>, <span style=\"color: #00af00; text-decoration-color: #00af00\">14</span>, <span style=\"color: #00af00; text-decoration-color: #00af00\">128</span>)    │             <span style=\"color: #00af00; text-decoration-color: #00af00\">0</span> │\n",
       "├─────────────────────────────────┼────────────────────────┼───────────────┤\n",
       "│ flatten_1 (<span style=\"color: #0087ff; text-decoration-color: #0087ff\">Flatten</span>)             │ (<span style=\"color: #00d7ff; text-decoration-color: #00d7ff\">None</span>, <span style=\"color: #00af00; text-decoration-color: #00af00\">25088</span>)          │             <span style=\"color: #00af00; text-decoration-color: #00af00\">0</span> │\n",
       "├─────────────────────────────────┼────────────────────────┼───────────────┤\n",
       "│ dense_2 (<span style=\"color: #0087ff; text-decoration-color: #0087ff\">Dense</span>)                 │ (<span style=\"color: #00d7ff; text-decoration-color: #00d7ff\">None</span>, <span style=\"color: #00af00; text-decoration-color: #00af00\">208</span>)            │     <span style=\"color: #00af00; text-decoration-color: #00af00\">5,218,512</span> │\n",
       "├─────────────────────────────────┼────────────────────────┼───────────────┤\n",
       "│ dropout (<span style=\"color: #0087ff; text-decoration-color: #0087ff\">Dropout</span>)               │ (<span style=\"color: #00d7ff; text-decoration-color: #00d7ff\">None</span>, <span style=\"color: #00af00; text-decoration-color: #00af00\">208</span>)            │             <span style=\"color: #00af00; text-decoration-color: #00af00\">0</span> │\n",
       "├─────────────────────────────────┼────────────────────────┼───────────────┤\n",
       "│ activation_3 (<span style=\"color: #0087ff; text-decoration-color: #0087ff\">Activation</span>)       │ (<span style=\"color: #00d7ff; text-decoration-color: #00d7ff\">None</span>, <span style=\"color: #00af00; text-decoration-color: #00af00\">208</span>)            │             <span style=\"color: #00af00; text-decoration-color: #00af00\">0</span> │\n",
       "├─────────────────────────────────┼────────────────────────┼───────────────┤\n",
       "│ dense_3 (<span style=\"color: #0087ff; text-decoration-color: #0087ff\">Dense</span>)                 │ (<span style=\"color: #00d7ff; text-decoration-color: #00d7ff\">None</span>, <span style=\"color: #00af00; text-decoration-color: #00af00\">160</span>)            │        <span style=\"color: #00af00; text-decoration-color: #00af00\">33,440</span> │\n",
       "├─────────────────────────────────┼────────────────────────┼───────────────┤\n",
       "│ dropout_1 (<span style=\"color: #0087ff; text-decoration-color: #0087ff\">Dropout</span>)             │ (<span style=\"color: #00d7ff; text-decoration-color: #00d7ff\">None</span>, <span style=\"color: #00af00; text-decoration-color: #00af00\">160</span>)            │             <span style=\"color: #00af00; text-decoration-color: #00af00\">0</span> │\n",
       "├─────────────────────────────────┼────────────────────────┼───────────────┤\n",
       "│ activation_4 (<span style=\"color: #0087ff; text-decoration-color: #0087ff\">Activation</span>)       │ (<span style=\"color: #00d7ff; text-decoration-color: #00d7ff\">None</span>, <span style=\"color: #00af00; text-decoration-color: #00af00\">160</span>)            │             <span style=\"color: #00af00; text-decoration-color: #00af00\">0</span> │\n",
       "├─────────────────────────────────┼────────────────────────┼───────────────┤\n",
       "│ dense_4 (<span style=\"color: #0087ff; text-decoration-color: #0087ff\">Dense</span>)                 │ (<span style=\"color: #00d7ff; text-decoration-color: #00d7ff\">None</span>, <span style=\"color: #00af00; text-decoration-color: #00af00\">128</span>)            │        <span style=\"color: #00af00; text-decoration-color: #00af00\">20,608</span> │\n",
       "├─────────────────────────────────┼────────────────────────┼───────────────┤\n",
       "│ dropout_2 (<span style=\"color: #0087ff; text-decoration-color: #0087ff\">Dropout</span>)             │ (<span style=\"color: #00d7ff; text-decoration-color: #00d7ff\">None</span>, <span style=\"color: #00af00; text-decoration-color: #00af00\">128</span>)            │             <span style=\"color: #00af00; text-decoration-color: #00af00\">0</span> │\n",
       "├─────────────────────────────────┼────────────────────────┼───────────────┤\n",
       "│ activation_5 (<span style=\"color: #0087ff; text-decoration-color: #0087ff\">Activation</span>)       │ (<span style=\"color: #00d7ff; text-decoration-color: #00d7ff\">None</span>, <span style=\"color: #00af00; text-decoration-color: #00af00\">128</span>)            │             <span style=\"color: #00af00; text-decoration-color: #00af00\">0</span> │\n",
       "├─────────────────────────────────┼────────────────────────┼───────────────┤\n",
       "│ dense_5 (<span style=\"color: #0087ff; text-decoration-color: #0087ff\">Dense</span>)                 │ (<span style=\"color: #00d7ff; text-decoration-color: #00d7ff\">None</span>, <span style=\"color: #00af00; text-decoration-color: #00af00\">10</span>)             │         <span style=\"color: #00af00; text-decoration-color: #00af00\">1,290</span> │\n",
       "└─────────────────────────────────┴────────────────────────┴───────────────┘\n",
       "</pre>\n"
      ],
      "text/plain": [
       "┏━━━━━━━━━━━━━━━━━━━━━━━━━━━━━━━━━┳━━━━━━━━━━━━━━━━━━━━━━━━┳━━━━━━━━━━━━━━━┓\n",
       "┃\u001b[1m \u001b[0m\u001b[1mLayer (type)                   \u001b[0m\u001b[1m \u001b[0m┃\u001b[1m \u001b[0m\u001b[1mOutput Shape          \u001b[0m\u001b[1m \u001b[0m┃\u001b[1m \u001b[0m\u001b[1m      Param #\u001b[0m\u001b[1m \u001b[0m┃\n",
       "┡━━━━━━━━━━━━━━━━━━━━━━━━━━━━━━━━━╇━━━━━━━━━━━━━━━━━━━━━━━━╇━━━━━━━━━━━━━━━┩\n",
       "│ conv2d_2 (\u001b[38;5;33mConv2D\u001b[0m)               │ (\u001b[38;5;45mNone\u001b[0m, \u001b[38;5;34m28\u001b[0m, \u001b[38;5;34m28\u001b[0m, \u001b[38;5;34m112\u001b[0m)    │         \u001b[38;5;34m1,120\u001b[0m │\n",
       "├─────────────────────────────────┼────────────────────────┼───────────────┤\n",
       "│ batch_normalization_1           │ (\u001b[38;5;45mNone\u001b[0m, \u001b[38;5;34m28\u001b[0m, \u001b[38;5;34m28\u001b[0m, \u001b[38;5;34m112\u001b[0m)    │           \u001b[38;5;34m448\u001b[0m │\n",
       "│ (\u001b[38;5;33mBatchNormalization\u001b[0m)            │                        │               │\n",
       "├─────────────────────────────────┼────────────────────────┼───────────────┤\n",
       "│ activation (\u001b[38;5;33mActivation\u001b[0m)         │ (\u001b[38;5;45mNone\u001b[0m, \u001b[38;5;34m28\u001b[0m, \u001b[38;5;34m28\u001b[0m, \u001b[38;5;34m112\u001b[0m)    │             \u001b[38;5;34m0\u001b[0m │\n",
       "├─────────────────────────────────┼────────────────────────┼───────────────┤\n",
       "│ conv2d_3 (\u001b[38;5;33mConv2D\u001b[0m)               │ (\u001b[38;5;45mNone\u001b[0m, \u001b[38;5;34m28\u001b[0m, \u001b[38;5;34m28\u001b[0m, \u001b[38;5;34m64\u001b[0m)     │        \u001b[38;5;34m64,576\u001b[0m │\n",
       "├─────────────────────────────────┼────────────────────────┼───────────────┤\n",
       "│ batch_normalization_2           │ (\u001b[38;5;45mNone\u001b[0m, \u001b[38;5;34m28\u001b[0m, \u001b[38;5;34m28\u001b[0m, \u001b[38;5;34m64\u001b[0m)     │           \u001b[38;5;34m256\u001b[0m │\n",
       "│ (\u001b[38;5;33mBatchNormalization\u001b[0m)            │                        │               │\n",
       "├─────────────────────────────────┼────────────────────────┼───────────────┤\n",
       "│ activation_1 (\u001b[38;5;33mActivation\u001b[0m)       │ (\u001b[38;5;45mNone\u001b[0m, \u001b[38;5;34m28\u001b[0m, \u001b[38;5;34m28\u001b[0m, \u001b[38;5;34m64\u001b[0m)     │             \u001b[38;5;34m0\u001b[0m │\n",
       "├─────────────────────────────────┼────────────────────────┼───────────────┤\n",
       "│ conv2d_4 (\u001b[38;5;33mConv2D\u001b[0m)               │ (\u001b[38;5;45mNone\u001b[0m, \u001b[38;5;34m28\u001b[0m, \u001b[38;5;34m28\u001b[0m, \u001b[38;5;34m128\u001b[0m)    │        \u001b[38;5;34m73,856\u001b[0m │\n",
       "├─────────────────────────────────┼────────────────────────┼───────────────┤\n",
       "│ batch_normalization_3           │ (\u001b[38;5;45mNone\u001b[0m, \u001b[38;5;34m28\u001b[0m, \u001b[38;5;34m28\u001b[0m, \u001b[38;5;34m128\u001b[0m)    │           \u001b[38;5;34m512\u001b[0m │\n",
       "│ (\u001b[38;5;33mBatchNormalization\u001b[0m)            │                        │               │\n",
       "├─────────────────────────────────┼────────────────────────┼───────────────┤\n",
       "│ activation_2 (\u001b[38;5;33mActivation\u001b[0m)       │ (\u001b[38;5;45mNone\u001b[0m, \u001b[38;5;34m28\u001b[0m, \u001b[38;5;34m28\u001b[0m, \u001b[38;5;34m128\u001b[0m)    │             \u001b[38;5;34m0\u001b[0m │\n",
       "├─────────────────────────────────┼────────────────────────┼───────────────┤\n",
       "│ max_pooling2d_2 (\u001b[38;5;33mMaxPooling2D\u001b[0m)  │ (\u001b[38;5;45mNone\u001b[0m, \u001b[38;5;34m14\u001b[0m, \u001b[38;5;34m14\u001b[0m, \u001b[38;5;34m128\u001b[0m)    │             \u001b[38;5;34m0\u001b[0m │\n",
       "├─────────────────────────────────┼────────────────────────┼───────────────┤\n",
       "│ flatten_1 (\u001b[38;5;33mFlatten\u001b[0m)             │ (\u001b[38;5;45mNone\u001b[0m, \u001b[38;5;34m25088\u001b[0m)          │             \u001b[38;5;34m0\u001b[0m │\n",
       "├─────────────────────────────────┼────────────────────────┼───────────────┤\n",
       "│ dense_2 (\u001b[38;5;33mDense\u001b[0m)                 │ (\u001b[38;5;45mNone\u001b[0m, \u001b[38;5;34m208\u001b[0m)            │     \u001b[38;5;34m5,218,512\u001b[0m │\n",
       "├─────────────────────────────────┼────────────────────────┼───────────────┤\n",
       "│ dropout (\u001b[38;5;33mDropout\u001b[0m)               │ (\u001b[38;5;45mNone\u001b[0m, \u001b[38;5;34m208\u001b[0m)            │             \u001b[38;5;34m0\u001b[0m │\n",
       "├─────────────────────────────────┼────────────────────────┼───────────────┤\n",
       "│ activation_3 (\u001b[38;5;33mActivation\u001b[0m)       │ (\u001b[38;5;45mNone\u001b[0m, \u001b[38;5;34m208\u001b[0m)            │             \u001b[38;5;34m0\u001b[0m │\n",
       "├─────────────────────────────────┼────────────────────────┼───────────────┤\n",
       "│ dense_3 (\u001b[38;5;33mDense\u001b[0m)                 │ (\u001b[38;5;45mNone\u001b[0m, \u001b[38;5;34m160\u001b[0m)            │        \u001b[38;5;34m33,440\u001b[0m │\n",
       "├─────────────────────────────────┼────────────────────────┼───────────────┤\n",
       "│ dropout_1 (\u001b[38;5;33mDropout\u001b[0m)             │ (\u001b[38;5;45mNone\u001b[0m, \u001b[38;5;34m160\u001b[0m)            │             \u001b[38;5;34m0\u001b[0m │\n",
       "├─────────────────────────────────┼────────────────────────┼───────────────┤\n",
       "│ activation_4 (\u001b[38;5;33mActivation\u001b[0m)       │ (\u001b[38;5;45mNone\u001b[0m, \u001b[38;5;34m160\u001b[0m)            │             \u001b[38;5;34m0\u001b[0m │\n",
       "├─────────────────────────────────┼────────────────────────┼───────────────┤\n",
       "│ dense_4 (\u001b[38;5;33mDense\u001b[0m)                 │ (\u001b[38;5;45mNone\u001b[0m, \u001b[38;5;34m128\u001b[0m)            │        \u001b[38;5;34m20,608\u001b[0m │\n",
       "├─────────────────────────────────┼────────────────────────┼───────────────┤\n",
       "│ dropout_2 (\u001b[38;5;33mDropout\u001b[0m)             │ (\u001b[38;5;45mNone\u001b[0m, \u001b[38;5;34m128\u001b[0m)            │             \u001b[38;5;34m0\u001b[0m │\n",
       "├─────────────────────────────────┼────────────────────────┼───────────────┤\n",
       "│ activation_5 (\u001b[38;5;33mActivation\u001b[0m)       │ (\u001b[38;5;45mNone\u001b[0m, \u001b[38;5;34m128\u001b[0m)            │             \u001b[38;5;34m0\u001b[0m │\n",
       "├─────────────────────────────────┼────────────────────────┼───────────────┤\n",
       "│ dense_5 (\u001b[38;5;33mDense\u001b[0m)                 │ (\u001b[38;5;45mNone\u001b[0m, \u001b[38;5;34m10\u001b[0m)             │         \u001b[38;5;34m1,290\u001b[0m │\n",
       "└─────────────────────────────────┴────────────────────────┴───────────────┘\n"
      ]
     },
     "metadata": {},
     "output_type": "display_data"
    },
    {
     "data": {
      "text/html": [
       "<pre style=\"white-space:pre;overflow-x:auto;line-height:normal;font-family:Menlo,'DejaVu Sans Mono',consolas,'Courier New',monospace\"><span style=\"font-weight: bold\"> Total params: </span><span style=\"color: #00af00; text-decoration-color: #00af00\">5,414,618</span> (20.66 MB)\n",
       "</pre>\n"
      ],
      "text/plain": [
       "\u001b[1m Total params: \u001b[0m\u001b[38;5;34m5,414,618\u001b[0m (20.66 MB)\n"
      ]
     },
     "metadata": {},
     "output_type": "display_data"
    },
    {
     "data": {
      "text/html": [
       "<pre style=\"white-space:pre;overflow-x:auto;line-height:normal;font-family:Menlo,'DejaVu Sans Mono',consolas,'Courier New',monospace\"><span style=\"font-weight: bold\"> Trainable params: </span><span style=\"color: #00af00; text-decoration-color: #00af00\">5,414,010</span> (20.65 MB)\n",
       "</pre>\n"
      ],
      "text/plain": [
       "\u001b[1m Trainable params: \u001b[0m\u001b[38;5;34m5,414,010\u001b[0m (20.65 MB)\n"
      ]
     },
     "metadata": {},
     "output_type": "display_data"
    },
    {
     "data": {
      "text/html": [
       "<pre style=\"white-space:pre;overflow-x:auto;line-height:normal;font-family:Menlo,'DejaVu Sans Mono',consolas,'Courier New',monospace\"><span style=\"font-weight: bold\"> Non-trainable params: </span><span style=\"color: #00af00; text-decoration-color: #00af00\">608</span> (2.38 KB)\n",
       "</pre>\n"
      ],
      "text/plain": [
       "\u001b[1m Non-trainable params: \u001b[0m\u001b[38;5;34m608\u001b[0m (2.38 KB)\n"
      ]
     },
     "metadata": {},
     "output_type": "display_data"
    }
   ],
   "source": [
    "from keras.models import clone_model\n",
    "\n",
    "modelC2_with_bs_64 = clone_model(modelC2)\n",
    "modelC2_with_bs_1000 = clone_model(modelC2)\n",
    "\n",
    "modelC2_with_bs_64.compile(optimizer=Adam(learning_rate=0.001), loss=sparse_categorical_crossentropy, metrics=metrics)\n",
    "modelC2_with_bs_1000.compile(optimizer=Adam(learning_rate=0.001), loss=sparse_categorical_crossentropy, metrics=metrics)\n",
    "\n",
    "modelC2_with_bs_64.summary()"
   ]
  },
  {
   "cell_type": "markdown",
   "metadata": {
    "id": "UcV2FPUlCsZ3"
   },
   "source": [
    "Entrenamos el modelo con 20 etapas y un batch size de 64 y 1000:"
   ]
  },
  {
   "cell_type": "code",
   "execution_count": null,
   "metadata": {
    "colab": {
     "base_uri": "https://localhost:8080/"
    },
    "executionInfo": {
     "elapsed": 522369,
     "status": "ok",
     "timestamp": 1748027268314,
     "user": {
      "displayName": "José Sánchez",
      "userId": "04755864308978426799"
     },
     "user_tz": -120
    },
    "id": "apN4Rh7oCsZ3",
    "outputId": "2c6ef674-6130-402e-cb49-e09b7a7edf6a"
   },
   "outputs": [
    {
     "name": "stdout",
     "output_type": "stream",
     "text": [
      "Epoch 1/20\n",
      "\u001b[1m750/750\u001b[0m \u001b[32m━━━━━━━━━━━━━━━━━━━━\u001b[0m\u001b[37m\u001b[0m \u001b[1m19s\u001b[0m 15ms/step - accuracy: 0.7039 - loss: 1.0575\n",
      "Epoch 2/20\n",
      "\u001b[1m750/750\u001b[0m \u001b[32m━━━━━━━━━━━━━━━━━━━━\u001b[0m\u001b[37m\u001b[0m \u001b[1m11s\u001b[0m 15ms/step - accuracy: 0.8728 - loss: 0.3614\n",
      "Epoch 3/20\n",
      "\u001b[1m750/750\u001b[0m \u001b[32m━━━━━━━━━━━━━━━━━━━━\u001b[0m\u001b[37m\u001b[0m \u001b[1m21s\u001b[0m 15ms/step - accuracy: 0.8987 - loss: 0.2816\n",
      "Epoch 4/20\n",
      "\u001b[1m750/750\u001b[0m \u001b[32m━━━━━━━━━━━━━━━━━━━━\u001b[0m\u001b[37m\u001b[0m \u001b[1m20s\u001b[0m 15ms/step - accuracy: 0.9150 - loss: 0.2350\n",
      "Epoch 5/20\n",
      "\u001b[1m750/750\u001b[0m \u001b[32m━━━━━━━━━━━━━━━━━━━━\u001b[0m\u001b[37m\u001b[0m \u001b[1m11s\u001b[0m 15ms/step - accuracy: 0.9245 - loss: 0.2085\n",
      "Epoch 6/20\n",
      "\u001b[1m750/750\u001b[0m \u001b[32m━━━━━━━━━━━━━━━━━━━━\u001b[0m\u001b[37m\u001b[0m \u001b[1m20s\u001b[0m 15ms/step - accuracy: 0.9353 - loss: 0.1764\n",
      "Epoch 7/20\n",
      "\u001b[1m750/750\u001b[0m \u001b[32m━━━━━━━━━━━━━━━━━━━━\u001b[0m\u001b[37m\u001b[0m \u001b[1m11s\u001b[0m 15ms/step - accuracy: 0.9477 - loss: 0.1446\n",
      "Epoch 8/20\n",
      "\u001b[1m750/750\u001b[0m \u001b[32m━━━━━━━━━━━━━━━━━━━━\u001b[0m\u001b[37m\u001b[0m \u001b[1m12s\u001b[0m 15ms/step - accuracy: 0.9534 - loss: 0.1286\n",
      "Epoch 9/20\n",
      "\u001b[1m750/750\u001b[0m \u001b[32m━━━━━━━━━━━━━━━━━━━━\u001b[0m\u001b[37m\u001b[0m \u001b[1m11s\u001b[0m 15ms/step - accuracy: 0.9614 - loss: 0.1117\n",
      "Epoch 10/20\n",
      "\u001b[1m750/750\u001b[0m \u001b[32m━━━━━━━━━━━━━━━━━━━━\u001b[0m\u001b[37m\u001b[0m \u001b[1m11s\u001b[0m 15ms/step - accuracy: 0.9675 - loss: 0.0913\n",
      "Epoch 11/20\n",
      "\u001b[1m750/750\u001b[0m \u001b[32m━━━━━━━━━━━━━━━━━━━━\u001b[0m\u001b[37m\u001b[0m \u001b[1m21s\u001b[0m 15ms/step - accuracy: 0.9709 - loss: 0.0800\n",
      "Epoch 12/20\n",
      "\u001b[1m750/750\u001b[0m \u001b[32m━━━━━━━━━━━━━━━━━━━━\u001b[0m\u001b[37m\u001b[0m \u001b[1m12s\u001b[0m 15ms/step - accuracy: 0.9773 - loss: 0.0681\n",
      "Epoch 13/20\n",
      "\u001b[1m750/750\u001b[0m \u001b[32m━━━━━━━━━━━━━━━━━━━━\u001b[0m\u001b[37m\u001b[0m \u001b[1m12s\u001b[0m 15ms/step - accuracy: 0.9792 - loss: 0.0607\n",
      "Epoch 14/20\n",
      "\u001b[1m750/750\u001b[0m \u001b[32m━━━━━━━━━━━━━━━━━━━━\u001b[0m\u001b[37m\u001b[0m \u001b[1m20s\u001b[0m 15ms/step - accuracy: 0.9811 - loss: 0.0519\n",
      "Epoch 15/20\n",
      "\u001b[1m750/750\u001b[0m \u001b[32m━━━━━━━━━━━━━━━━━━━━\u001b[0m\u001b[37m\u001b[0m \u001b[1m11s\u001b[0m 15ms/step - accuracy: 0.9839 - loss: 0.0470\n",
      "Epoch 16/20\n",
      "\u001b[1m750/750\u001b[0m \u001b[32m━━━━━━━━━━━━━━━━━━━━\u001b[0m\u001b[37m\u001b[0m \u001b[1m20s\u001b[0m 15ms/step - accuracy: 0.9857 - loss: 0.0436\n",
      "Epoch 17/20\n",
      "\u001b[1m750/750\u001b[0m \u001b[32m━━━━━━━━━━━━━━━━━━━━\u001b[0m\u001b[37m\u001b[0m \u001b[1m12s\u001b[0m 15ms/step - accuracy: 0.9878 - loss: 0.0350\n",
      "Epoch 18/20\n",
      "\u001b[1m750/750\u001b[0m \u001b[32m━━━━━━━━━━━━━━━━━━━━\u001b[0m\u001b[37m\u001b[0m \u001b[1m11s\u001b[0m 15ms/step - accuracy: 0.9886 - loss: 0.0358\n",
      "Epoch 19/20\n",
      "\u001b[1m750/750\u001b[0m \u001b[32m━━━━━━━━━━━━━━━━━━━━\u001b[0m\u001b[37m\u001b[0m \u001b[1m11s\u001b[0m 15ms/step - accuracy: 0.9898 - loss: 0.0305\n",
      "Epoch 20/20\n",
      "\u001b[1m750/750\u001b[0m \u001b[32m━━━━━━━━━━━━━━━━━━━━\u001b[0m\u001b[37m\u001b[0m \u001b[1m11s\u001b[0m 15ms/step - accuracy: 0.9903 - loss: 0.0316\n",
      "Epoch 1/20\n",
      "\u001b[1m48/48\u001b[0m \u001b[32m━━━━━━━━━━━━━━━━━━━━\u001b[0m\u001b[37m\u001b[0m \u001b[1m28s\u001b[0m 176ms/step - accuracy: 0.4707 - loss: 2.4815\n",
      "Epoch 2/20\n",
      "\u001b[1m48/48\u001b[0m \u001b[32m━━━━━━━━━━━━━━━━━━━━\u001b[0m\u001b[37m\u001b[0m \u001b[1m25s\u001b[0m 178ms/step - accuracy: 0.7927 - loss: 0.5589\n",
      "Epoch 3/20\n",
      "\u001b[1m48/48\u001b[0m \u001b[32m━━━━━━━━━━━━━━━━━━━━\u001b[0m\u001b[37m\u001b[0m \u001b[1m10s\u001b[0m 182ms/step - accuracy: 0.8475 - loss: 0.4281\n",
      "Epoch 4/20\n",
      "\u001b[1m48/48\u001b[0m \u001b[32m━━━━━━━━━━━━━━━━━━━━\u001b[0m\u001b[37m\u001b[0m \u001b[1m10s\u001b[0m 184ms/step - accuracy: 0.8748 - loss: 0.3475\n",
      "Epoch 5/20\n",
      "\u001b[1m48/48\u001b[0m \u001b[32m━━━━━━━━━━━━━━━━━━━━\u001b[0m\u001b[37m\u001b[0m \u001b[1m9s\u001b[0m 184ms/step - accuracy: 0.8907 - loss: 0.3062\n",
      "Epoch 6/20\n",
      "\u001b[1m48/48\u001b[0m \u001b[32m━━━━━━━━━━━━━━━━━━━━\u001b[0m\u001b[37m\u001b[0m \u001b[1m10s\u001b[0m 180ms/step - accuracy: 0.9004 - loss: 0.2775\n",
      "Epoch 7/20\n",
      "\u001b[1m48/48\u001b[0m \u001b[32m━━━━━━━━━━━━━━━━━━━━\u001b[0m\u001b[37m\u001b[0m \u001b[1m10s\u001b[0m 177ms/step - accuracy: 0.9105 - loss: 0.2486\n",
      "Epoch 8/20\n",
      "\u001b[1m48/48\u001b[0m \u001b[32m━━━━━━━━━━━━━━━━━━━━\u001b[0m\u001b[37m\u001b[0m \u001b[1m10s\u001b[0m 175ms/step - accuracy: 0.9150 - loss: 0.2307\n",
      "Epoch 9/20\n",
      "\u001b[1m48/48\u001b[0m \u001b[32m━━━━━━━━━━━━━━━━━━━━\u001b[0m\u001b[37m\u001b[0m \u001b[1m10s\u001b[0m 176ms/step - accuracy: 0.9193 - loss: 0.2210\n",
      "Epoch 10/20\n",
      "\u001b[1m48/48\u001b[0m \u001b[32m━━━━━━━━━━━━━━━━━━━━\u001b[0m\u001b[37m\u001b[0m \u001b[1m10s\u001b[0m 177ms/step - accuracy: 0.9242 - loss: 0.2028\n",
      "Epoch 11/20\n",
      "\u001b[1m48/48\u001b[0m \u001b[32m━━━━━━━━━━━━━━━━━━━━\u001b[0m\u001b[37m\u001b[0m \u001b[1m10s\u001b[0m 178ms/step - accuracy: 0.9321 - loss: 0.1859\n",
      "Epoch 12/20\n",
      "\u001b[1m48/48\u001b[0m \u001b[32m━━━━━━━━━━━━━━━━━━━━\u001b[0m\u001b[37m\u001b[0m \u001b[1m10s\u001b[0m 179ms/step - accuracy: 0.9365 - loss: 0.1694\n",
      "Epoch 13/20\n",
      "\u001b[1m48/48\u001b[0m \u001b[32m━━━━━━━━━━━━━━━━━━━━\u001b[0m\u001b[37m\u001b[0m \u001b[1m9s\u001b[0m 180ms/step - accuracy: 0.9397 - loss: 0.1633\n",
      "Epoch 14/20\n",
      "\u001b[1m48/48\u001b[0m \u001b[32m━━━━━━━━━━━━━━━━━━━━\u001b[0m\u001b[37m\u001b[0m \u001b[1m10s\u001b[0m 179ms/step - accuracy: 0.9464 - loss: 0.1457\n",
      "Epoch 15/20\n",
      "\u001b[1m48/48\u001b[0m \u001b[32m━━━━━━━━━━━━━━━━━━━━\u001b[0m\u001b[37m\u001b[0m \u001b[1m10s\u001b[0m 179ms/step - accuracy: 0.9453 - loss: 0.1446\n",
      "Epoch 16/20\n",
      "\u001b[1m48/48\u001b[0m \u001b[32m━━━━━━━━━━━━━━━━━━━━\u001b[0m\u001b[37m\u001b[0m \u001b[1m9s\u001b[0m 179ms/step - accuracy: 0.9517 - loss: 0.1319\n",
      "Epoch 17/20\n",
      "\u001b[1m48/48\u001b[0m \u001b[32m━━━━━━━━━━━━━━━━━━━━\u001b[0m\u001b[37m\u001b[0m \u001b[1m10s\u001b[0m 179ms/step - accuracy: 0.9528 - loss: 0.1236\n",
      "Epoch 18/20\n",
      "\u001b[1m48/48\u001b[0m \u001b[32m━━━━━━━━━━━━━━━━━━━━\u001b[0m\u001b[37m\u001b[0m \u001b[1m9s\u001b[0m 179ms/step - accuracy: 0.9554 - loss: 0.1192\n",
      "Epoch 19/20\n",
      "\u001b[1m48/48\u001b[0m \u001b[32m━━━━━━━━━━━━━━━━━━━━\u001b[0m\u001b[37m\u001b[0m \u001b[1m9s\u001b[0m 179ms/step - accuracy: 0.9633 - loss: 0.0998\n",
      "Epoch 20/20\n",
      "\u001b[1m48/48\u001b[0m \u001b[32m━━━━━━━━━━━━━━━━━━━━\u001b[0m\u001b[37m\u001b[0m \u001b[1m10s\u001b[0m 177ms/step - accuracy: 0.9594 - loss: 0.1091\n"
     ]
    },
    {
     "data": {
      "text/plain": [
       "<keras.src.callbacks.history.History at 0x7a8d9a3dc090>"
      ]
     },
     "execution_count": 23,
     "metadata": {},
     "output_type": "execute_result"
    }
   ],
   "source": [
    "modelC2_with_bs_64.fit(tXtrain, tYtrain, batch_size=64, epochs=20)\n",
    "modelC2_with_bs_1000.fit(tXtrain, tYtrain, batch_size=1000, epochs=20)"
   ]
  },
  {
   "cell_type": "markdown",
   "metadata": {
    "id": "J71eQotUCsZ4"
   },
   "source": [
    "Vemos los resultados del modelo C2 con diferentes batch sizes:"
   ]
  },
  {
   "cell_type": "code",
   "execution_count": null,
   "metadata": {
    "colab": {
     "base_uri": "https://localhost:8080/"
    },
    "executionInfo": {
     "elapsed": 25442,
     "status": "ok",
     "timestamp": 1748027293761,
     "user": {
      "displayName": "José Sánchez",
      "userId": "04755864308978426799"
     },
     "user_tz": -120
    },
    "id": "F2wFYm03CsZ4",
    "outputId": "d050d602-ad0b-4f74-ad11-c7f46ce53bf5"
   },
   "outputs": [
    {
     "name": "stdout",
     "output_type": "stream",
     "text": [
      "\u001b[1m1500/1500\u001b[0m \u001b[32m━━━━━━━━━━━━━━━━━━━━\u001b[0m\u001b[37m\u001b[0m \u001b[1m7s\u001b[0m 4ms/step - accuracy: 0.9966 - loss: 0.0109\n",
      "\u001b[1m375/375\u001b[0m \u001b[32m━━━━━━━━━━━━━━━━━━━━\u001b[0m\u001b[37m\u001b[0m \u001b[1m2s\u001b[0m 4ms/step - accuracy: 0.9328 - loss: 0.3440\n",
      "Modelo con batch size 64:\n",
      "\tConjunto de entrenamiento:\n",
      "\t\tLoss Value: 0.010281247086822987\n",
      "\t\t accuracy : 0.9970208406448364\n",
      "\tConjunto de validación:\n",
      "\t\tLoss Value: 0.3716554343700409\n",
      "\t\t accuracy : 0.9268333315849304\n",
      "\n",
      "\u001b[1m1500/1500\u001b[0m \u001b[32m━━━━━━━━━━━━━━━━━━━━\u001b[0m\u001b[37m\u001b[0m \u001b[1m6s\u001b[0m 4ms/step - accuracy: 0.9754 - loss: 0.0688\n",
      "\u001b[1m375/375\u001b[0m \u001b[32m━━━━━━━━━━━━━━━━━━━━\u001b[0m\u001b[37m\u001b[0m \u001b[1m2s\u001b[0m 4ms/step - accuracy: 0.9291 - loss: 0.2293\n",
      "Modelo con batch size 1000:\n",
      "\tConjunto de entrenamiento:\n",
      "\t\tLoss Value: 0.06736792623996735\n",
      "\t\t accuracy : 0.9763333201408386\n",
      "\tConjunto de validación:\n",
      "\t\tLoss Value: 0.24640782177448273\n",
      "\t\t accuracy : 0.9245833158493042\n"
     ]
    }
   ],
   "source": [
    "evaluate_model(modelC2_with_bs_64, \"Modelo con batch size 64\")\n",
    "print()\n",
    "evaluate_model(modelC2_with_bs_1000, \"Modelo con batch size 1000\")"
   ]
  },
  {
   "cell_type": "markdown",
   "metadata": {
    "id": "ux3Y3MQqGWSY"
   },
   "source": [
    "Este modelo tarda más en ejecutarse y los resultados son mejores, esto puede deberse a que es más complejo.\n",
    "\n",
    "Se obtienen muy buenos resultados de accuracy en el conjunto de entrenamiento con los dos batch size. En el conjunto de validación, aunque los resultados no son perfectos, mejoran los del modelo C1."
   ]
  },
  {
   "cell_type": "markdown",
   "metadata": {
    "id": "gdnLUQvMCsZ4"
   },
   "source": [
    "## 1.5 Selección de hiperparámetros"
   ]
  },
  {
   "cell_type": "markdown",
   "metadata": {
    "id": "-JR5xiMjr3lZ"
   },
   "source": [
    "<u>**Función de pérdida**</u>\n",
    "\n",
    "Como función de pérdida vamos a utilizar SparseCategoricalCrossentropy. Es la opción más recomendada para clasificación multiclase con etiquetas enteras. Permite usar directamente las etiquetas como enteros, sin necesidad de transformarlos a one-hot, donde cada uno representa una clase.\n",
    "\n",
    "Su función de pérdida es la siguiente:\n",
    "\n",
    "$ L(y, \\hat{y}) = -\\frac{1}{N} \\sum_{i=1}^{N} \\log(\\hat{y}_{i, y_i}) $\n",
    "\n",
    "Donde $ y_i $ es la etiqueta real para la muestra $ i $, y $ \\hat{y}_{i, y_i} $ es la probabilidad precedida de la clase real para la muestra $ i $.\n",
    "\n",
    "<u>**Algoritmos de aprendizaje**</u>\n",
    "\n",
    "Vamos a probar estos tres algoritmos de aprendizaje:\n",
    "\n",
    "* **Adam**: Combina las ventajas de dos métodos de optimización, el gradiente estocástico con momento y el método de AdaGrad, que ajusta la tasa de aprendizaje de manera adaptativa. Utiliza dos momentos, el primer momento (m) o promedio móvil de los gradientes, y el segundo momento (v) o promedio móvil de los cuadrados de los gradientes. Debido a que los momentos iniciales son cero, incluye un término de corrección de sesgo para los momentos, sobretodo en las primeras etapas.\n",
    "\n",
    "* **SGD (Stochastic Gradient Descent)**: Es una variante del algoritmo de descenso de gradiente, que busca minimizar una función de pérdida ajustando los parámetros del modelo.\n",
    "\n",
    "  $ \\theta = \\theta - \\eta \\nabla J(\\theta; x^{(i)}, y^{(i)}) $\n",
    "\n",
    "  Donde $ η $ es la tasa de aprendizaje, y $ \\nabla J(\\theta; x^{(i)}, y^{(i)}) $ es el gradiente de la función de pérdida con respecto a los parámetros.\n",
    "\n",
    "* **RMSprop (Root Mean Square Propagation)**: Es especialmente útil para problemas donde el gradiente puede ser ruidoso o donde hay características con diferentes escalas. Utiliza una media móvil de los cuadrados de los gradientes para normalizar el gradiente. Esto ayuda a mitigar el problema de los gradientes que pueden ser muy grandes o muy pequeños. Tiende a converger más rápido que otros métodos de optimización, especialmente en problemas no convexos.\n",
    "\n",
    "  Las fórmulas que utiliza son:\n",
    "\n",
    "  * Actualización de la Media Móvil:\n",
    "\n",
    "    $ v_t = \\beta v_{t-1} + (1 - \\beta) g_t^2 $\n",
    "\n",
    "    $ v_t $ es la media móvil de los cuadrados de los gradientes.\n",
    "\n",
    "    $ β $ es un parámetro de decaimiento (normalmente alrededor de 0.9).\n",
    "\n",
    "    $ g_t $ es el gradiente en el tiempo t.\n",
    "\n",
    "  * Actualización de los Parámetros:\n",
    "\n",
    "    $ \\theta_t = \\theta_{t-1} - \\frac{\\eta}{\\sqrt{v_t} + \\epsilon} g_t $\n",
    "\n",
    "    $ θ_t $​ son los parámetros.\n",
    "\n",
    "    $ η $ es la tasa de aprendizaje.\n",
    "    \n",
    "    $ ϵ $ es un pequeño valor para evitar la división por cero (típicamente $ 10^{−8} $).\n",
    "\n",
    "<u>**Valores de lambda**</u>\n",
    "\n",
    "Como valores de lambda vamos a probar 0.001, 0.01 y una tasa de aprendizaje adaptativa con decaimiento exponencial."
   ]
  },
  {
   "cell_type": "markdown",
   "metadata": {
    "id": "ka22F1-d7nSS"
   },
   "source": [
    "Definimos una función que nos permite probar un modelo con los diferentes parámetros o funciones:"
   ]
  },
  {
   "cell_type": "code",
   "execution_count": null,
   "metadata": {
    "executionInfo": {
     "elapsed": 9,
     "status": "ok",
     "timestamp": 1748028234553,
     "user": {
      "displayName": "José Sánchez",
      "userId": "04755864308978426799"
     },
     "user_tz": -120
    },
    "id": "ACxHE5oeJkxB"
   },
   "outputs": [],
   "source": [
    "from tensorflow.keras.optimizers import Adam, SGD, RMSprop\n",
    "from tensorflow.keras.losses import SparseCategoricalCrossentropy\n",
    "\n",
    "# Define the combinations of loss functions and optimizers\n",
    "loss_functions = [\n",
    "    SparseCategoricalCrossentropy()\n",
    "]\n",
    "\n",
    "lmbda_values = [\n",
    "    0.001,\n",
    "    0.01,\n",
    "    tf.keras.optimizers.schedules.ExponentialDecay(initial_learning_rate=0.001, decay_steps=10000, decay_rate=0.96, staircase=True)\n",
    "]\n",
    "\n",
    "optimizers = [\n",
    "    Adam(learning_rate=lmbda_values[0]),  # Placeholder, will be updated in the loop\n",
    "    SGD(learning_rate=lmbda_values[0], momentum=0.9),  # Placeholder\n",
    "    RMSprop(learning_rate=lmbda_values[0])  # Placeholder\n",
    "]\n",
    "\n",
    "def test_model(model, batch_size, loss_functions, lmbda_values, optimizers):\n",
    "    # Iterate through each combination of loss functions and optimizers\n",
    "    for loss_function in loss_functions:\n",
    "        for lmbda in lmbda_values:\n",
    "            # Update the learning rate for optimizers\n",
    "            optimizers[0] = Adam(learning_rate=lmbda)\n",
    "            optimizers[1] = SGD(learning_rate=lmbda, momentum=0.9)\n",
    "            optimizers[2] = RMSprop(learning_rate=lmbda)\n",
    "\n",
    "            for optimizer in optimizers:\n",
    "                # Clone the model\n",
    "                model_current = clone_model(model)\n",
    "\n",
    "                # Compile the model with the current optimizer and loss function\n",
    "                model_current.compile(optimizer=optimizer, loss=loss_function, metrics=metrics)\n",
    "\n",
    "                # Fit the model\n",
    "                model_current.fit(tXtrain, tYtrain, batch_size=batch_size, epochs=20, verbose=False)\n",
    "\n",
    "                # Evaluate the model\n",
    "                ScoresTrain = model_current.evaluate(tXtrain, tYtrain, verbose=False)\n",
    "                ScoresVal = model_current.evaluate(tXval, tYval, verbose=False)\n",
    "\n",
    "                # Print the results\n",
    "                print(\"Loss function:\\t\", loss_function.__class__.__name__)\n",
    "                print(\"Optimizer:\\t\", optimizer.__class__.__name__)\n",
    "\n",
    "                # Print the value of lambda or \"ExponentialDecay\" if applicable\n",
    "                if isinstance(lmbda, tf.keras.optimizers.schedules.ExponentialDecay):\n",
    "                    print(\"Lambda value:\\tExponentialDecay\")\n",
    "                else:\n",
    "                    print(\"Lambda value:\\t\", lmbda)\n",
    "\n",
    "                # Print the metrics\n",
    "                print(\"Train:\", end='')\n",
    "                for i in range(len(metrics)):\n",
    "                    print(\"\\t\" + metrics[i] + \" \" + str(ScoresTrain[i + 1]), end='')\n",
    "                print()\n",
    "\n",
    "                print(\"Val:\", end='')\n",
    "                for i in range(len(metrics)):\n",
    "                    print(\"\\t\" + metrics[i] + \" \" + str(ScoresVal[i + 1]), end='')\n",
    "                print()\n",
    "\n",
    "                print()"
   ]
  },
  {
   "cell_type": "markdown",
   "metadata": {
    "id": "Vv6N9VIi_pdD"
   },
   "source": [
    "**<u>Modelo C1</u>**"
   ]
  },
  {
   "cell_type": "markdown",
   "metadata": {
    "id": "Ucw4_76e7suw"
   },
   "source": [
    "Probamos con el modelo C1 con batch size 64:"
   ]
  },
  {
   "cell_type": "code",
   "execution_count": null,
   "metadata": {
    "colab": {
     "base_uri": "https://localhost:8080/"
    },
    "executionInfo": {
     "elapsed": 470830,
     "status": "ok",
     "timestamp": 1748016918191,
     "user": {
      "displayName": "RAMON LIRIA SÁNCHEZ",
      "userId": "10664817315505448666"
     },
     "user_tz": -120
    },
    "id": "unUO2ljQ5jHU",
    "outputId": "36debfdd-9331-4fa9-f31f-f16c6b72422a"
   },
   "outputs": [
    {
     "name": "stdout",
     "output_type": "stream",
     "text": [
      "Loss function:\t SparseCategoricalCrossentropy\n",
      "Optimizer:\t Adam\n",
      "Lambda value:\t 0.001\n",
      "Train:\taccuracy 0.9600416421890259\n",
      "Val:\taccuracy 0.8793333172798157\n",
      "\n",
      "Loss function:\t SparseCategoricalCrossentropy\n",
      "Optimizer:\t SGD\n",
      "Lambda value:\t 0.001\n",
      "Train:\taccuracy 0.9025624990463257\n",
      "Val:\taccuracy 0.8833333253860474\n",
      "\n",
      "Loss function:\t SparseCategoricalCrossentropy\n",
      "Optimizer:\t RMSprop\n",
      "Lambda value:\t 0.001\n",
      "Train:\taccuracy 0.9607499837875366\n",
      "Val:\taccuracy 0.8895000219345093\n",
      "\n",
      "Loss function:\t SparseCategoricalCrossentropy\n",
      "Optimizer:\t Adam\n",
      "Lambda value:\t 0.01\n",
      "Train:\taccuracy 0.9470208287239075\n",
      "Val:\taccuracy 0.8821666836738586\n",
      "\n",
      "Loss function:\t SparseCategoricalCrossentropy\n",
      "Optimizer:\t SGD\n",
      "Lambda value:\t 0.01\n",
      "Train:\taccuracy 0.9568958282470703\n",
      "Val:\taccuracy 0.890583336353302\n",
      "\n",
      "Loss function:\t SparseCategoricalCrossentropy\n",
      "Optimizer:\t RMSprop\n",
      "Lambda value:\t 0.01\n",
      "Train:\taccuracy 0.9201458096504211\n",
      "Val:\taccuracy 0.8677499890327454\n",
      "\n",
      "Loss function:\t SparseCategoricalCrossentropy\n",
      "Optimizer:\t Adam\n",
      "Lambda value:\tExponentialDecay\n",
      "Train:\taccuracy 0.968874990940094\n",
      "Val:\taccuracy 0.8798333406448364\n",
      "\n",
      "Loss function:\t SparseCategoricalCrossentropy\n",
      "Optimizer:\t SGD\n",
      "Lambda value:\tExponentialDecay\n",
      "Train:\taccuracy 0.9086666703224182\n",
      "Val:\taccuracy 0.8861666917800903\n",
      "\n",
      "Loss function:\t SparseCategoricalCrossentropy\n",
      "Optimizer:\t RMSprop\n",
      "Lambda value:\tExponentialDecay\n",
      "Train:\taccuracy 0.9607916474342346\n",
      "Val:\taccuracy 0.8855000138282776\n",
      "\n"
     ]
    }
   ],
   "source": [
    "test_model(modelC1, 64, loss_functions, lmbda_values, optimizers)"
   ]
  },
  {
   "cell_type": "markdown",
   "metadata": {
    "id": "TA14kp-e8Ul2"
   },
   "source": [
    "Vemos como el optimizador que parece alcanzar mejores valores teniendo en cuenta tanto Xtrain como Xval es Adam, ya que en el resto se aprecian métricas un poco más bajas en algunas ejecuciones. SGD para lambda 0.01 es el que mejor accuracy alcanza para Xval, por lo que será el que prefiramos, ya que aunque sea un poco peor en Xtrain, generaliza mejor."
   ]
  },
  {
   "cell_type": "markdown",
   "metadata": {
    "id": "HxwjRI6184EK"
   },
   "source": [
    "Repetimos lo mismo con batch size 1000:"
   ]
  },
  {
   "cell_type": "code",
   "execution_count": null,
   "metadata": {
    "colab": {
     "base_uri": "https://localhost:8080/"
    },
    "executionInfo": {
     "elapsed": 126993,
     "status": "ok",
     "timestamp": 1748015966353,
     "user": {
      "displayName": "RAMON LIRIA SÁNCHEZ",
      "userId": "10664817315505448666"
     },
     "user_tz": -120
    },
    "id": "v8QP0-lm3PKB",
    "outputId": "179c730a-23cf-4cbf-b24a-6757764d0468"
   },
   "outputs": [
    {
     "name": "stdout",
     "output_type": "stream",
     "text": [
      "Loss function:\t SparseCategoricalCrossentropy\n",
      "Optimizer:\t Adam\n",
      "Lambda value:\t 0.001\n",
      "Train:\taccuracy 0.917270839214325\n",
      "Val:\taccuracy 0.8838333487510681\n",
      "\n",
      "Loss function:\t SparseCategoricalCrossentropy\n",
      "Optimizer:\t SGD\n",
      "Lambda value:\t 0.001\n",
      "Train:\taccuracy 0.8302291631698608\n",
      "Val:\taccuracy 0.82833331823349\n",
      "\n",
      "Loss function:\t SparseCategoricalCrossentropy\n",
      "Optimizer:\t RMSprop\n",
      "Lambda value:\t 0.001\n",
      "Train:\taccuracy 0.9152083396911621\n",
      "Val:\taccuracy 0.8798333406448364\n",
      "\n",
      "Loss function:\t SparseCategoricalCrossentropy\n",
      "Optimizer:\t Adam\n",
      "Lambda value:\t 0.01\n",
      "Train:\taccuracy 0.9471250176429749\n",
      "Val:\taccuracy 0.8811666369438171\n",
      "\n",
      "Loss function:\t SparseCategoricalCrossentropy\n",
      "Optimizer:\t SGD\n",
      "Lambda value:\t 0.01\n",
      "Train:\taccuracy 0.895437479019165\n",
      "Val:\taccuracy 0.8815000057220459\n",
      "\n",
      "Loss function:\t SparseCategoricalCrossentropy\n",
      "Optimizer:\t RMSprop\n",
      "Lambda value:\t 0.01\n",
      "Train:\taccuracy 0.9394791722297668\n",
      "Val:\taccuracy 0.8773333430290222\n",
      "\n",
      "Loss function:\t SparseCategoricalCrossentropy\n",
      "Optimizer:\t Adam\n",
      "Lambda value:\tExponentialDecay\n",
      "Train:\taccuracy 0.9179583191871643\n",
      "Val:\taccuracy 0.8841666579246521\n",
      "\n",
      "Loss function:\t SparseCategoricalCrossentropy\n",
      "Optimizer:\t SGD\n",
      "Lambda value:\tExponentialDecay\n",
      "Train:\taccuracy 0.8376874923706055\n",
      "Val:\taccuracy 0.8361666798591614\n",
      "\n",
      "Loss function:\t SparseCategoricalCrossentropy\n",
      "Optimizer:\t RMSprop\n",
      "Lambda value:\tExponentialDecay\n",
      "Train:\taccuracy 0.9271875023841858\n",
      "Val:\taccuracy 0.8845833539962769\n",
      "\n"
     ]
    }
   ],
   "source": [
    "test_model(modelC1, 1000, loss_functions, lmbda_values, optimizers)"
   ]
  },
  {
   "cell_type": "markdown",
   "metadata": {
    "id": "x51CLK7f86Q0"
   },
   "source": [
    "En general los resultados obtenidos eran mejores con batch size 64, esto puede deberse a que al ser menor el tamaño del batch, se producen más actualizaciones y por tanto la convergencia es mayor, además, al haber más variaciones la generalización es mayor. Adam de nuevo es uno de los mejores."
   ]
  },
  {
   "cell_type": "markdown",
   "metadata": {
    "id": "F7xkuVOk_Jni"
   },
   "source": [
    "Nos quedaremos con los parámetros o funciones SparseCategoricalCrossentropy, SGD, lambda 0.01 y batch size 64."
   ]
  },
  {
   "cell_type": "markdown",
   "metadata": {
    "id": "kCXlI3Hs_hG8"
   },
   "source": [
    "**<u>Modelo C2</u>**\n",
    "\n",
    "Ahora probaremos con el modelo C2:"
   ]
  },
  {
   "cell_type": "code",
   "execution_count": null,
   "metadata": {
    "colab": {
     "base_uri": "https://localhost:8080/"
    },
    "executionInfo": {
     "elapsed": 3078798,
     "status": "ok",
     "timestamp": 1748021043068,
     "user": {
      "displayName": "RAMON LIRIA SÁNCHEZ",
      "userId": "10664817315505448666"
     },
     "user_tz": -120
    },
    "id": "PGW9cLcH_VVH",
    "outputId": "bfb69c14-2aa2-4b7f-d9b4-44b57f923d38"
   },
   "outputs": [
    {
     "name": "stdout",
     "output_type": "stream",
     "text": [
      "Loss function:\t SparseCategoricalCrossentropy\n",
      "Optimizer:\t Adam\n",
      "Lambda value:\t 0.001\n",
      "Train:\taccuracy 0.9967291951179504\n",
      "Val:\taccuracy 0.9257500171661377\n",
      "\n",
      "Loss function:\t SparseCategoricalCrossentropy\n",
      "Optimizer:\t SGD\n",
      "Lambda value:\t 0.001\n",
      "Train:\taccuracy 0.9858750104904175\n",
      "Val:\taccuracy 0.9190000295639038\n",
      "\n",
      "Loss function:\t SparseCategoricalCrossentropy\n",
      "Optimizer:\t RMSprop\n",
      "Lambda value:\t 0.001\n",
      "Train:\taccuracy 0.9907916784286499\n",
      "Val:\taccuracy 0.9235000014305115\n",
      "\n",
      "Loss function:\t SparseCategoricalCrossentropy\n",
      "Optimizer:\t Adam\n",
      "Lambda value:\t 0.01\n",
      "Train:\taccuracy 0.9335833191871643\n",
      "Val:\taccuracy 0.9012500047683716\n",
      "\n",
      "Loss function:\t SparseCategoricalCrossentropy\n",
      "Optimizer:\t SGD\n",
      "Lambda value:\t 0.01\n",
      "Train:\taccuracy 0.9931250214576721\n",
      "Val:\taccuracy 0.9277499914169312\n",
      "\n",
      "Loss function:\t SparseCategoricalCrossentropy\n",
      "Optimizer:\t RMSprop\n",
      "Lambda value:\t 0.01\n",
      "Train:\taccuracy 0.9079166650772095\n",
      "Val:\taccuracy 0.8889166712760925\n",
      "\n",
      "Loss function:\t SparseCategoricalCrossentropy\n",
      "Optimizer:\t Adam\n",
      "Lambda value:\tExponentialDecay\n",
      "Train:\taccuracy 0.9947708249092102\n",
      "Val:\taccuracy 0.921583354473114\n",
      "\n",
      "Loss function:\t SparseCategoricalCrossentropy\n",
      "Optimizer:\t SGD\n",
      "Lambda value:\tExponentialDecay\n",
      "Train:\taccuracy 0.9935625195503235\n",
      "Val:\taccuracy 0.9291666746139526\n",
      "\n",
      "Loss function:\t SparseCategoricalCrossentropy\n",
      "Optimizer:\t RMSprop\n",
      "Lambda value:\tExponentialDecay\n",
      "Train:\taccuracy 0.992062509059906\n",
      "Val:\taccuracy 0.9267500042915344\n",
      "\n"
     ]
    }
   ],
   "source": [
    "test_model(modelC2, 64, loss_functions, lmbda_values, optimizers)"
   ]
  },
  {
   "cell_type": "markdown",
   "metadata": {
    "id": "IdUN-gaOPoUQ"
   },
   "source": [
    "Vemos como los peores resultados se obtienen con lambda 0.01. En el resto de valores de lambda, tanto Adam como RMSprop dan buenos resultados."
   ]
  },
  {
   "cell_type": "code",
   "execution_count": null,
   "metadata": {
    "colab": {
     "base_uri": "https://localhost:8080/"
    },
    "executionInfo": {
     "elapsed": 1977658,
     "status": "ok",
     "timestamp": 1748014724279,
     "user": {
      "displayName": "RAMON LIRIA SÁNCHEZ",
      "userId": "10664817315505448666"
     },
     "user_tz": -120
    },
    "id": "Z16r-gvzrR3_",
    "outputId": "15d7b3e3-6235-4d27-a6a6-af43b638a634"
   },
   "outputs": [
    {
     "name": "stdout",
     "output_type": "stream",
     "text": [
      "Loss function:\t SparseCategoricalCrossentropy\n",
      "Optimizer:\t Adam\n",
      "Lambda value:\t 0.001\n",
      "Train:\taccuracy 0.9661874771118164\n",
      "Val:\taccuracy 0.9229999780654907\n",
      "\n",
      "Loss function:\t SparseCategoricalCrossentropy\n",
      "Optimizer:\t SGD\n",
      "Lambda value:\t 0.001\n",
      "Train:\taccuracy 0.932645857334137\n",
      "Val:\taccuracy 0.9085000157356262\n",
      "\n",
      "Loss function:\t SparseCategoricalCrossentropy\n",
      "Optimizer:\t RMSprop\n",
      "Lambda value:\t 0.001\n",
      "Train:\taccuracy 0.976270854473114\n",
      "Val:\taccuracy 0.9287499785423279\n",
      "\n",
      "Loss function:\t SparseCategoricalCrossentropy\n",
      "Optimizer:\t Adam\n",
      "Lambda value:\t 0.01\n",
      "Train:\taccuracy 0.9253333210945129\n",
      "Val:\taccuracy 0.9045833349227905\n",
      "\n",
      "Loss function:\t SparseCategoricalCrossentropy\n",
      "Optimizer:\t SGD\n",
      "Lambda value:\t 0.01\n",
      "Train:\taccuracy 0.9865624904632568\n",
      "Val:\taccuracy 0.921750009059906\n",
      "\n",
      "Loss function:\t SparseCategoricalCrossentropy\n",
      "Optimizer:\t RMSprop\n",
      "Lambda value:\t 0.01\n",
      "Train:\taccuracy 0.9424791932106018\n",
      "Val:\taccuracy 0.9035000205039978\n",
      "\n",
      "Loss function:\t SparseCategoricalCrossentropy\n",
      "Optimizer:\t Adam\n",
      "Lambda value:\tExponentialDecay\n",
      "Train:\taccuracy 0.9704375267028809\n",
      "Val:\taccuracy 0.9274166822433472\n",
      "\n",
      "Loss function:\t SparseCategoricalCrossentropy\n",
      "Optimizer:\t SGD\n",
      "Lambda value:\tExponentialDecay\n",
      "Train:\taccuracy 0.9312083125114441\n",
      "Val:\taccuracy 0.9078333377838135\n",
      "\n",
      "Loss function:\t SparseCategoricalCrossentropy\n",
      "Optimizer:\t RMSprop\n",
      "Lambda value:\tExponentialDecay\n",
      "Train:\taccuracy 0.9724375009536743\n",
      "Val:\taccuracy 0.9270833134651184\n",
      "\n"
     ]
    }
   ],
   "source": [
    "test_model(modelC2, 1000, loss_functions, lmbda_values, optimizers)"
   ]
  },
  {
   "cell_type": "markdown",
   "metadata": {
    "id": "NvSbroLoSVYH"
   },
   "source": [
    "Los resultados que se obtienen son considerablemente peores que con batch size 64. Vemos de nuevo como para valores distintos de lambda, las mejores funciones de aprendizaje con Adam y RMSprop, siendo RMSprop con lambda 0.001 una buena opción."
   ]
  },
  {
   "cell_type": "markdown",
   "metadata": {
    "id": "9nAjtX4eTEjG"
   },
   "source": [
    "Elegiremos por tanto un batch size de 64, RMSprop, lambda 0.001 y SparseCategoricalCrossentropy."
   ]
  },
  {
   "cell_type": "markdown",
   "metadata": {
    "id": "2nZ0pEyYCsZ4"
   },
   "source": [
    "## 1.6 Estimación del error fuera de la muestra"
   ]
  },
  {
   "cell_type": "markdown",
   "metadata": {
    "id": "hBSyWhUqBUTd"
   },
   "source": [
    "En primer lugar, preprocesamos los datos de Xtest.\n",
    "\n",
    "Estandarización de los datos:"
   ]
  },
  {
   "cell_type": "code",
   "execution_count": null,
   "metadata": {
    "colab": {
     "base_uri": "https://localhost:8080/"
    },
    "executionInfo": {
     "elapsed": 45,
     "status": "ok",
     "timestamp": 1748028248998,
     "user": {
      "displayName": "José Sánchez",
      "userId": "04755864308978426799"
     },
     "user_tz": -120
    },
    "id": "37F5GKTgBY-E",
    "outputId": "c7b16e45-6fa0-4213-fe9a-d4f46adece94"
   },
   "outputs": [
    {
     "name": "stdout",
     "output_type": "stream",
     "text": [
      "Xtest: (10000, 28, 28)\n",
      "\n",
      "Tras cambiar los datos a 2 dimensiones:\n",
      "Xtest: (10000, 784)\n",
      "\n",
      "Tras devolver los datos a las dimensiones originales:\n",
      "Xtest: (10000, 28, 28)\n"
     ]
    }
   ],
   "source": [
    "from sklearn.preprocessing import StandardScaler\n",
    "\n",
    "# Cambiamos las dimensiones de los datos para poder usar el StandardScaler\n",
    "print(\"Xtest:\", Xtest.shape)\n",
    "\n",
    "Xtest = Xtest.reshape(len(Xtest), -1)\n",
    "\n",
    "print(\"\\nTras cambiar los datos a 2 dimensiones:\")\n",
    "print(\"Xtest:\", Xtest.shape)\n",
    "\n",
    "# Estandarización (normalización de datos con media 0 y std 1)\n",
    "Xtest = se.transform(Xtest)\n",
    "\n",
    "# Volvemos a cambiar a las dimensiones originales\n",
    "Xtest = Xtest.reshape(len(Xtest), 28, 28)\n",
    "\n",
    "print(\"\\nTras devolver los datos a las dimensiones originales:\")\n",
    "print(\"Xtest:\", Xtest.shape)"
   ]
  },
  {
   "cell_type": "markdown",
   "metadata": {
    "id": "xn8JuVEfBox9"
   },
   "source": [
    "Especificar que cada imagen tiene un canal:"
   ]
  },
  {
   "cell_type": "code",
   "execution_count": null,
   "metadata": {
    "colab": {
     "base_uri": "https://localhost:8080/"
    },
    "executionInfo": {
     "elapsed": 21,
     "status": "ok",
     "timestamp": 1748028250390,
     "user": {
      "displayName": "José Sánchez",
      "userId": "04755864308978426799"
     },
     "user_tz": -120
    },
    "id": "CT1x6sAJBpdz",
    "outputId": "af852e61-25ee-4984-b5b8-7e17bf6eda53"
   },
   "outputs": [
    {
     "name": "stdout",
     "output_type": "stream",
     "text": [
      "Xtest: (10000, 28, 28, 1)\n"
     ]
    }
   ],
   "source": [
    "Xtest = np.expand_dims(Xtest, axis= -1)\n",
    "\n",
    "print(\"Xtest:\", Xtest.shape)"
   ]
  },
  {
   "cell_type": "markdown",
   "metadata": {
    "id": "rXHYJ81SBt0B"
   },
   "source": [
    "Pasamos los datos a tensor:"
   ]
  },
  {
   "cell_type": "code",
   "execution_count": null,
   "metadata": {
    "id": "0IpqxU33BuyE"
   },
   "outputs": [],
   "source": [
    "tXtest, tYtest = tf.convert_to_tensor(Xtest), tf.convert_to_tensor(Ytest, dtype=tf.int32)"
   ]
  },
  {
   "cell_type": "markdown",
   "metadata": {
    "id": "03BHzNQEB93p"
   },
   "source": [
    "Unimos los datos de Xtrain y Xval para entrenar el modelo con todos ellos:"
   ]
  },
  {
   "cell_type": "code",
   "execution_count": null,
   "metadata": {
    "id": "gyukjj03DomU"
   },
   "outputs": [],
   "source": [
    "tXcombined = tf.concat([tXtrain, tXval], axis=0)\n",
    "tYcombined = tf.concat([tYtrain, tYval], axis=0)"
   ]
  },
  {
   "cell_type": "markdown",
   "metadata": {
    "id": "i79PZ5Veaxrf"
   },
   "source": [
    "Redefinimos la función de evaluar el modelo para que ahora se ejecute sobre train+val y test:"
   ]
  },
  {
   "cell_type": "code",
   "execution_count": null,
   "metadata": {
    "id": "xcSkurv2ahvJ"
   },
   "outputs": [],
   "source": [
    "def evaluate_model_definitive(model, model_name):\n",
    "    ScoresCombined = model.evaluate(tXcombined, tYcombined)\n",
    "    ScoresTest = model.evaluate(tXtest, tYtest)\n",
    "\n",
    "    print(model_name + \":\")\n",
    "\n",
    "    print('\\tConjunto de entrenamiento más validación:')\n",
    "    print(\"\\t\\tLoss Value:\", format(ScoresCombined[0]))\n",
    "    for i in range(len(metrics)):\n",
    "        print(\"\\t\\t\", metrics[i], \":\", ScoresCombined[i+1])\n",
    "\n",
    "    print('\\tConjunto de test:')\n",
    "    print(\"\\t\\tLoss Value:\", format(ScoresTest[0]))\n",
    "    for i in range(len(metrics)):\n",
    "        print(\"\\t\\t\", metrics[i], \":\", ScoresTest[i+1])"
   ]
  },
  {
   "cell_type": "markdown",
   "metadata": {
    "id": "k813pU9GGybi"
   },
   "source": [
    "<u>**Modelo C1**</u>\n",
    "\n",
    "Entrenamos y evaluamos el modelo C1 definitivo:"
   ]
  },
  {
   "cell_type": "code",
   "execution_count": null,
   "metadata": {
    "colab": {
     "base_uri": "https://localhost:8080/"
    },
    "executionInfo": {
     "elapsed": 69032,
     "status": "ok",
     "timestamp": 1748028322883,
     "user": {
      "displayName": "José Sánchez",
      "userId": "04755864308978426799"
     },
     "user_tz": -120
    },
    "id": "7op--itbG6Bh",
    "outputId": "2bfc2963-c5e3-47c7-cdcb-9371b950f085"
   },
   "outputs": [
    {
     "name": "stdout",
     "output_type": "stream",
     "text": [
      "Epoch 1/20\n",
      "\u001b[1m938/938\u001b[0m \u001b[32m━━━━━━━━━━━━━━━━━━━━\u001b[0m\u001b[37m\u001b[0m \u001b[1m5s\u001b[0m 4ms/step - accuracy: 0.6843 - loss: 0.9219\n",
      "Epoch 2/20\n",
      "\u001b[1m938/938\u001b[0m \u001b[32m━━━━━━━━━━━━━━━━━━━━\u001b[0m\u001b[37m\u001b[0m \u001b[1m2s\u001b[0m 3ms/step - accuracy: 0.8316 - loss: 0.4647\n",
      "Epoch 3/20\n",
      "\u001b[1m938/938\u001b[0m \u001b[32m━━━━━━━━━━━━━━━━━━━━\u001b[0m\u001b[37m\u001b[0m \u001b[1m3s\u001b[0m 3ms/step - accuracy: 0.8530 - loss: 0.4113\n",
      "Epoch 4/20\n",
      "\u001b[1m938/938\u001b[0m \u001b[32m━━━━━━━━━━━━━━━━━━━━\u001b[0m\u001b[37m\u001b[0m \u001b[1m5s\u001b[0m 2ms/step - accuracy: 0.8604 - loss: 0.3854\n",
      "Epoch 5/20\n",
      "\u001b[1m938/938\u001b[0m \u001b[32m━━━━━━━━━━━━━━━━━━━━\u001b[0m\u001b[37m\u001b[0m \u001b[1m2s\u001b[0m 2ms/step - accuracy: 0.8716 - loss: 0.3582\n",
      "Epoch 6/20\n",
      "\u001b[1m938/938\u001b[0m \u001b[32m━━━━━━━━━━━━━━━━━━━━\u001b[0m\u001b[37m\u001b[0m \u001b[1m2s\u001b[0m 3ms/step - accuracy: 0.8780 - loss: 0.3366\n",
      "Epoch 7/20\n",
      "\u001b[1m938/938\u001b[0m \u001b[32m━━━━━━━━━━━━━━━━━━━━\u001b[0m\u001b[37m\u001b[0m \u001b[1m3s\u001b[0m 3ms/step - accuracy: 0.8807 - loss: 0.3308\n",
      "Epoch 8/20\n",
      "\u001b[1m938/938\u001b[0m \u001b[32m━━━━━━━━━━━━━━━━━━━━\u001b[0m\u001b[37m\u001b[0m \u001b[1m2s\u001b[0m 2ms/step - accuracy: 0.8823 - loss: 0.3187\n",
      "Epoch 9/20\n",
      "\u001b[1m938/938\u001b[0m \u001b[32m━━━━━━━━━━━━━━━━━━━━\u001b[0m\u001b[37m\u001b[0m \u001b[1m3s\u001b[0m 2ms/step - accuracy: 0.8868 - loss: 0.3139\n",
      "Epoch 10/20\n",
      "\u001b[1m938/938\u001b[0m \u001b[32m━━━━━━━━━━━━━━━━━━━━\u001b[0m\u001b[37m\u001b[0m \u001b[1m2s\u001b[0m 3ms/step - accuracy: 0.8875 - loss: 0.3085\n",
      "Epoch 11/20\n",
      "\u001b[1m938/938\u001b[0m \u001b[32m━━━━━━━━━━━━━━━━━━━━\u001b[0m\u001b[37m\u001b[0m \u001b[1m3s\u001b[0m 3ms/step - accuracy: 0.8928 - loss: 0.2978\n",
      "Epoch 12/20\n",
      "\u001b[1m938/938\u001b[0m \u001b[32m━━━━━━━━━━━━━━━━━━━━\u001b[0m\u001b[37m\u001b[0m \u001b[1m3s\u001b[0m 3ms/step - accuracy: 0.8925 - loss: 0.2979\n",
      "Epoch 13/20\n",
      "\u001b[1m938/938\u001b[0m \u001b[32m━━━━━━━━━━━━━━━━━━━━\u001b[0m\u001b[37m\u001b[0m \u001b[1m5s\u001b[0m 2ms/step - accuracy: 0.8972 - loss: 0.2841\n",
      "Epoch 14/20\n",
      "\u001b[1m938/938\u001b[0m \u001b[32m━━━━━━━━━━━━━━━━━━━━\u001b[0m\u001b[37m\u001b[0m \u001b[1m2s\u001b[0m 2ms/step - accuracy: 0.9010 - loss: 0.2775\n",
      "Epoch 15/20\n",
      "\u001b[1m938/938\u001b[0m \u001b[32m━━━━━━━━━━━━━━━━━━━━\u001b[0m\u001b[37m\u001b[0m \u001b[1m3s\u001b[0m 3ms/step - accuracy: 0.8999 - loss: 0.2735\n",
      "Epoch 16/20\n",
      "\u001b[1m938/938\u001b[0m \u001b[32m━━━━━━━━━━━━━━━━━━━━\u001b[0m\u001b[37m\u001b[0m \u001b[1m5s\u001b[0m 2ms/step - accuracy: 0.9015 - loss: 0.2721\n",
      "Epoch 17/20\n",
      "\u001b[1m938/938\u001b[0m \u001b[32m━━━━━━━━━━━━━━━━━━━━\u001b[0m\u001b[37m\u001b[0m \u001b[1m3s\u001b[0m 3ms/step - accuracy: 0.9048 - loss: 0.2631\n",
      "Epoch 18/20\n",
      "\u001b[1m938/938\u001b[0m \u001b[32m━━━━━━━━━━━━━━━━━━━━\u001b[0m\u001b[37m\u001b[0m \u001b[1m2s\u001b[0m 2ms/step - accuracy: 0.9036 - loss: 0.2653\n",
      "Epoch 19/20\n",
      "\u001b[1m938/938\u001b[0m \u001b[32m━━━━━━━━━━━━━━━━━━━━\u001b[0m\u001b[37m\u001b[0m \u001b[1m3s\u001b[0m 3ms/step - accuracy: 0.9096 - loss: 0.2511\n",
      "Epoch 20/20\n",
      "\u001b[1m938/938\u001b[0m \u001b[32m━━━━━━━━━━━━━━━━━━━━\u001b[0m\u001b[37m\u001b[0m \u001b[1m4s\u001b[0m 2ms/step - accuracy: 0.9082 - loss: 0.2511\n",
      "\u001b[1m1875/1875\u001b[0m \u001b[32m━━━━━━━━━━━━━━━━━━━━\u001b[0m\u001b[37m\u001b[0m \u001b[1m4s\u001b[0m 2ms/step - accuracy: 0.9143 - loss: 0.2452\n",
      "\u001b[1m313/313\u001b[0m \u001b[32m━━━━━━━━━━━━━━━━━━━━\u001b[0m\u001b[37m\u001b[0m \u001b[1m2s\u001b[0m 5ms/step - accuracy: 0.8883 - loss: 0.3209\n",
      "Modelo C1:\n",
      "\tConjunto de entrenamiento más validación:\n",
      "\t\tLoss Value: 0.24173420667648315\n",
      "\t\t accuracy : 0.9137333035469055\n",
      "\tConjunto de test:\n",
      "\t\tLoss Value: 0.3132237195968628\n",
      "\t\t accuracy : 0.8877999782562256\n"
     ]
    }
   ],
   "source": [
    "modelC1_definitive = clone_model(modelC1)\n",
    "\n",
    "modelC1_definitive.compile(optimizer=SGD(learning_rate=0.01), loss=sparse_categorical_crossentropy, metrics=metrics)\n",
    "\n",
    "modelC1_definitive.fit(tXcombined, tYcombined, batch_size=64, epochs=20)\n",
    "\n",
    "evaluate_model_definitive(modelC1_definitive, \"Modelo C1\")"
   ]
  },
  {
   "cell_type": "markdown",
   "metadata": {
    "id": "f8N_ECq0Y5JF"
   },
   "source": [
    "Las métricas son similares a las obtenidas para las pruebas anteriores, el resultado para entrenamiento es aceptable, y para test, aunque no es tan alto, es similar a lo que habíamos obtenido para validación anteriormente."
   ]
  },
  {
   "cell_type": "markdown",
   "metadata": {
    "id": "ECMEOlRpN0ou"
   },
   "source": [
    "Vemos en qué clases ha cometido más errores:"
   ]
  },
  {
   "cell_type": "code",
   "execution_count": null,
   "metadata": {
    "id": "WeYR1zM0IBIi"
   },
   "outputs": [],
   "source": [
    "from collections import Counter\n",
    "\n",
    "# Nombres de las clases\n",
    "names = ['T-shirt/top', 'Trouser', 'Pullover', 'Dress', 'Coat', 'Sandal', 'Shirt', 'Sneaker', 'Bag', 'Ankle boot']\n",
    "\n",
    "def confusedClasses(model):\n",
    "    predicciones = model.predict(Xtest)\n",
    "    predicciones_clase = np.argmax(predicciones, axis=1) # Obtener la clase con mayor probabilidad para cada entrada\n",
    "\n",
    "    # Comparar las predicciones con las etiquetas verdaderas\n",
    "    errores = np.where(predicciones_clase != Ytest)[0]  # Índices de las clasificaciones erróneas\n",
    "\n",
    "    # Obtener las clases verdaderas y predichas de los erróneas\n",
    "    clases_reales = Ytest[errores]\n",
    "    clases_predichas = predicciones_clase[errores]\n",
    "\n",
    "    # Contar las confusiones entre clases\n",
    "    confusiones = Counter()\n",
    "    for clase_real, clase_predicha in zip(clases_reales, clases_predichas):\n",
    "        confusiones[(clase_real, clase_predicha)] += 1\n",
    "\n",
    "    # Convertir el contador a una lista y ordenar por conteo\n",
    "    confusiones_ordenadas = sorted(confusiones.items(), key=lambda x: x[1], reverse=True)\n",
    "\n",
    "    # Mostrar las confusiones ordenadas\n",
    "    print(\"Confusiones entre clases:\")\n",
    "    for (clase_real, clase_predicha), conteo in confusiones_ordenadas:\n",
    "        if conteo > 0:\n",
    "            print(f'Clase real: {names[clase_real]},\\t\\tClase predicha: {names[clase_predicha]},\\t\\tConfusiones: {conteo}')"
   ]
  },
  {
   "cell_type": "code",
   "execution_count": null,
   "metadata": {
    "colab": {
     "base_uri": "https://localhost:8080/"
    },
    "executionInfo": {
     "elapsed": 2693,
     "status": "ok",
     "timestamp": 1748028451369,
     "user": {
      "displayName": "José Sánchez",
      "userId": "04755864308978426799"
     },
     "user_tz": -120
    },
    "id": "FZ9XwSP3OEVG",
    "outputId": "f16eceb2-d4bf-47c6-ec34-b7fa6f1d61d3"
   },
   "outputs": [
    {
     "name": "stdout",
     "output_type": "stream",
     "text": [
      "\u001b[1m313/313\u001b[0m \u001b[32m━━━━━━━━━━━━━━━━━━━━\u001b[0m\u001b[37m\u001b[0m \u001b[1m1s\u001b[0m 2ms/step\n",
      "Confusiones entre clases:\n",
      "Clase real: Shirt,\t\tClase predicha: T-shirt/top,\t\tConfusiones: 126\n",
      "Clase real: Coat,\t\tClase predicha: Shirt,\t\tConfusiones: 101\n",
      "Clase real: Shirt,\t\tClase predicha: Pullover,\t\tConfusiones: 86\n",
      "Clase real: T-shirt/top,\t\tClase predicha: Shirt,\t\tConfusiones: 84\n",
      "Clase real: Shirt,\t\tClase predicha: Coat,\t\tConfusiones: 72\n",
      "Clase real: Pullover,\t\tClase predicha: Shirt,\t\tConfusiones: 72\n",
      "Clase real: Coat,\t\tClase predicha: Pullover,\t\tConfusiones: 58\n",
      "Clase real: Pullover,\t\tClase predicha: Coat,\t\tConfusiones: 50\n",
      "Clase real: Dress,\t\tClase predicha: Shirt,\t\tConfusiones: 46\n",
      "Clase real: Ankle boot,\t\tClase predicha: Sneaker,\t\tConfusiones: 40\n",
      "Clase real: Coat,\t\tClase predicha: Dress,\t\tConfusiones: 36\n",
      "Clase real: Shirt,\t\tClase predicha: Dress,\t\tConfusiones: 34\n",
      "Clase real: Sneaker,\t\tClase predicha: Ankle boot,\t\tConfusiones: 26\n",
      "Clase real: T-shirt/top,\t\tClase predicha: Dress,\t\tConfusiones: 26\n",
      "Clase real: T-shirt/top,\t\tClase predicha: Pullover,\t\tConfusiones: 22\n",
      "Clase real: Sandal,\t\tClase predicha: Sneaker,\t\tConfusiones: 21\n",
      "Clase real: Dress,\t\tClase predicha: Coat,\t\tConfusiones: 17\n",
      "Clase real: Dress,\t\tClase predicha: T-shirt/top,\t\tConfusiones: 16\n",
      "Clase real: Trouser,\t\tClase predicha: Dress,\t\tConfusiones: 16\n",
      "Clase real: Pullover,\t\tClase predicha: T-shirt/top,\t\tConfusiones: 15\n",
      "Clase real: Sneaker,\t\tClase predicha: Sandal,\t\tConfusiones: 15\n",
      "Clase real: Shirt,\t\tClase predicha: Bag,\t\tConfusiones: 14\n",
      "Clase real: Dress,\t\tClase predicha: Trouser,\t\tConfusiones: 11\n",
      "Clase real: T-shirt/top,\t\tClase predicha: Bag,\t\tConfusiones: 11\n",
      "Clase real: Dress,\t\tClase predicha: Pullover,\t\tConfusiones: 11\n",
      "Clase real: Pullover,\t\tClase predicha: Dress,\t\tConfusiones: 10\n",
      "Clase real: Bag,\t\tClase predicha: Pullover,\t\tConfusiones: 9\n",
      "Clase real: Sandal,\t\tClase predicha: Ankle boot,\t\tConfusiones: 9\n",
      "Clase real: Ankle boot,\t\tClase predicha: Sandal,\t\tConfusiones: 6\n",
      "Clase real: Pullover,\t\tClase predicha: Bag,\t\tConfusiones: 6\n",
      "Clase real: Dress,\t\tClase predicha: Bag,\t\tConfusiones: 5\n",
      "Clase real: T-shirt/top,\t\tClase predicha: Coat,\t\tConfusiones: 5\n",
      "Clase real: Bag,\t\tClase predicha: Shirt,\t\tConfusiones: 5\n",
      "Clase real: Trouser,\t\tClase predicha: Shirt,\t\tConfusiones: 5\n",
      "Clase real: Bag,\t\tClase predicha: Coat,\t\tConfusiones: 4\n",
      "Clase real: Bag,\t\tClase predicha: T-shirt/top,\t\tConfusiones: 4\n",
      "Clase real: Bag,\t\tClase predicha: Sandal,\t\tConfusiones: 3\n",
      "Clase real: T-shirt/top,\t\tClase predicha: Sandal,\t\tConfusiones: 3\n",
      "Clase real: Coat,\t\tClase predicha: Bag,\t\tConfusiones: 3\n",
      "Clase real: Trouser,\t\tClase predicha: Coat,\t\tConfusiones: 3\n",
      "Clase real: Coat,\t\tClase predicha: T-shirt/top,\t\tConfusiones: 2\n",
      "Clase real: Bag,\t\tClase predicha: Sneaker,\t\tConfusiones: 2\n",
      "Clase real: T-shirt/top,\t\tClase predicha: Trouser,\t\tConfusiones: 2\n",
      "Clase real: Trouser,\t\tClase predicha: Bag,\t\tConfusiones: 2\n",
      "Clase real: Trouser,\t\tClase predicha: T-shirt/top,\t\tConfusiones: 2\n",
      "Clase real: Bag,\t\tClase predicha: Trouser,\t\tConfusiones: 1\n",
      "Clase real: Ankle boot,\t\tClase predicha: Shirt,\t\tConfusiones: 1\n",
      "Clase real: Sandal,\t\tClase predicha: Dress,\t\tConfusiones: 1\n",
      "Clase real: Sneaker,\t\tClase predicha: Bag,\t\tConfusiones: 1\n",
      "Clase real: Coat,\t\tClase predicha: Trouser,\t\tConfusiones: 1\n",
      "Clase real: Shirt,\t\tClase predicha: Trouser,\t\tConfusiones: 1\n"
     ]
    }
   ],
   "source": [
    "confusedClasses(modelC1_definitive)"
   ]
  },
  {
   "cell_type": "markdown",
   "metadata": {
    "id": "-ujXly65Zo9Y"
   },
   "source": [
    "Las confusiones que más se dan son camiseta con camisa o prendas similares, es decir prendas de ropa parecidas que colocan en el torso. Es razonable que ocurran algunos estos errores ya que las imágenes de estas prendas se parecen entre sí."
   ]
  },
  {
   "cell_type": "markdown",
   "metadata": {
    "id": "Z18bOXzGHcQZ"
   },
   "source": [
    "<u>**Modelo C2**</u>\n",
    "\n",
    "Entrenamos y evaluamos el modelo C2 definitivo:"
   ]
  },
  {
   "cell_type": "code",
   "execution_count": null,
   "metadata": {
    "colab": {
     "base_uri": "https://localhost:8080/"
    },
    "executionInfo": {
     "elapsed": 372631,
     "status": "ok",
     "timestamp": 1748027739158,
     "user": {
      "displayName": "José Sánchez",
      "userId": "04755864308978426799"
     },
     "user_tz": -120
    },
    "id": "PMaQZ_T9HcCR",
    "outputId": "157a2fe9-5f4a-4e87-b949-2558a397a972"
   },
   "outputs": [
    {
     "name": "stdout",
     "output_type": "stream",
     "text": [
      "Epoch 1/20\n",
      "\u001b[1m938/938\u001b[0m \u001b[32m━━━━━━━━━━━━━━━━━━━━\u001b[0m\u001b[37m\u001b[0m \u001b[1m23s\u001b[0m 19ms/step - accuracy: 0.7095 - loss: 1.3370\n",
      "Epoch 2/20\n",
      "\u001b[1m938/938\u001b[0m \u001b[32m━━━━━━━━━━━━━━━━━━━━\u001b[0m\u001b[37m\u001b[0m \u001b[1m34s\u001b[0m 15ms/step - accuracy: 0.8901 - loss: 0.3131\n",
      "Epoch 3/20\n",
      "\u001b[1m938/938\u001b[0m \u001b[32m━━━━━━━━━━━━━━━━━━━━\u001b[0m\u001b[37m\u001b[0m \u001b[1m14s\u001b[0m 15ms/step - accuracy: 0.9124 - loss: 0.2505\n",
      "Epoch 4/20\n",
      "\u001b[1m938/938\u001b[0m \u001b[32m━━━━━━━━━━━━━━━━━━━━\u001b[0m\u001b[37m\u001b[0m \u001b[1m20s\u001b[0m 15ms/step - accuracy: 0.9266 - loss: 0.2145\n",
      "Epoch 5/20\n",
      "\u001b[1m938/938\u001b[0m \u001b[32m━━━━━━━━━━━━━━━━━━━━\u001b[0m\u001b[37m\u001b[0m \u001b[1m14s\u001b[0m 15ms/step - accuracy: 0.9351 - loss: 0.1881\n",
      "Epoch 6/20\n",
      "\u001b[1m938/938\u001b[0m \u001b[32m━━━━━━━━━━━━━━━━━━━━\u001b[0m\u001b[37m\u001b[0m \u001b[1m20s\u001b[0m 15ms/step - accuracy: 0.9432 - loss: 0.1649\n",
      "Epoch 7/20\n",
      "\u001b[1m938/938\u001b[0m \u001b[32m━━━━━━━━━━━━━━━━━━━━\u001b[0m\u001b[37m\u001b[0m \u001b[1m21s\u001b[0m 15ms/step - accuracy: 0.9476 - loss: 0.1527\n",
      "Epoch 8/20\n",
      "\u001b[1m938/938\u001b[0m \u001b[32m━━━━━━━━━━━━━━━━━━━━\u001b[0m\u001b[37m\u001b[0m \u001b[1m14s\u001b[0m 15ms/step - accuracy: 0.9524 - loss: 0.1390\n",
      "Epoch 9/20\n",
      "\u001b[1m938/938\u001b[0m \u001b[32m━━━━━━━━━━━━━━━━━━━━\u001b[0m\u001b[37m\u001b[0m \u001b[1m14s\u001b[0m 15ms/step - accuracy: 0.9575 - loss: 0.1262\n",
      "Epoch 10/20\n",
      "\u001b[1m938/938\u001b[0m \u001b[32m━━━━━━━━━━━━━━━━━━━━\u001b[0m\u001b[37m\u001b[0m \u001b[1m20s\u001b[0m 15ms/step - accuracy: 0.9616 - loss: 0.1180\n",
      "Epoch 11/20\n",
      "\u001b[1m938/938\u001b[0m \u001b[32m━━━━━━━━━━━━━━━━━━━━\u001b[0m\u001b[37m\u001b[0m \u001b[1m14s\u001b[0m 15ms/step - accuracy: 0.9671 - loss: 0.1014\n",
      "Epoch 12/20\n",
      "\u001b[1m938/938\u001b[0m \u001b[32m━━━━━━━━━━━━━━━━━━━━\u001b[0m\u001b[37m\u001b[0m \u001b[1m14s\u001b[0m 15ms/step - accuracy: 0.9677 - loss: 0.0984\n",
      "Epoch 13/20\n",
      "\u001b[1m938/938\u001b[0m \u001b[32m━━━━━━━━━━━━━━━━━━━━\u001b[0m\u001b[37m\u001b[0m \u001b[1m14s\u001b[0m 15ms/step - accuracy: 0.9703 - loss: 0.0913\n",
      "Epoch 14/20\n",
      "\u001b[1m938/938\u001b[0m \u001b[32m━━━━━━━━━━━━━━━━━━━━\u001b[0m\u001b[37m\u001b[0m \u001b[1m20s\u001b[0m 15ms/step - accuracy: 0.9734 - loss: 0.0822\n",
      "Epoch 15/20\n",
      "\u001b[1m938/938\u001b[0m \u001b[32m━━━━━━━━━━━━━━━━━━━━\u001b[0m\u001b[37m\u001b[0m \u001b[1m21s\u001b[0m 15ms/step - accuracy: 0.9743 - loss: 0.0801\n",
      "Epoch 16/20\n",
      "\u001b[1m938/938\u001b[0m \u001b[32m━━━━━━━━━━━━━━━━━━━━\u001b[0m\u001b[37m\u001b[0m \u001b[1m21s\u001b[0m 16ms/step - accuracy: 0.9755 - loss: 0.0785\n",
      "Epoch 17/20\n",
      "\u001b[1m938/938\u001b[0m \u001b[32m━━━━━━━━━━━━━━━━━━━━\u001b[0m\u001b[37m\u001b[0m \u001b[1m14s\u001b[0m 15ms/step - accuracy: 0.9771 - loss: 0.0767\n",
      "Epoch 18/20\n",
      "\u001b[1m938/938\u001b[0m \u001b[32m━━━━━━━━━━━━━━━━━━━━\u001b[0m\u001b[37m\u001b[0m \u001b[1m14s\u001b[0m 15ms/step - accuracy: 0.9770 - loss: 0.0760\n",
      "Epoch 19/20\n",
      "\u001b[1m938/938\u001b[0m \u001b[32m━━━━━━━━━━━━━━━━━━━━\u001b[0m\u001b[37m\u001b[0m \u001b[1m14s\u001b[0m 15ms/step - accuracy: 0.9780 - loss: 0.0722\n",
      "Epoch 20/20\n",
      "\u001b[1m938/938\u001b[0m \u001b[32m━━━━━━━━━━━━━━━━━━━━\u001b[0m\u001b[37m\u001b[0m \u001b[1m14s\u001b[0m 15ms/step - accuracy: 0.9773 - loss: 0.0766\n",
      "\u001b[1m1875/1875\u001b[0m \u001b[32m━━━━━━━━━━━━━━━━━━━━\u001b[0m\u001b[37m\u001b[0m \u001b[1m8s\u001b[0m 4ms/step - accuracy: 0.9810 - loss: 0.0592\n",
      "\u001b[1m313/313\u001b[0m \u001b[32m━━━━━━━━━━━━━━━━━━━━\u001b[0m\u001b[37m\u001b[0m \u001b[1m2s\u001b[0m 6ms/step - accuracy: 0.9138 - loss: 0.4326\n",
      "Modelo C2:\n",
      "\tConjunto de entrenamiento más validación:\n",
      "\t\tLoss Value: 0.05974311754107475\n",
      "\t\t accuracy : 0.9809166789054871\n",
      "\tConjunto de test:\n",
      "\t\tLoss Value: 0.42848899960517883\n",
      "\t\t accuracy : 0.9139000177383423\n"
     ]
    }
   ],
   "source": [
    "modelC2_definitive = clone_model(modelC2)\n",
    "\n",
    "modelC2_definitive.compile(optimizer=RMSprop(learning_rate=0.001), loss=sparse_categorical_crossentropy, metrics=metrics)\n",
    "\n",
    "modelC2_definitive.fit(tXcombined, tYcombined, batch_size=64, epochs=20)\n",
    "\n",
    "evaluate_model_definitive(modelC2_definitive, \"Modelo C2\")"
   ]
  },
  {
   "cell_type": "markdown",
   "metadata": {
    "id": "NYBU5yAFaSzA"
   },
   "source": [
    "Los valores obtenidos son muy buenos para entrenamiento, aunque no tanto para test, son aceptables y similares a los de prueba que habíamos obtenido anteriormente."
   ]
  },
  {
   "cell_type": "code",
   "execution_count": null,
   "metadata": {
    "colab": {
     "base_uri": "https://localhost:8080/"
    },
    "executionInfo": {
     "elapsed": 2617,
     "status": "ok",
     "timestamp": 1748027741779,
     "user": {
      "displayName": "José Sánchez",
      "userId": "04755864308978426799"
     },
     "user_tz": -120
    },
    "id": "EMervghccuLS",
    "outputId": "6d1e1e8f-6b5a-435f-8523-f4e80f363184"
   },
   "outputs": [
    {
     "name": "stdout",
     "output_type": "stream",
     "text": [
      "\u001b[1m313/313\u001b[0m \u001b[32m━━━━━━━━━━━━━━━━━━━━\u001b[0m\u001b[37m\u001b[0m \u001b[1m2s\u001b[0m 5ms/step\n",
      "Confusiones entre clases:\n",
      "Clase real: Sneaker,\t\tClase predicha: Ankle boot,\t\tConfusiones: 113\n",
      "Clase real: Shirt,\t\tClase predicha: T-shirt/top,\t\tConfusiones: 87\n",
      "Clase real: Coat,\t\tClase predicha: Pullover,\t\tConfusiones: 81\n",
      "Clase real: T-shirt/top,\t\tClase predicha: Shirt,\t\tConfusiones: 73\n",
      "Clase real: Coat,\t\tClase predicha: Shirt,\t\tConfusiones: 64\n",
      "Clase real: Shirt,\t\tClase predicha: Pullover,\t\tConfusiones: 56\n",
      "Clase real: Pullover,\t\tClase predicha: Shirt,\t\tConfusiones: 46\n",
      "Clase real: Shirt,\t\tClase predicha: Coat,\t\tConfusiones: 40\n",
      "Clase real: Shirt,\t\tClase predicha: Dress,\t\tConfusiones: 28\n",
      "Clase real: Dress,\t\tClase predicha: Shirt,\t\tConfusiones: 28\n",
      "Clase real: Coat,\t\tClase predicha: Dress,\t\tConfusiones: 27\n",
      "Clase real: T-shirt/top,\t\tClase predicha: Pullover,\t\tConfusiones: 25\n",
      "Clase real: Pullover,\t\tClase predicha: Coat,\t\tConfusiones: 21\n",
      "Clase real: Dress,\t\tClase predicha: Coat,\t\tConfusiones: 19\n",
      "Clase real: Bag,\t\tClase predicha: Shirt,\t\tConfusiones: 15\n",
      "Clase real: Trouser,\t\tClase predicha: Dress,\t\tConfusiones: 13\n",
      "Clase real: Dress,\t\tClase predicha: Pullover,\t\tConfusiones: 13\n",
      "Clase real: T-shirt/top,\t\tClase predicha: Dress,\t\tConfusiones: 12\n",
      "Clase real: Sandal,\t\tClase predicha: Ankle boot,\t\tConfusiones: 11\n",
      "Clase real: Pullover,\t\tClase predicha: T-shirt/top,\t\tConfusiones: 10\n",
      "Clase real: Dress,\t\tClase predicha: T-shirt/top,\t\tConfusiones: 9\n",
      "Clase real: Ankle boot,\t\tClase predicha: Sneaker,\t\tConfusiones: 6\n",
      "Clase real: Pullover,\t\tClase predicha: Dress,\t\tConfusiones: 6\n",
      "Clase real: Sneaker,\t\tClase predicha: Sandal,\t\tConfusiones: 5\n",
      "Clase real: Bag,\t\tClase predicha: T-shirt/top,\t\tConfusiones: 4\n",
      "Clase real: Bag,\t\tClase predicha: Dress,\t\tConfusiones: 4\n",
      "Clase real: Bag,\t\tClase predicha: Coat,\t\tConfusiones: 4\n",
      "Clase real: Sandal,\t\tClase predicha: Sneaker,\t\tConfusiones: 4\n",
      "Clase real: Trouser,\t\tClase predicha: T-shirt/top,\t\tConfusiones: 4\n",
      "Clase real: Bag,\t\tClase predicha: Sneaker,\t\tConfusiones: 3\n",
      "Clase real: Shirt,\t\tClase predicha: Bag,\t\tConfusiones: 3\n",
      "Clase real: Trouser,\t\tClase predicha: Shirt,\t\tConfusiones: 3\n",
      "Clase real: Trouser,\t\tClase predicha: Pullover,\t\tConfusiones: 2\n",
      "Clase real: Bag,\t\tClase predicha: Trouser,\t\tConfusiones: 2\n",
      "Clase real: Dress,\t\tClase predicha: Trouser,\t\tConfusiones: 2\n",
      "Clase real: Ankle boot,\t\tClase predicha: T-shirt/top,\t\tConfusiones: 2\n",
      "Clase real: Sandal,\t\tClase predicha: T-shirt/top,\t\tConfusiones: 2\n",
      "Clase real: Ankle boot,\t\tClase predicha: Sandal,\t\tConfusiones: 2\n",
      "Clase real: T-shirt/top,\t\tClase predicha: Coat,\t\tConfusiones: 2\n",
      "Clase real: Bag,\t\tClase predicha: Sandal,\t\tConfusiones: 1\n",
      "Clase real: Bag,\t\tClase predicha: Pullover,\t\tConfusiones: 1\n",
      "Clase real: T-shirt/top,\t\tClase predicha: Bag,\t\tConfusiones: 1\n",
      "Clase real: T-shirt/top,\t\tClase predicha: Trouser,\t\tConfusiones: 1\n",
      "Clase real: Pullover,\t\tClase predicha: Trouser,\t\tConfusiones: 1\n",
      "Clase real: Coat,\t\tClase predicha: T-shirt/top,\t\tConfusiones: 1\n",
      "Clase real: Ankle boot,\t\tClase predicha: Pullover,\t\tConfusiones: 1\n",
      "Clase real: Trouser,\t\tClase predicha: Sneaker,\t\tConfusiones: 1\n",
      "Clase real: Shirt,\t\tClase predicha: Sandal,\t\tConfusiones: 1\n",
      "Clase real: Bag,\t\tClase predicha: Ankle boot,\t\tConfusiones: 1\n"
     ]
    }
   ],
   "source": [
    "confusedClasses(modelC2_definitive)"
   ]
  },
  {
   "cell_type": "markdown",
   "metadata": {
    "id": "fqesnmdgczVk"
   },
   "source": [
    "De nuevo las clases con más confusiones son las de prendas que se colocan en el torso cuya apariencia es similar."
   ]
  },
  {
   "cell_type": "markdown",
   "metadata": {
    "id": "yLmmgxZIkeSc"
   },
   "source": [
    "## 1.7 Comparativa de los modelos C1 y C2"
   ]
  },
  {
   "cell_type": "markdown",
   "metadata": {
    "id": "UUAAwIruf-lq"
   },
   "source": [
    "En el modelo C2 obtenemos resultados mejores que en el modelo C1, tanto en entrenamiento + validación como en test, además de que el tiempo de entrenamiento es bastante superior. Esto se debe a la mayor complejidad del segundo modelo, que cuenta con más capas, entre ellas 3 convolucionales a diferencia de 2 que tiene el primer modelo."
   ]
  },
  {
   "cell_type": "markdown",
   "metadata": {
    "id": "yT5j6lZOAqix"
   },
   "source": [
    "# **Ejercicio 2: IA generativa con Autoencoders (5 puntos)**"
   ]
  },
  {
   "cell_type": "markdown",
   "metadata": {
    "id": "foprMKRmTbK6"
   },
   "source": [
    "En este ejercicio los alumnos se enfrentarán a un problema utilizando autoencoders, el cual tendrán que abordar de comienzo a fin (desde el análisis exploratorio hasta el entrenamiento y validación de los modelos de aprendizaje automático seleccionados). En particular, se enfrentarán a un problema  de **Inteligencia Artificial Generativa** haciendo uso de técnicas de Deep Learning para tratar de generar imágenes que contienen dígitos manuscritos."
   ]
  },
  {
   "cell_type": "markdown",
   "metadata": {
    "id": "sinWGGEUTbZq"
   },
   "source": [
    "## Contexto del problema"
   ]
  },
  {
   "cell_type": "markdown",
   "metadata": {
    "id": "TMFSu6WvTdfK"
   },
   "source": [
    "La **IA generativa** es un tipo de Inteligencia Artificial que se centra en crear contenido nuevo y original. Esto puede incluir texto, imágenes, música, vídeo, etc. A diferencia de otros tipos de IA que se enfocan en analizar o clasificar datos, la IA generativa utiliza modelos complejos para aprender patrones y características de los datos existentes y luego generar algo nuevo basado en ese aprendizaje.\n",
    "\n",
    "Un ejemplo popular de IA generativa son los modelos de lenguaje, como **ChatGPT**. Estos modelos pueden escribir historias, responder preguntas o incluso mantener una conversación, todo basado en la información con la que fueron entrenados.\n",
    "\n",
    "La IA generativa también se utiliza en el arte, donde puede crear obras visuales sorprendentes, o en la música, donde puede componer melodías. Sin embargo, es importante tener en cuenta que, aunque puede producir resultados impresionantes, la calidad y la relevancia del contenido generado pueden variar.\n",
    "\n",
    "<center>\n",
    "<img src=\"https://bernardmarr.com/wp-content/uploads/2024/02/13-Ways-Writers-Should-Embrace-Generative-AI.webp\" />\n",
    "</center>\n",
    "\n",
    "En esta práctica **vamos a hacer uso de autoencoders** para aprender las características de dígitos manuscritos, de modo que podamos utilizar el modelo entrenado **para generar nuevos dígitos previamente inexistentes**.\n",
    "\n",
    "En particular, el modelo que deseamos construir constará de dos partes:\n",
    "\n",
    "- Un **encoder**, capaz de obtener una imagen de entrada conteniendo un dígito manuscrito y dar como salida su *embedding*.\n",
    "- Un **decoder**, cada de generar una imagen a partir de un *embedding*.\n"
   ]
  },
  {
   "cell_type": "markdown",
   "metadata": {
    "id": "qY7J9sRnTdjT"
   },
   "source": [
    "## El conjunto de datos"
   ]
  },
  {
   "cell_type": "markdown",
   "metadata": {
    "id": "CdjchX3DTfHS"
   },
   "source": [
    "Utilizaremos el conjunto de datos de Digits MNIST incluido en TensorFlow, el cual se puede cargar utilizando el código de la siguiente celda:"
   ]
  },
  {
   "cell_type": "code",
   "execution_count": 1,
   "metadata": {
    "executionInfo": {
     "elapsed": 8439,
     "status": "ok",
     "timestamp": 1748106929580,
     "user": {
      "displayName": "RamonLS8",
      "userId": "05017597854797905324"
     },
     "user_tz": -120
    },
    "id": "PMHDaJ0yVSHD"
   },
   "outputs": [
    {
     "name": "stdout",
     "output_type": "stream",
     "text": [
      "Downloading data from https://storage.googleapis.com/tensorflow/tf-keras-datasets/mnist.npz\n",
      "\u001b[1m11490434/11490434\u001b[0m \u001b[32m━━━━━━━━━━━━━━━━━━━━\u001b[0m\u001b[37m\u001b[0m \u001b[1m2s\u001b[0m 0us/step\n"
     ]
    }
   ],
   "source": [
    "import tensorflow as tf\n",
    "\n",
    "train, test= tf.keras.datasets.mnist.load_data()\n",
    "XTrain, YTrain= train\n",
    "XTest, YTest= test"
   ]
  },
  {
   "cell_type": "markdown",
   "metadata": {
    "id": "Gp-Nms-IVoHm"
   },
   "source": [
    "## Tarea"
   ]
  },
  {
   "cell_type": "markdown",
   "metadata": {
    "id": "Ez67y8wPVpHD"
   },
   "source": [
    "El alumnado debe realizar, al menos, las siguientes tareas (que deben ser descritas y abordadas, explícitamente, en la documentación entregada; de hecho, se debe incluir un subapartado en el Notebook para cada una de ellas):\n",
    "\n",
    "1. Análisis descriptivo del problema y análisis exploratorio de los datos a nuestra disposición.\n",
    "2. Preprocesado de datos (selección/extracción de características, reducción de dimensionalidad, procesado de datos extremos/atípicos, imputación de datos faltantes, escalado de variables, codificación/transformación de datos, desbalanceo de datos).\n",
    "3. Definición del protocolo de validación experimental (entrenamiento, validación y test), junto con las métricas de evaluación del rendimiento que corresponda.\n",
    "4. Construcción de **tres modelos**:\n",
    "    1. **Encoder**, para codificar datos de entrada en *embeddings*.\n",
    "    2. **Decoder**, para decodificar *embeddings*.\n",
    "    3. **Autoencoder**, formado como la concatenación secuencial del **Encoder** y el **Decoder**\n",
    "5. Selección y estimación de valores para hiperparámetros.\n",
    "6. Validación del modelo. Discusión de resultados y extracción de conclusiones.\n",
    "\n",
    "\n",
    "Con respecto a los modelos a utilizar, usaremos la siguiente estructura para el **Encoder**:\n",
    "\n",
    "\n",
    "<table>\n",
    "<th>\n",
    "  <td><b>Layer Type</b></td>\n",
    "  <td><b>kernel type (conv.)</b></td>\n",
    "  <td><b>Input | Output dim.</b></td>\n",
    "  <td><b>Input | Output channels (conv.)</b></td>\n",
    "</th>\n",
    "<tr>\n",
    "  <td></td>\n",
    "  <td> Conv </td>\n",
    "  <td> 3x3 </td>\n",
    "  <td> 28x28 | 28x28 </td>\n",
    "  <td> 1 | 64 </td>\n",
    "</tr>\n",
    "<tr>\n",
    "  <td></td>\n",
    "  <td> ReLU </td>\n",
    "  <td> - </td>\n",
    "  <td> - </td>\n",
    "  <td> - </td>\n",
    "</tr>\n",
    "\n",
    "<tr>\n",
    "  <td></td>\n",
    "  <td> Conv </td>\n",
    "  <td> 3x3 </td>\n",
    "  <td> 28x28 | 28x28 </td>\n",
    "  <td> 64 | 32 </td>\n",
    "</tr>\n",
    "<tr>\n",
    "  <td></td>\n",
    "  <td> ReLU </td>\n",
    "  <td> - </td>\n",
    "  <td> - </td>\n",
    "  <td> - </td>\n",
    "</tr>\n",
    "<tr>\n",
    "  <td></td>\n",
    "  <td> MaxPooling </td>\n",
    "  <td> 2x2 </td>\n",
    "  <td> 28x28 | 14x14 </td>\n",
    "  <td> - </td>\n",
    "</tr>\n",
    "\n",
    "<tr>\n",
    "  <td></td>\n",
    "  <td> Conv </td>\n",
    "  <td> 3x3 </td>\n",
    "  <td> 14x14 | 14x14 </td>\n",
    "  <td> 32 | 16 </td>\n",
    "</tr>\n",
    "<tr>\n",
    "  <td></td>\n",
    "  <td> ReLU </td>\n",
    "  <td> - </td>\n",
    "  <td> - </td>\n",
    "  <td> - </td>\n",
    "</tr>\n",
    "<tr>\n",
    "  <td></td>\n",
    "  <td> MaxPooling </td>\n",
    "  <td> 2x2 </td>\n",
    "  <td> 14x14 | 7x7 </td>\n",
    "  <td> - </td>\n",
    "</tr>\n",
    "</table>\n",
    "\n",
    "\n",
    "El **Decoder** deberá *deshacer* la codificación realizada por el **Encoder**, por lo que estableceremos una arquitectura de capas simétrica al primer módulo:\n",
    "\n",
    "<table>\n",
    "<th>\n",
    "  <td><b>Layer Type</b></td>\n",
    "  <td><b>kernel type (conv.)</b></td>\n",
    "  <td><b>Input | Output dim.</b></td>\n",
    "  <td><b>Input | Output channels (conv.)</b></td>\n",
    "</th>\n",
    "\n",
    "<tr>\n",
    "  <td></td>\n",
    "  <td> UpSampling2D </td>\n",
    "  <td> 2x2 </td>\n",
    "  <td> 7x7 | 14x14 </td>\n",
    "  <td> 16 | 16 </td>\n",
    "</tr>\n",
    "<tr>\n",
    "  <td></td>\n",
    "  <td> Conv </td>\n",
    "  <td> 3x3 </td>\n",
    "  <td> 14x14 | 14x14 </td>\n",
    "  <td> 16 | 32 </td>\n",
    "</tr>\n",
    "<tr>\n",
    "  <td></td>\n",
    "  <td> ReLU </td>\n",
    "  <td> - </td>\n",
    "  <td> - </td>\n",
    "  <td> - </td>\n",
    "</tr>\n",
    "\n",
    "<tr>\n",
    "  <td></td>\n",
    "  <td> UpSampling2D </td>\n",
    "  <td> 2x2 </td>\n",
    "  <td> 14x14 | 28x28 </td>\n",
    "  <td> - </td>\n",
    "</tr>\n",
    "<tr>\n",
    "  <td></td>\n",
    "  <td> Conv </td>\n",
    "  <td> 3x3 </td>\n",
    "  <td> 28x28 | 28x28 </td>\n",
    "  <td> 32 | 64 </td>\n",
    "</tr>\n",
    "<tr>\n",
    "  <td></td>\n",
    "  <td> ReLU </td>\n",
    "  <td> - </td>\n",
    "  <td> - </td>\n",
    "  <td> - </td>\n",
    "</tr>\n",
    "<tr>\n",
    "  <td></td>\n",
    "  <td> Conv </td>\n",
    "  <td> 3x3 </td>\n",
    "  <td> 28x28 | 28x28 </td>\n",
    "  <td> 64 | 1 </td>\n",
    "</tr>\n",
    "<tr>\n",
    "  <td></td>\n",
    "  <td> ReLU </td>\n",
    "  <td> - </td>\n",
    "  <td> - </td>\n",
    "  <td> - </td>\n",
    "</tr>\n",
    "</table>\n",
    "\n",
    "\n",
    "**Entrene el autoencoder un total de 50 épocas con tamaño de batch 1000. Use una función de pérdida habitual para resolución de problemas de regresión**.\n",
    "\n",
    "<font color=\"red\"><b>NO OLVIDAR ACTIVAR LA GPU EN LA CONFIGURACIÓN DEL CUADERNO (Menú Editar -> Configuración del cuaderno)</b></font>\n",
    "\n",
    "\n",
    "Cuando el modelo **autoencoder** ya esté entrenado, además de su validación con el conjunto de test, realice las siguientes pruebas:\n",
    "\n",
    "- **Usando sólo el encoder**:\n",
    "   1. Seleccione todas las imágenes de un mismo dígito (por ejemplo, el dígito 0).\n",
    "   2. Envíe esas imágenes como entrada al encoder, y obtenga los resultados de los embeddings.\n",
    "   3. Calcule un **embedding promedio** calculando la media de cada componente de todos los embeddings.\n",
    "\n",
    "- **Usando sólo el decoder**:\n",
    "   4. Proporcione este nuevo **embedding promedio** como entrada al **Decoder**. ¿Qué se obtiene? ¿Es lógico el resultado?\n",
    "\n",
    "\n",
    "- Realice los pasos anteriores del **Encoder** con todos los dígitos pero, en este caso, guarde el valor promedio y de desviación estándar (a este último lo denominaremos **embedding de desviación**.\n",
    "- Genere, para cada dígito, varios **nuevos embeddings** simulando un muestreo desde una distribución normal de media el embedding promedio y desviación típica el embedding de desviación.\n",
    "- Utilice los **embeddings nuevos** como entrada al módulo **Decoder**. ¿Qué se obtiene?\n",
    "- Analice y discuta los resultados obtenidos.\n",
    "\n"
   ]
  },
  {
   "cell_type": "markdown",
   "metadata": {
    "id": "cxfo53yW-MOw"
   },
   "source": [
    "## 2.1 Análisis descriptivo del problema y análisis exploratorio de los datos a nuestra disposición"
   ]
  },
  {
   "cell_type": "markdown",
   "metadata": {
    "id": "jljxZ86e-MOw"
   },
   "source": [
    "Vemos como los datos de entrada ( XTrain ) están formados por los píxeles de las imágenes, con valores entre 0 y 255. Para ello mostramos en la primera imagen ( XTrain[0] ) algunas de sus filas ( XTrain[0][5:8] ):"
   ]
  },
  {
   "cell_type": "code",
   "execution_count": 2,
   "metadata": {
    "colab": {
     "base_uri": "https://localhost:8080/"
    },
    "executionInfo": {
     "elapsed": 11,
     "status": "ok",
     "timestamp": 1748106929597,
     "user": {
      "displayName": "RamonLS8",
      "userId": "05017597854797905324"
     },
     "user_tz": -120
    },
    "id": "JNyIB8rf-MOw",
    "outputId": "a4bee7a8-25ba-4672-ab13-338cc850d0e9"
   },
   "outputs": [
    {
     "data": {
      "text/plain": [
       "array([[  0,   0,   0,   0,   0,   0,   0,   0,   0,   0,   0,   0,   3,\n",
       "         18,  18,  18, 126, 136, 175,  26, 166, 255, 247, 127,   0,   0,\n",
       "          0,   0],\n",
       "       [  0,   0,   0,   0,   0,   0,   0,   0,  30,  36,  94, 154, 170,\n",
       "        253, 253, 253, 253, 253, 225, 172, 253, 242, 195,  64,   0,   0,\n",
       "          0,   0],\n",
       "       [  0,   0,   0,   0,   0,   0,   0,  49, 238, 253, 253, 253, 253,\n",
       "        253, 253, 253, 253, 251,  93,  82,  82,  56,  39,   0,   0,   0,\n",
       "          0,   0]], dtype=uint8)"
      ]
     },
     "execution_count": 2,
     "metadata": {},
     "output_type": "execute_result"
    }
   ],
   "source": [
    "XTrain[0][5:8]"
   ]
  },
  {
   "cell_type": "markdown",
   "metadata": {
    "id": "2Z-mOUtB-MOw"
   },
   "source": [
    "Los valores de salida ( YTrain ) corresponden al tipo de prenda, con valores entre 0 y 9:"
   ]
  },
  {
   "cell_type": "code",
   "execution_count": 3,
   "metadata": {
    "colab": {
     "base_uri": "https://localhost:8080/"
    },
    "executionInfo": {
     "elapsed": 10,
     "status": "ok",
     "timestamp": 1748106929611,
     "user": {
      "displayName": "RamonLS8",
      "userId": "05017597854797905324"
     },
     "user_tz": -120
    },
    "id": "6eNPeQrw-MOw",
    "outputId": "af1f1202-69bb-4695-a911-29390d5de556"
   },
   "outputs": [
    {
     "data": {
      "text/plain": [
       "array([5, 0, 4, ..., 5, 6, 8], dtype=uint8)"
      ]
     },
     "execution_count": 3,
     "metadata": {},
     "output_type": "execute_result"
    }
   ],
   "source": [
    "YTrain"
   ]
  },
  {
   "cell_type": "markdown",
   "metadata": {
    "id": "LW-3H2kn-MOw"
   },
   "source": [
    "Tenemos 60000 muestras de train y 10000 de test, con imágenes de 28x28 píxeles:"
   ]
  },
  {
   "cell_type": "code",
   "execution_count": 4,
   "metadata": {
    "colab": {
     "base_uri": "https://localhost:8080/"
    },
    "executionInfo": {
     "elapsed": 41,
     "status": "ok",
     "timestamp": 1748106929656,
     "user": {
      "displayName": "RamonLS8",
      "userId": "05017597854797905324"
     },
     "user_tz": -120
    },
    "id": "g6eK1Tlj-MOx",
    "outputId": "bd81e3ff-f9c4-428d-a017-c2f0ed638037"
   },
   "outputs": [
    {
     "name": "stdout",
     "output_type": "stream",
     "text": [
      "(60000, 28, 28)\n",
      "(60000,)\n",
      "(10000, 28, 28)\n",
      "(10000,)\n"
     ]
    }
   ],
   "source": [
    "print(XTrain.shape)\n",
    "print(YTrain.shape)\n",
    "print(XTest.shape)\n",
    "print(YTest.shape)"
   ]
  },
  {
   "cell_type": "markdown",
   "metadata": {
    "id": "G6fBG6TF-MOx"
   },
   "source": [
    "Mostramos algunas de las imágenes junto a su etiqueta:"
   ]
  },
  {
   "cell_type": "code",
   "execution_count": 5,
   "metadata": {
    "colab": {
     "base_uri": "https://localhost:8080/",
     "height": 169
    },
    "executionInfo": {
     "elapsed": 574,
     "status": "ok",
     "timestamp": 1748106930234,
     "user": {
      "displayName": "RamonLS8",
      "userId": "05017597854797905324"
     },
     "user_tz": -120
    },
    "id": "uXT4BCPI-MOx",
    "outputId": "9497b667-5fd4-41ad-bc2d-28f59bf7082c"
   },
   "outputs": [
    {
     "data": {
      "image/png": "[encoded data removed]",
      "text/plain": [
       "<Figure size 640x480 with 5 Axes>"
      ]
     },
     "metadata": {},
     "output_type": "display_data"
    }
   ],
   "source": [
    "import numpy as np\n",
    "import matplotlib.pyplot as plt\n",
    "\n",
    "imgs_mostrar= 5\n",
    "selected = np.random.choice(range(len(XTrain)), size=imgs_mostrar)\n",
    "imgs, digits = XTrain[ selected ], YTrain[selected]\n",
    "\n",
    "for i, (img, digit) in enumerate(zip(imgs, digits)):\n",
    "  plt.subplot(1, 5, i+1)\n",
    "  plt.imshow(img.squeeze(), cmap= 'gray')\n",
    "  plt.xlabel(digit)"
   ]
  },
  {
   "cell_type": "markdown",
   "metadata": {
    "id": "RvS1k179-MOx"
   },
   "source": [
    "Vamos a ver los histogramas de las intesidades de color de las diferentes colores:"
   ]
  },
  {
   "cell_type": "code",
   "execution_count": 6,
   "metadata": {
    "colab": {
     "base_uri": "https://localhost:8080/",
     "height": 956
    },
    "executionInfo": {
     "elapsed": 4704,
     "status": "ok",
     "timestamp": 1748106937031,
     "user": {
      "displayName": "RamonLS8",
      "userId": "05017597854797905324"
     },
     "user_tz": -120
    },
    "id": "_nvE3XPh-MOx",
    "outputId": "e29e9718-fd5c-42b6-ee98-3d9dd5b55e07"
   },
   "outputs": [
    {
     "data": {
      "image/png": "[encoded data removed]",
      "text/plain": [
       "<Figure size 1500x1000 with 10 Axes>"
      ]
     },
     "metadata": {},
     "output_type": "display_data"
    }
   ],
   "source": [
    "import pandas as pd\n",
    "import matplotlib.pyplot as plt\n",
    "\n",
    "XTrain_flatten = XTrain.reshape(len(XTrain), -1)\n",
    "\n",
    "fig, axes = plt.subplots(nrows=4, ncols=3, figsize=(15, 10))\n",
    "axes = axes.flatten()\n",
    "\n",
    "for i in range(0, 10):\n",
    "    pixels = XTrain_flatten[YTrain == i].flatten()\n",
    "    # No tenemos en cuenta los píxeles con valor 0 ya que el fondo es de este color y el número de estos será demasiado alto frente al resto\n",
    "    axes[i].hist(pixels[pixels != 0], bins=30)\n",
    "    axes[i].set_title(i)\n",
    "    axes[i].set_xlabel('Valor')\n",
    "    axes[i].set_ylabel('Frecuencia')\n",
    "\n",
    "# Eliminar ejes vacíos si hay menos de 12 columnas\n",
    "for j in range(i + 1, len(axes)):\n",
    "    fig.delaxes(axes[j])\n",
    "\n",
    "plt.tight_layout()\n",
    "plt.show()"
   ]
  },
  {
   "cell_type": "markdown",
   "metadata": {
    "id": "cMWW9Ta5-MOx"
   },
   "source": [
    "Vemos como en todos los casos el color predominante es el blanco 255, ya que los números han sido dibujados con este color, dejando únicamente sus bordes con otros tonos de grises."
   ]
  },
  {
   "cell_type": "markdown",
   "metadata": {
    "id": "L-vrIEwp-MOx"
   },
   "source": [
    "## 2.3.1 Protocolo de validación experimental"
   ]
  },
  {
   "cell_type": "markdown",
   "metadata": {
    "id": "Yc53ejFk-MOx"
   },
   "source": [
    "Antes de realizar ```Preprocesado de datos```, vamos a dividir los datos de train y test que tenemos, en train, val y test, para hacer así el preprocesado solo en los de train y val.\n",
    "\n",
    "Dividimos el conjunto de datos de train en un 20 % de val y 80 % de train."
   ]
  },
  {
   "cell_type": "code",
   "execution_count": 7,
   "metadata": {
    "colab": {
     "base_uri": "https://localhost:8080/"
    },
    "executionInfo": {
     "elapsed": 68,
     "status": "ok",
     "timestamp": 1748106941577,
     "user": {
      "displayName": "RamonLS8",
      "userId": "05017597854797905324"
     },
     "user_tz": -120
    },
    "id": "EWIGrkDx-MOy",
    "outputId": "aa8fd7da-be34-429f-e8e9-6cf6373436ce"
   },
   "outputs": [
    {
     "name": "stdout",
     "output_type": "stream",
     "text": [
      "XTrain: (48000, 28, 28)\n",
      "XVal: (12000, 28, 28)\n"
     ]
    }
   ],
   "source": [
    "from sklearn.model_selection import train_test_split\n",
    "\n",
    "XTrain, XVal, YTrain, YVal = train_test_split(XTrain, YTrain, test_size= 0.2, random_state= 123)\n",
    "\n",
    "print(\"XTrain:\", XTrain.shape)\n",
    "print(\"XVal:\", XVal.shape)"
   ]
  },
  {
   "cell_type": "markdown",
   "metadata": {
    "id": "W60R-xlR-MOy"
   },
   "source": [
    "## 2.2 Preprocesado de datos"
   ]
  },
  {
   "cell_type": "markdown",
   "metadata": {
    "id": "aAKOeDq--MOy"
   },
   "source": [
    "Para mejorar la precisión del modelo aplicaremos normalización, es decir, dejaremos los datos con media 0 y std 1. Esto ayuda ya que los parámetros de los modelos no serán números tan elevados."
   ]
  },
  {
   "cell_type": "code",
   "execution_count": 8,
   "metadata": {
    "colab": {
     "base_uri": "https://localhost:8080/"
    },
    "executionInfo": {
     "elapsed": 708,
     "status": "ok",
     "timestamp": 1748106944854,
     "user": {
      "displayName": "RamonLS8",
      "userId": "05017597854797905324"
     },
     "user_tz": -120
    },
    "id": "2DryTi7R-MOy",
    "outputId": "73a448c2-0ce9-43aa-b135-e60ef3279dca"
   },
   "outputs": [
    {
     "name": "stdout",
     "output_type": "stream",
     "text": [
      "XTrain: (48000, 28, 28)\n",
      "XVal: (12000, 28, 28)\n",
      "\n",
      "Tras cambiar los datos a 2 dimensiones:\n",
      "XTrain: (48000, 784)\n",
      "XVal: (12000, 784)\n",
      "\n",
      "Tras devolver los datos a las dimensiones originales:\n",
      "XTrain: (48000, 28, 28)\n",
      "XVal: (12000, 28, 28)\n"
     ]
    }
   ],
   "source": [
    "from sklearn.preprocessing import StandardScaler\n",
    "\n",
    "# Cambiamos las dimensiones de los datos para poder usar el StandardScaler\n",
    "print(\"XTrain:\", XTrain.shape)\n",
    "print(\"XVal:\", XVal.shape)\n",
    "\n",
    "XTrain = XTrain.reshape(len(XTrain), -1)\n",
    "XVal = XVal.reshape(len(XVal), -1)\n",
    "\n",
    "print(\"\\nTras cambiar los datos a 2 dimensiones:\")\n",
    "print(\"XTrain:\", XTrain.shape)\n",
    "print(\"XVal:\", XVal.shape)\n",
    "\n",
    "# Estandarización (normalización de datos con media 0 y std 1)\n",
    "se = StandardScaler()\n",
    "se.fit(XTrain)\n",
    "\n",
    "XTrain = se.transform(XTrain)\n",
    "XVal = se.transform(XVal)\n",
    "\n",
    "# Volvemos a cambiar a las dimensiones originales\n",
    "XTrain = XTrain.reshape(len(XTrain), 28, 28)\n",
    "XVal = XVal.reshape(len(XVal), 28, 28)\n",
    "\n",
    "print(\"\\nTras devolver los datos a las dimensiones originales:\")\n",
    "print(\"XTrain:\", XTrain.shape)\n",
    "print(\"XVal:\", XVal.shape)"
   ]
  },
  {
   "cell_type": "markdown",
   "metadata": {
    "id": "ZGlYWteT-MOy"
   },
   "source": [
    "En TensorFlow, el procesamiento de imágenes necesita especificar de forma explítica los canales que tiene cada imagen. Al estar en blanco y negro, hay que indicar que hay un único canal, para ello incluiremos una última dimensión a los datos de entrada."
   ]
  },
  {
   "cell_type": "code",
   "execution_count": 9,
   "metadata": {
    "colab": {
     "base_uri": "https://localhost:8080/"
    },
    "executionInfo": {
     "elapsed": 29,
     "status": "ok",
     "timestamp": 1748106946893,
     "user": {
      "displayName": "RamonLS8",
      "userId": "05017597854797905324"
     },
     "user_tz": -120
    },
    "id": "JTn9WyFa-MOy",
    "outputId": "8ca06bed-082b-411a-8fd8-3c53c2828b56"
   },
   "outputs": [
    {
     "name": "stdout",
     "output_type": "stream",
     "text": [
      "XTrain: (48000, 28, 28, 1)\n",
      "XVal: (12000, 28, 28, 1)\n"
     ]
    }
   ],
   "source": [
    "XTrain= np.expand_dims(XTrain, axis= -1)\n",
    "XVal= np.expand_dims(XVal, axis= -1)\n",
    "\n",
    "print(\"XTrain:\", XTrain.shape)\n",
    "print(\"XVal:\", XVal.shape)"
   ]
  },
  {
   "cell_type": "markdown",
   "metadata": {
    "id": "_xWo0cnX-MOy"
   },
   "source": [
    "Pasemos ahora los datos a tensor:"
   ]
  },
  {
   "cell_type": "code",
   "execution_count": 10,
   "metadata": {
    "executionInfo": {
     "elapsed": 772,
     "status": "ok",
     "timestamp": 1748106948520,
     "user": {
      "displayName": "RamonLS8",
      "userId": "05017597854797905324"
     },
     "user_tz": -120
    },
    "id": "593FFaZy-MOy"
   },
   "outputs": [],
   "source": [
    "tXtrain, tYtrain= tf.convert_to_tensor(XTrain), tf.convert_to_tensor(YTrain, dtype=tf.int32)\n",
    "tXval, tYval= tf.convert_to_tensor(XVal), tf.convert_to_tensor(YVal, dtype=tf.int32)"
   ]
  },
  {
   "cell_type": "markdown",
   "metadata": {
    "id": "Hayfztz5-MOy"
   },
   "source": [
    "## 2.3.2 Métricas de evaluación del rendimiento"
   ]
  },
  {
   "cell_type": "markdown",
   "metadata": {
    "id": "JFHlwsrH-MOz"
   },
   "source": [
    "Para el autoencoder usaremos el MSE:"
   ]
  },
  {
   "cell_type": "code",
   "execution_count": 11,
   "metadata": {
    "executionInfo": {
     "elapsed": 51,
     "status": "ok",
     "timestamp": 1748106949277,
     "user": {
      "displayName": "RamonLS8",
      "userId": "05017597854797905324"
     },
     "user_tz": -120
    },
    "id": "-1-Uml9T-MOz"
   },
   "outputs": [],
   "source": [
    "autoencoder_metrics = ['mean_squared_error']"
   ]
  },
  {
   "cell_type": "markdown",
   "metadata": {
    "id": "FfvhrcoN-MOz"
   },
   "source": [
    "## 2.4 Modelos de deep learning"
   ]
  },
  {
   "cell_type": "markdown",
   "metadata": {
    "id": "jxKJxbUG-MOz"
   },
   "source": [
    "**<u>Encoder</u>**"
   ]
  },
  {
   "cell_type": "markdown",
   "metadata": {
    "id": "Ygk2x_7a-MOz"
   },
   "source": [
    "<table>\n",
    "<th>\n",
    "  <td><b>Layer Type</b></td>\n",
    "  <td><b>kernel type (conv.)</b></td>\n",
    "  <td><b>Input | Output dim.</b></td>\n",
    "  <td><b>Input | Output channels (conv.)</b></td>\n",
    "</th>\n",
    "<tr>\n",
    "  <td></td>\n",
    "  <td> Conv </td>\n",
    "  <td> 3x3 </td>\n",
    "  <td> 28x28 | 28x28 </td>\n",
    "  <td> 1 | 64 </td>\n",
    "</tr>\n",
    "<tr>\n",
    "  <td></td>\n",
    "  <td> ReLU </td>\n",
    "  <td> - </td>\n",
    "  <td> - </td>\n",
    "  <td> - </td>\n",
    "</tr>\n",
    "\n",
    "<tr>\n",
    "  <td></td>\n",
    "  <td> Conv </td>\n",
    "  <td> 3x3 </td>\n",
    "  <td> 28x28 | 28x28 </td>\n",
    "  <td> 64 | 32 </td>\n",
    "</tr>\n",
    "<tr>\n",
    "  <td></td>\n",
    "  <td> ReLU </td>\n",
    "  <td> - </td>\n",
    "  <td> - </td>\n",
    "  <td> - </td>\n",
    "</tr>\n",
    "<tr>\n",
    "  <td></td>\n",
    "  <td> MaxPooling </td>\n",
    "  <td> 2x2 </td>\n",
    "  <td> 28x28 | 14x14 </td>\n",
    "  <td> - </td>\n",
    "</tr>\n",
    "\n",
    "<tr>\n",
    "  <td></td>\n",
    "  <td> Conv </td>\n",
    "  <td> 3x3 </td>\n",
    "  <td> 14x14 | 14x14 </td>\n",
    "  <td> 32 | 16 </td>\n",
    "</tr>\n",
    "<tr>\n",
    "  <td></td>\n",
    "  <td> ReLU </td>\n",
    "  <td> - </td>\n",
    "  <td> - </td>\n",
    "  <td> - </td>\n",
    "</tr>\n",
    "<tr>\n",
    "  <td></td>\n",
    "  <td> MaxPooling </td>\n",
    "  <td> 2x2 </td>\n",
    "  <td> 14x14 | 7x7 </td>\n",
    "  <td> - </td>\n",
    "</tr>\n",
    "</table>"
   ]
  },
  {
   "cell_type": "code",
   "execution_count": 12,
   "metadata": {
    "executionInfo": {
     "elapsed": 1327,
     "status": "ok",
     "timestamp": 1748106952743,
     "user": {
      "displayName": "RamonLS8",
      "userId": "05017597854797905324"
     },
     "user_tz": -120
    },
    "id": "5WI7TU2W-MOz"
   },
   "outputs": [],
   "source": [
    "from tensorflow.keras import Input, Sequential\n",
    "from tensorflow.keras.layers import Conv2D, MaxPooling2D\n",
    "\n",
    "# Creamos el modelo y las dimensiones de input\n",
    "encoder = Sequential()\n",
    "encoder.add( Input(shape= (tXtrain.shape[1], tXtrain.shape[2], tXtrain.shape[3])) )\n",
    "\n",
    "encoder.add( Conv2D(filters=64, kernel_size=(3,3), padding='same', activation='relu'))\n",
    "\n",
    "encoder.add( Conv2D(filters=32, kernel_size=(3,3), padding='same', activation='relu'))\n",
    "\n",
    "encoder.add( MaxPooling2D(pool_size=(2,2)) )\n",
    "\n",
    "encoder.add( Conv2D(filters=16, kernel_size=(3,3), padding='same', activation='relu'))\n",
    "\n",
    "encoder.add( MaxPooling2D(pool_size=(2,2)) )"
   ]
  },
  {
   "cell_type": "markdown",
   "metadata": {
    "id": "lOlQfUzG-MOz"
   },
   "source": [
    "**<u>Decoder</u>**"
   ]
  },
  {
   "cell_type": "markdown",
   "metadata": {
    "id": "IDXlttlk-MOz"
   },
   "source": [
    "<table>\n",
    "<th>\n",
    "  <td><b>Layer Type</b></td>\n",
    "  <td><b>kernel type (conv.)</b></td>\n",
    "  <td><b>Input | Output dim.</b></td>\n",
    "  <td><b>Input | Output channels (conv.)</b></td>\n",
    "</th>\n",
    "\n",
    "<tr>\n",
    "  <td></td>\n",
    "  <td> UpSampling2D </td>\n",
    "  <td> 2x2 </td>\n",
    "  <td> 7x7 | 14x14 </td>\n",
    "  <td> 16 | 16 </td>\n",
    "</tr>\n",
    "<tr>\n",
    "  <td></td>\n",
    "  <td> Conv </td>\n",
    "  <td> 3x3 </td>\n",
    "  <td> 14x14 | 14x14 </td>\n",
    "  <td> 16 | 32 </td>\n",
    "</tr>\n",
    "<tr>\n",
    "  <td></td>\n",
    "  <td> ReLU </td>\n",
    "  <td> - </td>\n",
    "  <td> - </td>\n",
    "  <td> - </td>\n",
    "</tr>\n",
    "\n",
    "<tr>\n",
    "  <td></td>\n",
    "  <td> UpSampling2D </td>\n",
    "  <td> 2x2 </td>\n",
    "  <td> 14x14 | 28x28 </td>\n",
    "  <td> - </td>\n",
    "</tr>\n",
    "<tr>\n",
    "  <td></td>\n",
    "  <td> Conv </td>\n",
    "  <td> 3x3 </td>\n",
    "  <td> 28x28 | 28x28 </td>\n",
    "  <td> 32 | 64 </td>\n",
    "</tr>\n",
    "<tr>\n",
    "  <td></td>\n",
    "  <td> ReLU </td>\n",
    "  <td> - </td>\n",
    "  <td> - </td>\n",
    "  <td> - </td>\n",
    "</tr>\n",
    "<tr>\n",
    "  <td></td>\n",
    "  <td> Conv </td>\n",
    "  <td> 3x3 </td>\n",
    "  <td> 28x28 | 28x28 </td>\n",
    "  <td> 64 | 1 </td>\n",
    "</tr>\n",
    "<tr>\n",
    "  <td></td>\n",
    "  <td> ReLU </td>\n",
    "  <td> - </td>\n",
    "  <td> - </td>\n",
    "  <td> - </td>\n",
    "</tr>\n",
    "</table>"
   ]
  },
  {
   "cell_type": "code",
   "execution_count": 13,
   "metadata": {
    "executionInfo": {
     "elapsed": 80,
     "status": "ok",
     "timestamp": 1748106953137,
     "user": {
      "displayName": "RamonLS8",
      "userId": "05017597854797905324"
     },
     "user_tz": -120
    },
    "id": "aOH1Hwgg-MOz"
   },
   "outputs": [],
   "source": [
    "from keras.layers import UpSampling2D\n",
    "\n",
    "# Creamos el modelo y las dimensiones de input\n",
    "decoder = Sequential()\n",
    "decoder.add( Input(shape=(tXtrain.shape[1] // 4, tXtrain.shape[2] // 4, 16)) )\n",
    "\n",
    "decoder.add(UpSampling2D(size=(2, 2)))\n",
    "\n",
    "decoder.add( Conv2D(filters=32, kernel_size=(3,3), padding='same', activation='relu'))\n",
    "\n",
    "decoder.add(UpSampling2D(size=(2, 2)))\n",
    "\n",
    "decoder.add( Conv2D(filters=64, kernel_size=(3,3), padding='same', activation='relu'))\n",
    "\n",
    "decoder.add( Conv2D(filters=1, kernel_size=(3,3), padding='same', activation='relu'))"
   ]
  },
  {
   "cell_type": "markdown",
   "metadata": {
    "id": "-83YKjxG-MO0"
   },
   "source": [
    "Unimos el encoder y el decoder para formar el autoencoder:"
   ]
  },
  {
   "cell_type": "code",
   "execution_count": 14,
   "metadata": {
    "executionInfo": {
     "elapsed": 4,
     "status": "ok",
     "timestamp": 1748106955194,
     "user": {
      "displayName": "RamonLS8",
      "userId": "05017597854797905324"
     },
     "user_tz": -120
    },
    "id": "tWIt0nNK-MO0"
   },
   "outputs": [],
   "source": [
    "from tensorflow.keras.models import Model\n",
    "\n",
    "# Definimos la entrada\n",
    "input_img = Input(shape=(tXtrain.shape[1], tXtrain.shape[2], tXtrain.shape[3]))\n",
    "\n",
    "# Creamos el modelo autoencoder\n",
    "autoencoder = Model(input_img, decoder(encoder(input_img)))"
   ]
  },
  {
   "cell_type": "markdown",
   "metadata": {
    "id": "-yyHxjas-MO0"
   },
   "source": [
    "Compilamos el modelo, probando con el optimizador Adam y la función de pérdida MSE:"
   ]
  },
  {
   "cell_type": "code",
   "execution_count": 15,
   "metadata": {
    "colab": {
     "base_uri": "https://localhost:8080/",
     "height": 277
    },
    "executionInfo": {
     "elapsed": 45,
     "status": "ok",
     "timestamp": 1748106956493,
     "user": {
      "displayName": "RamonLS8",
      "userId": "05017597854797905324"
     },
     "user_tz": -120
    },
    "id": "sDQXHb1n-MO0",
    "outputId": "56fa6133-035e-43f5-f9c9-c86323d455bc"
   },
   "outputs": [
    {
     "data": {
      "text/html": [
       "<pre style=\"white-space:pre;overflow-x:auto;line-height:normal;font-family:Menlo,'DejaVu Sans Mono',consolas,'Courier New',monospace\"><span style=\"font-weight: bold\">Model: \"functional_10\"</span>\n",
       "</pre>\n"
      ],
      "text/plain": [
       "\u001b[1mModel: \"functional_10\"\u001b[0m\n"
      ]
     },
     "metadata": {},
     "output_type": "display_data"
    },
    {
     "data": {
      "text/html": [
       "<pre style=\"white-space:pre;overflow-x:auto;line-height:normal;font-family:Menlo,'DejaVu Sans Mono',consolas,'Courier New',monospace\">┏━━━━━━━━━━━━━━━━━━━━━━━━━━━━━━━━━┳━━━━━━━━━━━━━━━━━━━━━━━━┳━━━━━━━━━━━━━━━┓\n",
       "┃<span style=\"font-weight: bold\"> Layer (type)                    </span>┃<span style=\"font-weight: bold\"> Output Shape           </span>┃<span style=\"font-weight: bold\">       Param # </span>┃\n",
       "┡━━━━━━━━━━━━━━━━━━━━━━━━━━━━━━━━━╇━━━━━━━━━━━━━━━━━━━━━━━━╇━━━━━━━━━━━━━━━┩\n",
       "│ input_layer_2 (<span style=\"color: #0087ff; text-decoration-color: #0087ff\">InputLayer</span>)      │ (<span style=\"color: #00d7ff; text-decoration-color: #00d7ff\">None</span>, <span style=\"color: #00af00; text-decoration-color: #00af00\">28</span>, <span style=\"color: #00af00; text-decoration-color: #00af00\">28</span>, <span style=\"color: #00af00; text-decoration-color: #00af00\">1</span>)      │             <span style=\"color: #00af00; text-decoration-color: #00af00\">0</span> │\n",
       "├─────────────────────────────────┼────────────────────────┼───────────────┤\n",
       "│ sequential (<span style=\"color: #0087ff; text-decoration-color: #0087ff\">Sequential</span>)         │ (<span style=\"color: #00d7ff; text-decoration-color: #00d7ff\">None</span>, <span style=\"color: #00af00; text-decoration-color: #00af00\">7</span>, <span style=\"color: #00af00; text-decoration-color: #00af00\">7</span>, <span style=\"color: #00af00; text-decoration-color: #00af00\">16</span>)       │        <span style=\"color: #00af00; text-decoration-color: #00af00\">23,728</span> │\n",
       "├─────────────────────────────────┼────────────────────────┼───────────────┤\n",
       "│ sequential_1 (<span style=\"color: #0087ff; text-decoration-color: #0087ff\">Sequential</span>)       │ (<span style=\"color: #00d7ff; text-decoration-color: #00d7ff\">None</span>, <span style=\"color: #00af00; text-decoration-color: #00af00\">28</span>, <span style=\"color: #00af00; text-decoration-color: #00af00\">28</span>, <span style=\"color: #00af00; text-decoration-color: #00af00\">1</span>)      │        <span style=\"color: #00af00; text-decoration-color: #00af00\">23,713</span> │\n",
       "└─────────────────────────────────┴────────────────────────┴───────────────┘\n",
       "</pre>\n"
      ],
      "text/plain": [
       "┏━━━━━━━━━━━━━━━━━━━━━━━━━━━━━━━━━┳━━━━━━━━━━━━━━━━━━━━━━━━┳━━━━━━━━━━━━━━━┓\n",
       "┃\u001b[1m \u001b[0m\u001b[1mLayer (type)                   \u001b[0m\u001b[1m \u001b[0m┃\u001b[1m \u001b[0m\u001b[1mOutput Shape          \u001b[0m\u001b[1m \u001b[0m┃\u001b[1m \u001b[0m\u001b[1m      Param #\u001b[0m\u001b[1m \u001b[0m┃\n",
       "┡━━━━━━━━━━━━━━━━━━━━━━━━━━━━━━━━━╇━━━━━━━━━━━━━━━━━━━━━━━━╇━━━━━━━━━━━━━━━┩\n",
       "│ input_layer_2 (\u001b[38;5;33mInputLayer\u001b[0m)      │ (\u001b[38;5;45mNone\u001b[0m, \u001b[38;5;34m28\u001b[0m, \u001b[38;5;34m28\u001b[0m, \u001b[38;5;34m1\u001b[0m)      │             \u001b[38;5;34m0\u001b[0m │\n",
       "├─────────────────────────────────┼────────────────────────┼───────────────┤\n",
       "│ sequential (\u001b[38;5;33mSequential\u001b[0m)         │ (\u001b[38;5;45mNone\u001b[0m, \u001b[38;5;34m7\u001b[0m, \u001b[38;5;34m7\u001b[0m, \u001b[38;5;34m16\u001b[0m)       │        \u001b[38;5;34m23,728\u001b[0m │\n",
       "├─────────────────────────────────┼────────────────────────┼───────────────┤\n",
       "│ sequential_1 (\u001b[38;5;33mSequential\u001b[0m)       │ (\u001b[38;5;45mNone\u001b[0m, \u001b[38;5;34m28\u001b[0m, \u001b[38;5;34m28\u001b[0m, \u001b[38;5;34m1\u001b[0m)      │        \u001b[38;5;34m23,713\u001b[0m │\n",
       "└─────────────────────────────────┴────────────────────────┴───────────────┘\n"
      ]
     },
     "metadata": {},
     "output_type": "display_data"
    },
    {
     "data": {
      "text/html": [
       "<pre style=\"white-space:pre;overflow-x:auto;line-height:normal;font-family:Menlo,'DejaVu Sans Mono',consolas,'Courier New',monospace\"><span style=\"font-weight: bold\"> Total params: </span><span style=\"color: #00af00; text-decoration-color: #00af00\">47,441</span> (185.32 KB)\n",
       "</pre>\n"
      ],
      "text/plain": [
       "\u001b[1m Total params: \u001b[0m\u001b[38;5;34m47,441\u001b[0m (185.32 KB)\n"
      ]
     },
     "metadata": {},
     "output_type": "display_data"
    },
    {
     "data": {
      "text/html": [
       "<pre style=\"white-space:pre;overflow-x:auto;line-height:normal;font-family:Menlo,'DejaVu Sans Mono',consolas,'Courier New',monospace\"><span style=\"font-weight: bold\"> Trainable params: </span><span style=\"color: #00af00; text-decoration-color: #00af00\">47,441</span> (185.32 KB)\n",
       "</pre>\n"
      ],
      "text/plain": [
       "\u001b[1m Trainable params: \u001b[0m\u001b[38;5;34m47,441\u001b[0m (185.32 KB)\n"
      ]
     },
     "metadata": {},
     "output_type": "display_data"
    },
    {
     "data": {
      "text/html": [
       "<pre style=\"white-space:pre;overflow-x:auto;line-height:normal;font-family:Menlo,'DejaVu Sans Mono',consolas,'Courier New',monospace\"><span style=\"font-weight: bold\"> Non-trainable params: </span><span style=\"color: #00af00; text-decoration-color: #00af00\">0</span> (0.00 B)\n",
       "</pre>\n"
      ],
      "text/plain": [
       "\u001b[1m Non-trainable params: \u001b[0m\u001b[38;5;34m0\u001b[0m (0.00 B)\n"
      ]
     },
     "metadata": {},
     "output_type": "display_data"
    }
   ],
   "source": [
    "from tensorflow.keras.optimizers import Adam\n",
    "\n",
    "autoencoder.compile(optimizer=Adam(learning_rate=0.001), loss='mean_squared_error', metrics=autoencoder_metrics)\n",
    "\n",
    "autoencoder.summary()"
   ]
  },
  {
   "cell_type": "markdown",
   "metadata": {
    "id": "XnMNHnHq-MO0"
   },
   "source": [
    "Lo entrenamos con 50 épocas y batch size 1000:"
   ]
  },
  {
   "cell_type": "code",
   "execution_count": 17,
   "metadata": {
    "colab": {
     "base_uri": "https://localhost:8080/"
    },
    "executionInfo": {
     "elapsed": 240793,
     "status": "ok",
     "timestamp": 1748103662386,
     "user": {
      "displayName": "RamonLS8",
      "userId": "05017597854797905324"
     },
     "user_tz": -120
    },
    "id": "m2kUHElr-MO0",
    "outputId": "cfb6b525-803b-4f04-925b-b136843d0cf2"
   },
   "outputs": [
    {
     "name": "stdout",
     "output_type": "stream",
     "text": [
      "Epoch 1/50\n",
      "\u001b[1m48/48\u001b[0m \u001b[32m━━━━━━━━━━━━━━━━━━━━\u001b[0m\u001b[37m\u001b[0m \u001b[1m17s\u001b[0m 84ms/step - loss: 0.5784 - mean_squared_error: 0.5784\n",
      "Epoch 2/50\n",
      "\u001b[1m48/48\u001b[0m \u001b[32m━━━━━━━━━━━━━━━━━━━━\u001b[0m\u001b[37m\u001b[0m \u001b[1m10s\u001b[0m 81ms/step - loss: 0.3073 - mean_squared_error: 0.3073\n",
      "Epoch 3/50\n",
      "\u001b[1m48/48\u001b[0m \u001b[32m━━━━━━━━━━━━━━━━━━━━\u001b[0m\u001b[37m\u001b[0m \u001b[1m4s\u001b[0m 81ms/step - loss: 0.2497 - mean_squared_error: 0.2497\n",
      "Epoch 4/50\n",
      "\u001b[1m48/48\u001b[0m \u001b[32m━━━━━━━━━━━━━━━━━━━━\u001b[0m\u001b[37m\u001b[0m \u001b[1m5s\u001b[0m 80ms/step - loss: 0.2208 - mean_squared_error: 0.2208\n",
      "Epoch 5/50\n",
      "\u001b[1m48/48\u001b[0m \u001b[32m━━━━━━━━━━━━━━━━━━━━\u001b[0m\u001b[37m\u001b[0m \u001b[1m5s\u001b[0m 81ms/step - loss: 0.2098 - mean_squared_error: 0.2098\n",
      "Epoch 6/50\n",
      "\u001b[1m48/48\u001b[0m \u001b[32m━━━━━━━━━━━━━━━━━━━━\u001b[0m\u001b[37m\u001b[0m \u001b[1m5s\u001b[0m 80ms/step - loss: 0.1975 - mean_squared_error: 0.1975\n",
      "Epoch 7/50\n",
      "\u001b[1m48/48\u001b[0m \u001b[32m━━━━━━━━━━━━━━━━━━━━\u001b[0m\u001b[37m\u001b[0m \u001b[1m5s\u001b[0m 81ms/step - loss: 0.1928 - mean_squared_error: 0.1928\n",
      "Epoch 8/50\n",
      "\u001b[1m48/48\u001b[0m \u001b[32m━━━━━━━━━━━━━━━━━━━━\u001b[0m\u001b[37m\u001b[0m \u001b[1m5s\u001b[0m 81ms/step - loss: 0.1892 - mean_squared_error: 0.1892\n",
      "Epoch 9/50\n",
      "\u001b[1m48/48\u001b[0m \u001b[32m━━━━━━━━━━━━━━━━━━━━\u001b[0m\u001b[37m\u001b[0m \u001b[1m5s\u001b[0m 81ms/step - loss: 0.1853 - mean_squared_error: 0.1853\n",
      "Epoch 10/50\n",
      "\u001b[1m48/48\u001b[0m \u001b[32m━━━━━━━━━━━━━━━━━━━━\u001b[0m\u001b[37m\u001b[0m \u001b[1m4s\u001b[0m 82ms/step - loss: 0.1832 - mean_squared_error: 0.1832\n",
      "Epoch 11/50\n",
      "\u001b[1m48/48\u001b[0m \u001b[32m━━━━━━━━━━━━━━━━━━━━\u001b[0m\u001b[37m\u001b[0m \u001b[1m5s\u001b[0m 81ms/step - loss: 0.1818 - mean_squared_error: 0.1818\n",
      "Epoch 12/50\n",
      "\u001b[1m48/48\u001b[0m \u001b[32m━━━━━━━━━━━━━━━━━━━━\u001b[0m\u001b[37m\u001b[0m \u001b[1m5s\u001b[0m 81ms/step - loss: 0.1778 - mean_squared_error: 0.1778\n",
      "Epoch 13/50\n",
      "\u001b[1m48/48\u001b[0m \u001b[32m━━━━━━━━━━━━━━━━━━━━\u001b[0m\u001b[37m\u001b[0m \u001b[1m5s\u001b[0m 84ms/step - loss: 0.1764 - mean_squared_error: 0.1764\n",
      "Epoch 14/50\n",
      "\u001b[1m48/48\u001b[0m \u001b[32m━━━━━━━━━━━━━━━━━━━━\u001b[0m\u001b[37m\u001b[0m \u001b[1m4s\u001b[0m 82ms/step - loss: 0.1756 - mean_squared_error: 0.1756\n",
      "Epoch 15/50\n",
      "\u001b[1m48/48\u001b[0m \u001b[32m━━━━━━━━━━━━━━━━━━━━\u001b[0m\u001b[37m\u001b[0m \u001b[1m5s\u001b[0m 84ms/step - loss: 0.1750 - mean_squared_error: 0.1750\n",
      "Epoch 16/50\n",
      "\u001b[1m48/48\u001b[0m \u001b[32m━━━━━━━━━━━━━━━━━━━━\u001b[0m\u001b[37m\u001b[0m \u001b[1m5s\u001b[0m 83ms/step - loss: 0.1730 - mean_squared_error: 0.1730\n",
      "Epoch 17/50\n",
      "\u001b[1m48/48\u001b[0m \u001b[32m━━━━━━━━━━━━━━━━━━━━\u001b[0m\u001b[37m\u001b[0m \u001b[1m5s\u001b[0m 84ms/step - loss: 0.1716 - mean_squared_error: 0.1716\n",
      "Epoch 18/50\n",
      "\u001b[1m48/48\u001b[0m \u001b[32m━━━━━━━━━━━━━━━━━━━━\u001b[0m\u001b[37m\u001b[0m \u001b[1m4s\u001b[0m 83ms/step - loss: 0.1710 - mean_squared_error: 0.1710\n",
      "Epoch 19/50\n",
      "\u001b[1m48/48\u001b[0m \u001b[32m━━━━━━━━━━━━━━━━━━━━\u001b[0m\u001b[37m\u001b[0m \u001b[1m4s\u001b[0m 81ms/step - loss: 0.1715 - mean_squared_error: 0.1715\n",
      "Epoch 20/50\n",
      "\u001b[1m48/48\u001b[0m \u001b[32m━━━━━━━━━━━━━━━━━━━━\u001b[0m\u001b[37m\u001b[0m \u001b[1m5s\u001b[0m 83ms/step - loss: 0.1727 - mean_squared_error: 0.1727\n",
      "Epoch 21/50\n",
      "\u001b[1m48/48\u001b[0m \u001b[32m━━━━━━━━━━━━━━━━━━━━\u001b[0m\u001b[37m\u001b[0m \u001b[1m4s\u001b[0m 83ms/step - loss: 0.1675 - mean_squared_error: 0.1675\n",
      "Epoch 22/50\n",
      "\u001b[1m48/48\u001b[0m \u001b[32m━━━━━━━━━━━━━━━━━━━━\u001b[0m\u001b[37m\u001b[0m \u001b[1m4s\u001b[0m 83ms/step - loss: 0.1671 - mean_squared_error: 0.1671\n",
      "Epoch 23/50\n",
      "\u001b[1m48/48\u001b[0m \u001b[32m━━━━━━━━━━━━━━━━━━━━\u001b[0m\u001b[37m\u001b[0m \u001b[1m4s\u001b[0m 84ms/step - loss: 0.1669 - mean_squared_error: 0.1669\n",
      "Epoch 24/50\n",
      "\u001b[1m48/48\u001b[0m \u001b[32m━━━━━━━━━━━━━━━━━━━━\u001b[0m\u001b[37m\u001b[0m \u001b[1m5s\u001b[0m 82ms/step - loss: 0.1657 - mean_squared_error: 0.1657\n",
      "Epoch 25/50\n",
      "\u001b[1m48/48\u001b[0m \u001b[32m━━━━━━━━━━━━━━━━━━━━\u001b[0m\u001b[37m\u001b[0m \u001b[1m5s\u001b[0m 84ms/step - loss: 0.1651 - mean_squared_error: 0.1651\n",
      "Epoch 26/50\n",
      "\u001b[1m48/48\u001b[0m \u001b[32m━━━━━━━━━━━━━━━━━━━━\u001b[0m\u001b[37m\u001b[0m \u001b[1m4s\u001b[0m 82ms/step - loss: 0.1651 - mean_squared_error: 0.1651\n",
      "Epoch 27/50\n",
      "\u001b[1m48/48\u001b[0m \u001b[32m━━━━━━━━━━━━━━━━━━━━\u001b[0m\u001b[37m\u001b[0m \u001b[1m5s\u001b[0m 81ms/step - loss: 0.1635 - mean_squared_error: 0.1635\n",
      "Epoch 28/50\n",
      "\u001b[1m48/48\u001b[0m \u001b[32m━━━━━━━━━━━━━━━━━━━━\u001b[0m\u001b[37m\u001b[0m \u001b[1m5s\u001b[0m 83ms/step - loss: 0.1645 - mean_squared_error: 0.1645\n",
      "Epoch 29/50\n",
      "\u001b[1m48/48\u001b[0m \u001b[32m━━━━━━━━━━━━━━━━━━━━\u001b[0m\u001b[37m\u001b[0m \u001b[1m5s\u001b[0m 82ms/step - loss: 0.1643 - mean_squared_error: 0.1643\n",
      "Epoch 30/50\n",
      "\u001b[1m48/48\u001b[0m \u001b[32m━━━━━━━━━━━━━━━━━━━━\u001b[0m\u001b[37m\u001b[0m \u001b[1m4s\u001b[0m 82ms/step - loss: 0.1627 - mean_squared_error: 0.1627\n",
      "Epoch 31/50\n",
      "\u001b[1m48/48\u001b[0m \u001b[32m━━━━━━━━━━━━━━━━━━━━\u001b[0m\u001b[37m\u001b[0m \u001b[1m4s\u001b[0m 83ms/step - loss: 0.1618 - mean_squared_error: 0.1618\n",
      "Epoch 32/50\n",
      "\u001b[1m48/48\u001b[0m \u001b[32m━━━━━━━━━━━━━━━━━━━━\u001b[0m\u001b[37m\u001b[0m \u001b[1m5s\u001b[0m 82ms/step - loss: 0.1615 - mean_squared_error: 0.1615\n",
      "Epoch 33/50\n",
      "\u001b[1m48/48\u001b[0m \u001b[32m━━━━━━━━━━━━━━━━━━━━\u001b[0m\u001b[37m\u001b[0m \u001b[1m5s\u001b[0m 84ms/step - loss: 0.1624 - mean_squared_error: 0.1624\n",
      "Epoch 34/50\n",
      "\u001b[1m48/48\u001b[0m \u001b[32m━━━━━━━━━━━━━━━━━━━━\u001b[0m\u001b[37m\u001b[0m \u001b[1m5s\u001b[0m 83ms/step - loss: 0.1612 - mean_squared_error: 0.1612\n",
      "Epoch 35/50\n",
      "\u001b[1m48/48\u001b[0m \u001b[32m━━━━━━━━━━━━━━━━━━━━\u001b[0m\u001b[37m\u001b[0m \u001b[1m4s\u001b[0m 83ms/step - loss: 0.1613 - mean_squared_error: 0.1613\n",
      "Epoch 36/50\n",
      "\u001b[1m48/48\u001b[0m \u001b[32m━━━━━━━━━━━━━━━━━━━━\u001b[0m\u001b[37m\u001b[0m \u001b[1m5s\u001b[0m 85ms/step - loss: 0.1616 - mean_squared_error: 0.1616\n",
      "Epoch 37/50\n",
      "\u001b[1m48/48\u001b[0m \u001b[32m━━━━━━━━━━━━━━━━━━━━\u001b[0m\u001b[37m\u001b[0m \u001b[1m5s\u001b[0m 82ms/step - loss: 0.1635 - mean_squared_error: 0.1635\n",
      "Epoch 38/50\n",
      "\u001b[1m48/48\u001b[0m \u001b[32m━━━━━━━━━━━━━━━━━━━━\u001b[0m\u001b[37m\u001b[0m \u001b[1m5s\u001b[0m 84ms/step - loss: 0.1607 - mean_squared_error: 0.1607\n",
      "Epoch 39/50\n",
      "\u001b[1m48/48\u001b[0m \u001b[32m━━━━━━━━━━━━━━━━━━━━\u001b[0m\u001b[37m\u001b[0m \u001b[1m5s\u001b[0m 83ms/step - loss: 0.1594 - mean_squared_error: 0.1594\n",
      "Epoch 40/50\n",
      "\u001b[1m48/48\u001b[0m \u001b[32m━━━━━━━━━━━━━━━━━━━━\u001b[0m\u001b[37m\u001b[0m \u001b[1m4s\u001b[0m 83ms/step - loss: 0.1596 - mean_squared_error: 0.1596\n",
      "Epoch 41/50\n",
      "\u001b[1m48/48\u001b[0m \u001b[32m━━━━━━━━━━━━━━━━━━━━\u001b[0m\u001b[37m\u001b[0m \u001b[1m4s\u001b[0m 84ms/step - loss: 0.1594 - mean_squared_error: 0.1594\n",
      "Epoch 42/50\n",
      "\u001b[1m48/48\u001b[0m \u001b[32m━━━━━━━━━━━━━━━━━━━━\u001b[0m\u001b[37m\u001b[0m \u001b[1m5s\u001b[0m 83ms/step - loss: 0.1594 - mean_squared_error: 0.1594\n",
      "Epoch 43/50\n",
      "\u001b[1m48/48\u001b[0m \u001b[32m━━━━━━━━━━━━━━━━━━━━\u001b[0m\u001b[37m\u001b[0m \u001b[1m4s\u001b[0m 84ms/step - loss: 0.1589 - mean_squared_error: 0.1589\n",
      "Epoch 44/50\n",
      "\u001b[1m48/48\u001b[0m \u001b[32m━━━━━━━━━━━━━━━━━━━━\u001b[0m\u001b[37m\u001b[0m \u001b[1m5s\u001b[0m 83ms/step - loss: 0.1581 - mean_squared_error: 0.1581\n",
      "Epoch 45/50\n",
      "\u001b[1m48/48\u001b[0m \u001b[32m━━━━━━━━━━━━━━━━━━━━\u001b[0m\u001b[37m\u001b[0m \u001b[1m4s\u001b[0m 84ms/step - loss: 0.1611 - mean_squared_error: 0.1611\n",
      "Epoch 46/50\n",
      "\u001b[1m48/48\u001b[0m \u001b[32m━━━━━━━━━━━━━━━━━━━━\u001b[0m\u001b[37m\u001b[0m \u001b[1m5s\u001b[0m 84ms/step - loss: 0.1611 - mean_squared_error: 0.1611\n",
      "Epoch 47/50\n",
      "\u001b[1m48/48\u001b[0m \u001b[32m━━━━━━━━━━━━━━━━━━━━\u001b[0m\u001b[37m\u001b[0m \u001b[1m5s\u001b[0m 84ms/step - loss: 0.1579 - mean_squared_error: 0.1579\n",
      "Epoch 48/50\n",
      "\u001b[1m48/48\u001b[0m \u001b[32m━━━━━━━━━━━━━━━━━━━━\u001b[0m\u001b[37m\u001b[0m \u001b[1m4s\u001b[0m 84ms/step - loss: 0.1576 - mean_squared_error: 0.1576\n",
      "Epoch 49/50\n",
      "\u001b[1m48/48\u001b[0m \u001b[32m━━━━━━━━━━━━━━━━━━━━\u001b[0m\u001b[37m\u001b[0m \u001b[1m4s\u001b[0m 85ms/step - loss: 0.1575 - mean_squared_error: 0.1575\n",
      "Epoch 50/50\n",
      "\u001b[1m48/48\u001b[0m \u001b[32m━━━━━━━━━━━━━━━━━━━━\u001b[0m\u001b[37m\u001b[0m \u001b[1m5s\u001b[0m 84ms/step - loss: 0.1579 - mean_squared_error: 0.1579\n"
     ]
    },
    {
     "data": {
      "text/plain": [
       "<keras.src.callbacks.history.History at 0x7c4813163ed0>"
      ]
     },
     "execution_count": 17,
     "metadata": {},
     "output_type": "execute_result"
    }
   ],
   "source": [
    "autoencoder.fit(tXtrain, tXtrain, epochs=50, batch_size=1000)"
   ]
  },
  {
   "cell_type": "markdown",
   "metadata": {
    "id": "4jT6zevXKvKS"
   },
   "source": [
    "Creamos la función de evaluación para comprobar la calidad de los resultados:"
   ]
  },
  {
   "cell_type": "code",
   "execution_count": 16,
   "metadata": {
    "executionInfo": {
     "elapsed": 12,
     "status": "ok",
     "timestamp": 1748106960598,
     "user": {
      "displayName": "RamonLS8",
      "userId": "05017597854797905324"
     },
     "user_tz": -120
    },
    "id": "IalHShjvB6Zt"
   },
   "outputs": [],
   "source": [
    "def evaluate_model(model, model_name, metrics):\n",
    "    ScoresTrain = model.evaluate(tXtrain, tXtrain)\n",
    "    ScoresVal = model.evaluate(tXval, tXval)\n",
    "\n",
    "    print(model_name + \":\")\n",
    "\n",
    "    print('\\tConjunto de entrenamiento:')\n",
    "    print(\"\\t\\tLoss Value:\", format(ScoresTrain[0]))\n",
    "    for i in range(len(metrics)):\n",
    "        print(\"\\t\\t\", metrics[i], \":\", ScoresTrain[i+1])\n",
    "\n",
    "    print('\\tConjunto de validación:')\n",
    "    print(\"\\t\\tLoss Value:\", format(ScoresVal[0]))\n",
    "    for i in range(len(metrics)):\n",
    "        print(\"\\t\\t\", metrics[i], \":\", ScoresVal[i+1])"
   ]
  },
  {
   "cell_type": "code",
   "execution_count": 18,
   "metadata": {
    "colab": {
     "base_uri": "https://localhost:8080/"
    },
    "executionInfo": {
     "elapsed": 6941,
     "status": "ok",
     "timestamp": 1748115587105,
     "user": {
      "displayName": "Chipolu",
      "userId": "04329133111751212648"
     },
     "user_tz": -120
    },
    "id": "GyfGtwaOB_na",
    "outputId": "a0c36ec4-d770-4db1-8d6a-6d6a59452186"
   },
   "outputs": [
    {
     "name": "stdout",
     "output_type": "stream",
     "text": [
      "\u001b[1m1500/1500\u001b[0m \u001b[32m━━━━━━━━━━━━━━━━━━━━\u001b[0m\u001b[37m\u001b[0m \u001b[1m5s\u001b[0m 3ms/step - loss: 0.1575 - mean_squared_error: 0.1575\n",
      "\u001b[1m375/375\u001b[0m \u001b[32m━━━━━━━━━━━━━━━━━━━━\u001b[0m\u001b[37m\u001b[0m \u001b[1m1s\u001b[0m 3ms/step - loss: 0.1765 - mean_squared_error: 0.1765\n",
      "Autoencoder:\n",
      "\tConjunto de entrenamiento:\n",
      "\t\tLoss Value: 0.15754486620426178\n",
      "\t\t mean_squared_error : 0.15754486620426178\n",
      "\tConjunto de validación:\n",
      "\t\tLoss Value: 0.189108744263649\n",
      "\t\t mean_squared_error : 0.1891087293624878\n"
     ]
    }
   ],
   "source": [
    "evaluate_model(autoencoder, \"Autoencoder\", autoencoder_metrics)"
   ]
  },
  {
   "cell_type": "markdown",
   "metadata": {
    "id": "IOLWzWtFKweL"
   },
   "source": [
    "Vemos el MSE que hemos obtenido tanto entrenamiento como en el de validación. Aunque es un poco más alto en validación, la diferencia es muy pequeña, por lo que generaliza bien.\n",
    "\n",
    "Para ver de forma más visual la calidad de los resultados, vamos a ver algunas de las imágenes producidas junto a las originales:"
   ]
  },
  {
   "cell_type": "code",
   "execution_count": 20,
   "metadata": {
    "colab": {
     "base_uri": "https://localhost:8080/",
     "height": 1000
    },
    "executionInfo": {
     "elapsed": 2601,
     "status": "ok",
     "timestamp": 1748103671972,
     "user": {
      "displayName": "RamonLS8",
      "userId": "05017597854797905324"
     },
     "user_tz": -120
    },
    "id": "69PLT9m_J_Ey",
    "outputId": "ff4134d5-3618-480e-d59b-bf6434830c82"
   },
   "outputs": [
    {
     "name": "stdout",
     "output_type": "stream",
     "text": [
      "\u001b[1m375/375\u001b[0m \u001b[32m━━━━━━━━━━━━━━━━━━━━\u001b[0m\u001b[37m\u001b[0m \u001b[1m1s\u001b[0m 2ms/step\n"
     ]
    },
    {
     "data": {
      "image/png": "[encoded data removed]",
      "text/plain": [
       "<Figure size 1000x3000 with 30 Axes>"
      ]
     },
     "metadata": {},
     "output_type": "display_data"
    }
   ],
   "source": [
    "import matplotlib.pyplot as plt\n",
    "\n",
    "# Muestra imágenes originales y reconstruidas del conjunto image_set, que puede\n",
    "# set tXtrain, tXval o tXtest\n",
    "def show_reconstructed_images(model, image_set):\n",
    "    # Genera las imágenes reconstruidas usando el autoencoder\n",
    "    reconstructed_images = model.predict(image_set)\n",
    "\n",
    "    # Configura el número de imágenes a mostrar\n",
    "    num_images = 15\n",
    "\n",
    "    # Crea una figura con subgráficas\n",
    "    fig, axes = plt.subplots(num_images, 2, figsize=(10, 2 * num_images))  # 2 columnas (original y reconstruida)\n",
    "    axes = axes.flatten()\n",
    "\n",
    "    # Muestra las imágenes originales y las reconstruidas\n",
    "    for i in range(num_images):\n",
    "        # Imagen original\n",
    "        axes[2 * i].imshow(image_set[i], cmap='gray')\n",
    "        axes[2 * i].set_title(f'Original: {tYtrain[i]}')\n",
    "        axes[2 * i].axis('off')\n",
    "\n",
    "        # Imagen reconstruida\n",
    "        axes[2 * i + 1].imshow(reconstructed_images[i], cmap='gray')\n",
    "        axes[2 * i + 1].set_title(f'Reconstruida')\n",
    "        axes[2 * i + 1].axis('off')\n",
    "\n",
    "    plt.tight_layout()\n",
    "    plt.show()\n",
    "\n",
    "show_reconstructed_images(autoencoder, tXval)"
   ]
  },
  {
   "cell_type": "markdown",
   "metadata": {
    "id": "n7O7ZOhiLVI-"
   },
   "source": [
    "Las imágenes producidas son muy similares a las originales, no solo representan el mismo número sino que tienen la misma forma de trazo. Aunque las tonalidades de blancos y negros tienen diferencias apreciables, la forma del número se construye correctamente."
   ]
  },
  {
   "cell_type": "markdown",
   "metadata": {
    "id": "pJBmiPMbMMvH"
   },
   "source": [
    "## 2.5 Selección de hiperparámetros"
   ]
  },
  {
   "cell_type": "markdown",
   "metadata": {
    "id": "uiWG1k_0NxDN"
   },
   "source": [
    "<u>**Función de pérdida**</u>\n",
    "\n",
    "Como función de pérdida, usaremos Mean Squared Error (MSE), que mide la media de los cuadrados de las diferencias entre los valores predichos por el modelo y los valores reales. Su función es:\n",
    "\n",
    "$ \\text{MSE} = \\frac{1}{n} \\sum_{i=1}^{n} (y_i - \\hat{y}_i)^2 $\n",
    "\n",
    "<u>**Algoritmos de aprendizaje**</u>\n",
    "\n",
    "Probaremos con los mismos algortimos de aprendizaje que para el ejercicio 1, es decir **Adam**, **SGD** y **RMSprop**.\n",
    "\n",
    "<u>**Valores de lambda**</u>\n",
    "\n",
    "Como valores de lambda vamos a probar 0.001, 0.0001 y una tasa de aprendizaje adaptativa con decaimiento exponencial."
   ]
  },
  {
   "cell_type": "markdown",
   "metadata": {
    "id": "IdbhU9DlPjVj"
   },
   "source": [
    "Definimos una función que nos permite probar un modelo con los diferentes parámetros o funciones:"
   ]
  },
  {
   "cell_type": "code",
   "execution_count": 21,
   "metadata": {
    "executionInfo": {
     "elapsed": 26,
     "status": "ok",
     "timestamp": 1748103671977,
     "user": {
      "displayName": "RamonLS8",
      "userId": "05017597854797905324"
     },
     "user_tz": -120
    },
    "id": "fdS0zgivPkv4"
   },
   "outputs": [],
   "source": [
    "from keras.models import clone_model\n",
    "from tensorflow.keras.optimizers import Adam, SGD, RMSprop\n",
    "\n",
    "# Define the combinations of loss functions and optimizers\n",
    "loss_functions = [\n",
    "    'mean_squared_error'\n",
    "]\n",
    "\n",
    "lmbda_values = [\n",
    "    0.001,\n",
    "    0.0001,\n",
    "    tf.keras.optimizers.schedules.ExponentialDecay(initial_learning_rate=0.001, decay_steps=10000, decay_rate=0.96, staircase=True)\n",
    "]\n",
    "\n",
    "optimizers = [\n",
    "    Adam(learning_rate=lmbda_values[0]),  # Placeholder, will be updated in the loop\n",
    "    SGD(learning_rate=lmbda_values[0], momentum=0.9),  # Placeholder\n",
    "    RMSprop(learning_rate=lmbda_values[0])  # Placeholder\n",
    "]\n",
    "\n",
    "def test_model(model, loss_functions, lmbda_values, optimizers, metrics):\n",
    "    # Iterate through each combination of loss functions and optimizers\n",
    "    for loss_function in loss_functions:\n",
    "        for lmbda in lmbda_values:\n",
    "            # Update the learning rate for optimizers\n",
    "            optimizers[0] = Adam(learning_rate=lmbda)\n",
    "            optimizers[1] = SGD(learning_rate=lmbda, momentum=0.9)\n",
    "            optimizers[2] = RMSprop(learning_rate=lmbda)\n",
    "\n",
    "            for optimizer in optimizers:\n",
    "                # Clone the model\n",
    "                model_current = clone_model(model)\n",
    "\n",
    "                # Compile the model with the current optimizer and loss function\n",
    "                model_current.compile(optimizer=optimizer, loss=loss_function, metrics=metrics)\n",
    "\n",
    "                # Fit the model\n",
    "                model_current.fit(tXtrain, tXtrain, batch_size=1000, epochs=50, verbose=False)\n",
    "\n",
    "                # Evaluate the model\n",
    "                ScoresTrain = model_current.evaluate(tXtrain, tXtrain, verbose=False)\n",
    "                ScoresVal = model_current.evaluate(tXval, tXval, verbose=False)\n",
    "\n",
    "                # Print the results\n",
    "                print(\"Loss function:\\t\", loss_function.__class__.__name__)\n",
    "                print(\"Optimizer:\\t\", optimizer.__class__.__name__)\n",
    "\n",
    "                # Print the value of lambda or \"ExponentialDecay\" if applicable\n",
    "                if isinstance(lmbda, tf.keras.optimizers.schedules.ExponentialDecay):\n",
    "                    print(\"Lambda value:\\tExponentialDecay\")\n",
    "                else:\n",
    "                    print(\"Lambda value:\\t\", lmbda)\n",
    "\n",
    "                # Print the metrics\n",
    "                print(\"Train:\", end='')\n",
    "                for i in range(len(metrics)):\n",
    "                    print(\"\\t\" + metrics[i] + \" \" + str(ScoresTrain[i + 1]), end='')\n",
    "                print()\n",
    "\n",
    "                print(\"Val:\", end='')\n",
    "                for i in range(len(metrics)):\n",
    "                    print(\"\\t\" + metrics[i] + \" \" + str(ScoresVal[i + 1]), end='')\n",
    "                print()\n",
    "\n",
    "                print()"
   ]
  },
  {
   "cell_type": "markdown",
   "metadata": {
    "id": "oRV3r67lQ_h4"
   },
   "source": [
    "Probamos el autoencoder con las diferentes funciones y parámetros:"
   ]
  },
  {
   "cell_type": "code",
   "execution_count": null,
   "metadata": {
    "colab": {
     "base_uri": "https://localhost:8080/"
    },
    "executionInfo": {
     "elapsed": 2113659,
     "status": "ok",
     "timestamp": 1748105785637,
     "user": {
      "displayName": "RamonLS8",
      "userId": "05017597854797905324"
     },
     "user_tz": -120
    },
    "id": "tCSSoNuWRAPz",
    "outputId": "a419f9f7-ca4d-43b5-fd11-6ebdbbcb7ccf"
   },
   "outputs": [
    {
     "name": "stdout",
     "output_type": "stream",
     "text": [
      "Loss function:\t str\n",
      "Optimizer:\t Adam\n",
      "Lambda value:\t 0.001\n",
      "Train:\tmean_squared_error 0.1573622077703476\n",
      "Val:\tmean_squared_error 0.18568986654281616\n",
      "\n",
      "Loss function:\t str\n",
      "Optimizer:\t SGD\n",
      "Lambda value:\t 0.001\n",
      "Train:\tmean_squared_error 0.2585364580154419\n",
      "Val:\tmean_squared_error 0.5700162053108215\n",
      "\n",
      "Loss function:\t str\n",
      "Optimizer:\t RMSprop\n",
      "Lambda value:\t 0.001\n",
      "Train:\tmean_squared_error 0.18712221086025238\n",
      "Val:\tmean_squared_error 0.22207391262054443\n",
      "\n",
      "Loss function:\t str\n",
      "Optimizer:\t Adam\n",
      "Lambda value:\t 0.0001\n",
      "Train:\tmean_squared_error 0.1797199547290802\n",
      "Val:\tmean_squared_error 0.21320556104183197\n",
      "\n",
      "Loss function:\t str\n",
      "Optimizer:\t SGD\n",
      "Lambda value:\t 0.0001\n",
      "Train:\tmean_squared_error 0.4588210880756378\n",
      "Val:\tmean_squared_error 1.2401323318481445\n",
      "\n",
      "Loss function:\t str\n",
      "Optimizer:\t RMSprop\n",
      "Lambda value:\t 0.0001\n",
      "Train:\tmean_squared_error 0.19753757119178772\n",
      "Val:\tmean_squared_error 0.2699611485004425\n",
      "\n",
      "Loss function:\t str\n",
      "Optimizer:\t Adam\n",
      "Lambda value:\tExponentialDecay\n",
      "Train:\tmean_squared_error 0.15728658437728882\n",
      "Val:\tmean_squared_error 0.18382686376571655\n",
      "\n",
      "Loss function:\t str\n",
      "Optimizer:\t SGD\n",
      "Lambda value:\tExponentialDecay\n",
      "Train:\tmean_squared_error 0.24886518716812134\n",
      "Val:\tmean_squared_error 0.5752173066139221\n",
      "\n",
      "Loss function:\t str\n",
      "Optimizer:\t RMSprop\n",
      "Lambda value:\tExponentialDecay\n",
      "Train:\tmean_squared_error 0.17303773760795593\n",
      "Val:\tmean_squared_error 0.21144811809062958\n",
      "\n"
     ]
    }
   ],
   "source": [
    "test_model(autoencoder, loss_functions, lmbda_values, optimizers, autoencoder_metrics)"
   ]
  },
  {
   "cell_type": "markdown",
   "metadata": {
    "id": "kRGrZ6NEO66h"
   },
   "source": [
    "Vemos como los peores resultados se han obtenido con el algoritmo de aprendizaje SGD. Con Adam y RMSprop se obtienen buenos resultados, siendo un poco mejores los del primero.\n",
    "\n",
    "El mejor valor de lambda para Adam ha sido 0.001 y ExponentialDecay, sin embargo nos quedaremos con 0.0001 ya que funcionará mejor con tXtrain+tXval combinados, 0.001 da algunos problemas de convergencia.\n",
    "\n",
    "Por tanto, entrenaremos nuestro modelo con Adam, lambda 0.0001 y MSE."
   ]
  },
  {
   "cell_type": "markdown",
   "metadata": {
    "id": "RgbNlp4ESCVg"
   },
   "source": [
    "## 2.6 Estimación del error fuera de la muestra"
   ]
  },
  {
   "cell_type": "markdown",
   "metadata": {
    "id": "evJasZK7SGD0"
   },
   "source": [
    "En primer lugar, preprocesamos los datos de Xtest.\n",
    "\n",
    "Estandarización de los datos:"
   ]
  },
  {
   "cell_type": "code",
   "execution_count": 17,
   "metadata": {
    "colab": {
     "base_uri": "https://localhost:8080/"
    },
    "executionInfo": {
     "elapsed": 17,
     "status": "ok",
     "timestamp": 1748106984696,
     "user": {
      "displayName": "RamonLS8",
      "userId": "05017597854797905324"
     },
     "user_tz": -120
    },
    "id": "1uWD2lzsSLow",
    "outputId": "a53d7a0f-ea69-4f79-8031-98a445858aaf"
   },
   "outputs": [
    {
     "name": "stdout",
     "output_type": "stream",
     "text": [
      "XTest: (10000, 28, 28)\n",
      "\n",
      "Tras cambiar los datos a 2 dimensiones:\n",
      "XTest: (10000, 784)\n",
      "\n",
      "Tras devolver los datos a las dimensiones originales:\n",
      "XTest: (10000, 28, 28)\n"
     ]
    }
   ],
   "source": [
    "from sklearn.preprocessing import StandardScaler\n",
    "\n",
    "# Cambiamos las dimensiones de los datos para poder usar el StandardScaler\n",
    "print(\"XTest:\", XTest.shape)\n",
    "\n",
    "XTest = XTest.reshape(len(XTest), -1)\n",
    "\n",
    "print(\"\\nTras cambiar los datos a 2 dimensiones:\")\n",
    "print(\"XTest:\", XTest.shape)\n",
    "\n",
    "# Estandarización (normalización de datos con media 0 y std 1)\n",
    "XTest = se.transform(XTest)\n",
    "\n",
    "# Volvemos a cambiar a las dimensiones originales\n",
    "XTest = XTest.reshape(len(XTest), 28, 28)\n",
    "\n",
    "print(\"\\nTras devolver los datos a las dimensiones originales:\")\n",
    "print(\"XTest:\", XTest.shape)"
   ]
  },
  {
   "cell_type": "markdown",
   "metadata": {
    "id": "ZnqMHbUCS_8n"
   },
   "source": [
    "Especificar que cada píxel tiene un canal:"
   ]
  },
  {
   "cell_type": "code",
   "execution_count": 18,
   "metadata": {
    "colab": {
     "base_uri": "https://localhost:8080/"
    },
    "executionInfo": {
     "elapsed": 16,
     "status": "ok",
     "timestamp": 1748106986348,
     "user": {
      "displayName": "RamonLS8",
      "userId": "05017597854797905324"
     },
     "user_tz": -120
    },
    "id": "Qu0oZT7bTBlH",
    "outputId": "88a1d1a6-c0e7-417e-94ac-486b08e2f350"
   },
   "outputs": [
    {
     "name": "stdout",
     "output_type": "stream",
     "text": [
      "XTest: (10000, 28, 28, 1)\n"
     ]
    }
   ],
   "source": [
    "XTest = np.expand_dims(XTest, axis= -1)\n",
    "\n",
    "print(\"XTest:\", XTest.shape)"
   ]
  },
  {
   "cell_type": "markdown",
   "metadata": {
    "id": "Y2upAjWfTDJo"
   },
   "source": [
    "Pasamos los datos a tensor:"
   ]
  },
  {
   "cell_type": "code",
   "execution_count": 19,
   "metadata": {
    "executionInfo": {
     "elapsed": 83,
     "status": "ok",
     "timestamp": 1748106987007,
     "user": {
      "displayName": "RamonLS8",
      "userId": "05017597854797905324"
     },
     "user_tz": -120
    },
    "id": "zEG3z4DzTE33"
   },
   "outputs": [],
   "source": [
    "tXtest, tYtest = tf.convert_to_tensor(XTest), tf.convert_to_tensor(YTest, dtype=tf.int32)"
   ]
  },
  {
   "cell_type": "markdown",
   "metadata": {
    "id": "a_hfB_SYTK9f"
   },
   "source": [
    "Unimos los datos de Xtrain y Xval para entrenar el modelo con todos ellos:"
   ]
  },
  {
   "cell_type": "code",
   "execution_count": 20,
   "metadata": {
    "executionInfo": {
     "elapsed": 29,
     "status": "ok",
     "timestamp": 1748106988106,
     "user": {
      "displayName": "RamonLS8",
      "userId": "05017597854797905324"
     },
     "user_tz": -120
    },
    "id": "yGPZt9OTTTlm"
   },
   "outputs": [],
   "source": [
    "tXcombined = tf.concat([tXtrain, tXval], axis=0)\n",
    "tYcombined = tf.concat([tYtrain, tYval], axis=0)"
   ]
  },
  {
   "cell_type": "markdown",
   "metadata": {
    "id": "7H64_xf7TZjF"
   },
   "source": [
    "Redefinimos la función de evaluar el modelo para que ahora se ejecute sobre train+val y test:"
   ]
  },
  {
   "cell_type": "code",
   "execution_count": 21,
   "metadata": {
    "executionInfo": {
     "elapsed": 15,
     "status": "ok",
     "timestamp": 1748106988726,
     "user": {
      "displayName": "RamonLS8",
      "userId": "05017597854797905324"
     },
     "user_tz": -120
    },
    "id": "aKvu_MBCTc_e"
   },
   "outputs": [],
   "source": [
    "def evaluate_model_definitive(model, model_name, metrics):\n",
    "    ScoresCombined = model.evaluate(tXcombined, tXcombined)\n",
    "    ScoresTest = model.evaluate(tXtest, tXtest)\n",
    "\n",
    "    print(model_name + \":\")\n",
    "\n",
    "    print('\\tConjunto de entrenamiento más validación:')\n",
    "    print(\"\\t\\tLoss Value:\", format(ScoresCombined[0]))\n",
    "    for i in range(len(metrics)):\n",
    "        print(\"\\t\\t\", metrics[i], \":\", ScoresCombined[i+1])\n",
    "\n",
    "    print('\\tConjunto de test:')\n",
    "    print(\"\\t\\tLoss Value:\", format(ScoresTest[0]))\n",
    "    for i in range(len(metrics)):\n",
    "        print(\"\\t\\t\", metrics[i], \":\", ScoresTest[i+1])"
   ]
  },
  {
   "cell_type": "markdown",
   "metadata": {
    "id": "kEve4VMWT5YW"
   },
   "source": [
    "Entrenamos y evaluamos el modelo definitivo:"
   ]
  },
  {
   "cell_type": "code",
   "execution_count": 55,
   "metadata": {
    "colab": {
     "base_uri": "https://localhost:8080/"
    },
    "executionInfo": {
     "elapsed": 265950,
     "status": "ok",
     "timestamp": 1748108766973,
     "user": {
      "displayName": "RamonLS8",
      "userId": "05017597854797905324"
     },
     "user_tz": -120
    },
    "id": "zVxNd--cT4F0",
    "outputId": "2d32cd93-e177-460e-b470-ecf9382d0aa8"
   },
   "outputs": [
    {
     "name": "stdout",
     "output_type": "stream",
     "text": [
      "Epoch 1/50\n",
      "\u001b[1m60/60\u001b[0m \u001b[32m━━━━━━━━━━━━━━━━━━━━\u001b[0m\u001b[37m\u001b[0m \u001b[1m8s\u001b[0m 85ms/step - loss: 0.9198 - mean_squared_error: 0.9198\n",
      "Epoch 2/50\n",
      "\u001b[1m60/60\u001b[0m \u001b[32m━━━━━━━━━━━━━━━━━━━━\u001b[0m\u001b[37m\u001b[0m \u001b[1m5s\u001b[0m 83ms/step - loss: 0.9100 - mean_squared_error: 0.9100\n",
      "Epoch 3/50\n",
      "\u001b[1m60/60\u001b[0m \u001b[32m━━━━━━━━━━━━━━━━━━━━\u001b[0m\u001b[37m\u001b[0m \u001b[1m5s\u001b[0m 85ms/step - loss: 0.8019 - mean_squared_error: 0.8019\n",
      "Epoch 4/50\n",
      "\u001b[1m60/60\u001b[0m \u001b[32m━━━━━━━━━━━━━━━━━━━━\u001b[0m\u001b[37m\u001b[0m \u001b[1m5s\u001b[0m 84ms/step - loss: 0.4632 - mean_squared_error: 0.4632\n",
      "Epoch 5/50\n",
      "\u001b[1m60/60\u001b[0m \u001b[32m━━━━━━━━━━━━━━━━━━━━\u001b[0m\u001b[37m\u001b[0m \u001b[1m5s\u001b[0m 84ms/step - loss: 0.5665 - mean_squared_error: 0.5665\n",
      "Epoch 6/50\n",
      "\u001b[1m60/60\u001b[0m \u001b[32m━━━━━━━━━━━━━━━━━━━━\u001b[0m\u001b[37m\u001b[0m \u001b[1m5s\u001b[0m 89ms/step - loss: 0.5384 - mean_squared_error: 0.5384\n",
      "Epoch 7/50\n",
      "\u001b[1m60/60\u001b[0m \u001b[32m━━━━━━━━━━━━━━━━━━━━\u001b[0m\u001b[37m\u001b[0m \u001b[1m10s\u001b[0m 85ms/step - loss: 0.4369 - mean_squared_error: 0.4369\n",
      "Epoch 8/50\n",
      "\u001b[1m60/60\u001b[0m \u001b[32m━━━━━━━━━━━━━━━━━━━━\u001b[0m\u001b[37m\u001b[0m \u001b[1m10s\u001b[0m 85ms/step - loss: 0.3704 - mean_squared_error: 0.3704\n",
      "Epoch 9/50\n",
      "\u001b[1m60/60\u001b[0m \u001b[32m━━━━━━━━━━━━━━━━━━━━\u001b[0m\u001b[37m\u001b[0m \u001b[1m10s\u001b[0m 84ms/step - loss: 0.3794 - mean_squared_error: 0.3794\n",
      "Epoch 10/50\n",
      "\u001b[1m60/60\u001b[0m \u001b[32m━━━━━━━━━━━━━━━━━━━━\u001b[0m\u001b[37m\u001b[0m \u001b[1m5s\u001b[0m 84ms/step - loss: 0.3727 - mean_squared_error: 0.3727\n",
      "Epoch 11/50\n",
      "\u001b[1m60/60\u001b[0m \u001b[32m━━━━━━━━━━━━━━━━━━━━\u001b[0m\u001b[37m\u001b[0m \u001b[1m5s\u001b[0m 84ms/step - loss: 0.3448 - mean_squared_error: 0.3448\n",
      "Epoch 12/50\n",
      "\u001b[1m60/60\u001b[0m \u001b[32m━━━━━━━━━━━━━━━━━━━━\u001b[0m\u001b[37m\u001b[0m \u001b[1m5s\u001b[0m 85ms/step - loss: 0.3384 - mean_squared_error: 0.3384\n",
      "Epoch 13/50\n",
      "\u001b[1m60/60\u001b[0m \u001b[32m━━━━━━━━━━━━━━━━━━━━\u001b[0m\u001b[37m\u001b[0m \u001b[1m5s\u001b[0m 84ms/step - loss: 0.3867 - mean_squared_error: 0.3867\n",
      "Epoch 14/50\n",
      "\u001b[1m60/60\u001b[0m \u001b[32m━━━━━━━━━━━━━━━━━━━━\u001b[0m\u001b[37m\u001b[0m \u001b[1m5s\u001b[0m 85ms/step - loss: 0.3301 - mean_squared_error: 0.3301\n",
      "Epoch 15/50\n",
      "\u001b[1m60/60\u001b[0m \u001b[32m━━━━━━━━━━━━━━━━━━━━\u001b[0m\u001b[37m\u001b[0m \u001b[1m5s\u001b[0m 85ms/step - loss: 0.3859 - mean_squared_error: 0.3859\n",
      "Epoch 16/50\n",
      "\u001b[1m60/60\u001b[0m \u001b[32m━━━━━━━━━━━━━━━━━━━━\u001b[0m\u001b[37m\u001b[0m \u001b[1m5s\u001b[0m 84ms/step - loss: 0.3051 - mean_squared_error: 0.3051\n",
      "Epoch 17/50\n",
      "\u001b[1m60/60\u001b[0m \u001b[32m━━━━━━━━━━━━━━━━━━━━\u001b[0m\u001b[37m\u001b[0m \u001b[1m5s\u001b[0m 85ms/step - loss: 0.3238 - mean_squared_error: 0.3238\n",
      "Epoch 18/50\n",
      "\u001b[1m60/60\u001b[0m \u001b[32m━━━━━━━━━━━━━━━━━━━━\u001b[0m\u001b[37m\u001b[0m \u001b[1m5s\u001b[0m 84ms/step - loss: 0.3002 - mean_squared_error: 0.3002\n",
      "Epoch 19/50\n",
      "\u001b[1m60/60\u001b[0m \u001b[32m━━━━━━━━━━━━━━━━━━━━\u001b[0m\u001b[37m\u001b[0m \u001b[1m5s\u001b[0m 85ms/step - loss: 0.3087 - mean_squared_error: 0.3087\n",
      "Epoch 20/50\n",
      "\u001b[1m60/60\u001b[0m \u001b[32m━━━━━━━━━━━━━━━━━━━━\u001b[0m\u001b[37m\u001b[0m \u001b[1m10s\u001b[0m 85ms/step - loss: 0.2937 - mean_squared_error: 0.2937\n",
      "Epoch 21/50\n",
      "\u001b[1m60/60\u001b[0m \u001b[32m━━━━━━━━━━━━━━━━━━━━\u001b[0m\u001b[37m\u001b[0m \u001b[1m10s\u001b[0m 84ms/step - loss: 0.2908 - mean_squared_error: 0.2908\n",
      "Epoch 22/50\n",
      "\u001b[1m60/60\u001b[0m \u001b[32m━━━━━━━━━━━━━━━━━━━━\u001b[0m\u001b[37m\u001b[0m \u001b[1m5s\u001b[0m 85ms/step - loss: 0.2911 - mean_squared_error: 0.2911\n",
      "Epoch 23/50\n",
      "\u001b[1m60/60\u001b[0m \u001b[32m━━━━━━━━━━━━━━━━━━━━\u001b[0m\u001b[37m\u001b[0m \u001b[1m5s\u001b[0m 84ms/step - loss: 0.2864 - mean_squared_error: 0.2864\n",
      "Epoch 24/50\n",
      "\u001b[1m60/60\u001b[0m \u001b[32m━━━━━━━━━━━━━━━━━━━━\u001b[0m\u001b[37m\u001b[0m \u001b[1m5s\u001b[0m 85ms/step - loss: 0.2831 - mean_squared_error: 0.2831\n",
      "Epoch 25/50\n",
      "\u001b[1m60/60\u001b[0m \u001b[32m━━━━━━━━━━━━━━━━━━━━\u001b[0m\u001b[37m\u001b[0m \u001b[1m5s\u001b[0m 84ms/step - loss: 0.2923 - mean_squared_error: 0.2923\n",
      "Epoch 26/50\n",
      "\u001b[1m60/60\u001b[0m \u001b[32m━━━━━━━━━━━━━━━━━━━━\u001b[0m\u001b[37m\u001b[0m \u001b[1m5s\u001b[0m 85ms/step - loss: 0.2710 - mean_squared_error: 0.2710\n",
      "Epoch 27/50\n",
      "\u001b[1m60/60\u001b[0m \u001b[32m━━━━━━━━━━━━━━━━━━━━\u001b[0m\u001b[37m\u001b[0m \u001b[1m5s\u001b[0m 85ms/step - loss: 0.2703 - mean_squared_error: 0.2703\n",
      "Epoch 28/50\n",
      "\u001b[1m60/60\u001b[0m \u001b[32m━━━━━━━━━━━━━━━━━━━━\u001b[0m\u001b[37m\u001b[0m \u001b[1m5s\u001b[0m 85ms/step - loss: 0.2671 - mean_squared_error: 0.2671\n",
      "Epoch 29/50\n",
      "\u001b[1m60/60\u001b[0m \u001b[32m━━━━━━━━━━━━━━━━━━━━\u001b[0m\u001b[37m\u001b[0m \u001b[1m5s\u001b[0m 90ms/step - loss: 0.2704 - mean_squared_error: 0.2704\n",
      "Epoch 30/50\n",
      "\u001b[1m60/60\u001b[0m \u001b[32m━━━━━━━━━━━━━━━━━━━━\u001b[0m\u001b[37m\u001b[0m \u001b[1m5s\u001b[0m 85ms/step - loss: 0.2664 - mean_squared_error: 0.2664\n",
      "Epoch 31/50\n",
      "\u001b[1m60/60\u001b[0m \u001b[32m━━━━━━━━━━━━━━━━━━━━\u001b[0m\u001b[37m\u001b[0m \u001b[1m10s\u001b[0m 85ms/step - loss: 0.2602 - mean_squared_error: 0.2602\n",
      "Epoch 32/50\n",
      "\u001b[1m60/60\u001b[0m \u001b[32m━━━━━━━━━━━━━━━━━━━━\u001b[0m\u001b[37m\u001b[0m \u001b[1m5s\u001b[0m 84ms/step - loss: 0.2593 - mean_squared_error: 0.2593\n",
      "Epoch 33/50\n",
      "\u001b[1m60/60\u001b[0m \u001b[32m━━━━━━━━━━━━━━━━━━━━\u001b[0m\u001b[37m\u001b[0m \u001b[1m5s\u001b[0m 85ms/step - loss: 0.2589 - mean_squared_error: 0.2589\n",
      "Epoch 34/50\n",
      "\u001b[1m60/60\u001b[0m \u001b[32m━━━━━━━━━━━━━━━━━━━━\u001b[0m\u001b[37m\u001b[0m \u001b[1m5s\u001b[0m 85ms/step - loss: 0.2522 - mean_squared_error: 0.2522\n",
      "Epoch 35/50\n",
      "\u001b[1m60/60\u001b[0m \u001b[32m━━━━━━━━━━━━━━━━━━━━\u001b[0m\u001b[37m\u001b[0m \u001b[1m5s\u001b[0m 85ms/step - loss: 0.2533 - mean_squared_error: 0.2533\n",
      "Epoch 36/50\n",
      "\u001b[1m60/60\u001b[0m \u001b[32m━━━━━━━━━━━━━━━━━━━━\u001b[0m\u001b[37m\u001b[0m \u001b[1m10s\u001b[0m 85ms/step - loss: 0.2519 - mean_squared_error: 0.2519\n",
      "Epoch 37/50\n",
      "\u001b[1m60/60\u001b[0m \u001b[32m━━━━━━━━━━━━━━━━━━━━\u001b[0m\u001b[37m\u001b[0m \u001b[1m10s\u001b[0m 85ms/step - loss: 0.3073 - mean_squared_error: 0.3073\n",
      "Epoch 38/50\n",
      "\u001b[1m60/60\u001b[0m \u001b[32m━━━━━━━━━━━━━━━━━━━━\u001b[0m\u001b[37m\u001b[0m \u001b[1m5s\u001b[0m 84ms/step - loss: 0.2520 - mean_squared_error: 0.2520\n",
      "Epoch 39/50\n",
      "\u001b[1m60/60\u001b[0m \u001b[32m━━━━━━━━━━━━━━━━━━━━\u001b[0m\u001b[37m\u001b[0m \u001b[1m5s\u001b[0m 84ms/step - loss: 0.2643 - mean_squared_error: 0.2643\n",
      "Epoch 40/50\n",
      "\u001b[1m60/60\u001b[0m \u001b[32m━━━━━━━━━━━━━━━━━━━━\u001b[0m\u001b[37m\u001b[0m \u001b[1m5s\u001b[0m 85ms/step - loss: 0.2571 - mean_squared_error: 0.2571\n",
      "Epoch 41/50\n",
      "\u001b[1m60/60\u001b[0m \u001b[32m━━━━━━━━━━━━━━━━━━━━\u001b[0m\u001b[37m\u001b[0m \u001b[1m5s\u001b[0m 84ms/step - loss: 0.2668 - mean_squared_error: 0.2668\n",
      "Epoch 42/50\n",
      "\u001b[1m60/60\u001b[0m \u001b[32m━━━━━━━━━━━━━━━━━━━━\u001b[0m\u001b[37m\u001b[0m \u001b[1m5s\u001b[0m 85ms/step - loss: 0.2449 - mean_squared_error: 0.2449\n",
      "Epoch 43/50\n",
      "\u001b[1m60/60\u001b[0m \u001b[32m━━━━━━━━━━━━━━━━━━━━\u001b[0m\u001b[37m\u001b[0m \u001b[1m10s\u001b[0m 85ms/step - loss: 0.2399 - mean_squared_error: 0.2399\n",
      "Epoch 44/50\n",
      "\u001b[1m60/60\u001b[0m \u001b[32m━━━━━━━━━━━━━━━━━━━━\u001b[0m\u001b[37m\u001b[0m \u001b[1m10s\u001b[0m 84ms/step - loss: 0.2342 - mean_squared_error: 0.2342\n",
      "Epoch 45/50\n",
      "\u001b[1m60/60\u001b[0m \u001b[32m━━━━━━━━━━━━━━━━━━━━\u001b[0m\u001b[37m\u001b[0m \u001b[1m5s\u001b[0m 85ms/step - loss: 0.2353 - mean_squared_error: 0.2353\n",
      "Epoch 46/50\n",
      "\u001b[1m60/60\u001b[0m \u001b[32m━━━━━━━━━━━━━━━━━━━━\u001b[0m\u001b[37m\u001b[0m \u001b[1m10s\u001b[0m 85ms/step - loss: 0.2315 - mean_squared_error: 0.2315\n",
      "Epoch 47/50\n",
      "\u001b[1m60/60\u001b[0m \u001b[32m━━━━━━━━━━━━━━━━━━━━\u001b[0m\u001b[37m\u001b[0m \u001b[1m5s\u001b[0m 84ms/step - loss: 0.2347 - mean_squared_error: 0.2347\n",
      "Epoch 48/50\n",
      "\u001b[1m60/60\u001b[0m \u001b[32m━━━━━━━━━━━━━━━━━━━━\u001b[0m\u001b[37m\u001b[0m \u001b[1m5s\u001b[0m 84ms/step - loss: 0.2322 - mean_squared_error: 0.2322\n",
      "Epoch 49/50\n",
      "\u001b[1m60/60\u001b[0m \u001b[32m━━━━━━━━━━━━━━━━━━━━\u001b[0m\u001b[37m\u001b[0m \u001b[1m5s\u001b[0m 85ms/step - loss: 0.2325 - mean_squared_error: 0.2325\n",
      "Epoch 50/50\n",
      "\u001b[1m60/60\u001b[0m \u001b[32m━━━━━━━━━━━━━━━━━━━━\u001b[0m\u001b[37m\u001b[0m \u001b[1m5s\u001b[0m 84ms/step - loss: 0.2324 - mean_squared_error: 0.2324\n",
      "\u001b[1m1875/1875\u001b[0m \u001b[32m━━━━━━━━━━━━━━━━━━━━\u001b[0m\u001b[37m\u001b[0m \u001b[1m6s\u001b[0m 3ms/step - loss: 0.2243 - mean_squared_error: 0.2243\n",
      "\u001b[1m313/313\u001b[0m \u001b[32m━━━━━━━━━━━━━━━━━━━━\u001b[0m\u001b[37m\u001b[0m \u001b[1m2s\u001b[0m 5ms/step - loss: 0.2285 - mean_squared_error: 0.2285\n",
      "Autoencoder:\n",
      "\tConjunto de entrenamiento más validación:\n",
      "\t\tLoss Value: 0.22947931289672852\n",
      "\t\t mean_squared_error : 0.2294793426990509\n",
      "\tConjunto de test:\n",
      "\t\tLoss Value: 0.23003576695919037\n",
      "\t\t mean_squared_error : 0.23003573715686798\n"
     ]
    }
   ],
   "source": [
    "from keras.models import clone_model\n",
    "\n",
    "autoencoder_definitive = clone_model(autoencoder)\n",
    "\n",
    "autoencoder_definitive.compile(optimizer=Adam(learning_rate=0.0001), loss='mean_squared_error', metrics=autoencoder_metrics)\n",
    "\n",
    "autoencoder_definitive.fit(tXcombined, tXcombined, batch_size=1000, epochs=50)\n",
    "\n",
    "evaluate_model_definitive(autoencoder_definitive, \"Autoencoder\", autoencoder_metrics)"
   ]
  },
  {
   "cell_type": "markdown",
   "metadata": {
    "id": "XVoFA2dlaILl"
   },
   "source": [
    "Vemos que los resultados, aunque no tan buenos como en los entrenamientos anteriores sobre tXtrain, son buenos, tanto en tXtrain+tXval como en tXtest, por lo que el modelo generaliza bien."
   ]
  },
  {
   "cell_type": "markdown",
   "metadata": {
    "id": "g9e7iUpHxyPM"
   },
   "source": [
    "Volmemos a ver algunas imágenes generadas, esta vez para el conjunto de Xtest:"
   ]
  },
  {
   "cell_type": "code",
   "execution_count": 26,
   "metadata": {
    "colab": {
     "base_uri": "https://localhost:8080/",
     "height": 1000
    },
    "executionInfo": {
     "elapsed": 3079,
     "status": "ok",
     "timestamp": 1748115916396,
     "user": {
      "displayName": "Chipolu",
      "userId": "04329133111751212648"
     },
     "user_tz": -120
    },
    "id": "KuLkZbD8usMI",
    "outputId": "f98873a8-0e6b-420e-dbbf-5f4516900499"
   },
   "outputs": [
    {
     "name": "stdout",
     "output_type": "stream",
     "text": [
      "\u001b[1m313/313\u001b[0m \u001b[32m━━━━━━━━━━━━━━━━━━━━\u001b[0m\u001b[37m\u001b[0m \u001b[1m2s\u001b[0m 3ms/step\n"
     ]
    },
    {
     "data": {
      "image/png": "[encoded data removed]",
      "text/plain": [
       "<Figure size 1000x3000 with 30 Axes>"
      ]
     },
     "metadata": {},
     "output_type": "display_data"
    }
   ],
   "source": [
    "show_reconstructed_images(autoencoder_definitive, tXtest)"
   ]
  },
  {
   "cell_type": "markdown",
   "metadata": {
    "id": "HoW0miI00nNF"
   },
   "source": [
    "Las imágenes son muy similares a las originales, sobretodo en forma, aunque varíen las tonalidades de color. El resultado es bueno."
   ]
  },
  {
   "cell_type": "markdown",
   "metadata": {
    "id": "cOcMX5lH0Shy"
   },
   "source": [
    "## 2.7 Pruebas encoder y decoder"
   ]
  },
  {
   "cell_type": "markdown",
   "metadata": {
    "id": "9tqhD78B0e0_"
   },
   "source": [
    "Para hacer las pruebas con el encoder, debemos extraerlo del autoencoder, para ello vamos a mostrar las capas de este último:"
   ]
  },
  {
   "cell_type": "code",
   "execution_count": 27,
   "metadata": {
    "colab": {
     "base_uri": "https://localhost:8080/",
     "height": 297
    },
    "executionInfo": {
     "elapsed": 21,
     "status": "ok",
     "timestamp": 1748115916439,
     "user": {
      "displayName": "Chipolu",
      "userId": "04329133111751212648"
     },
     "user_tz": -120
    },
    "id": "1NK9avSW0I7E",
    "outputId": "26d39f19-a461-48fb-a889-0c417542f8d8"
   },
   "outputs": [
    {
     "data": {
      "text/html": [
       "<pre style=\"white-space:pre;overflow-x:auto;line-height:normal;font-family:Menlo,'DejaVu Sans Mono',consolas,'Courier New',monospace\"><span style=\"font-weight: bold\">Model: \"functional_10\"</span>\n",
       "</pre>\n"
      ],
      "text/plain": [
       "\u001b[1mModel: \"functional_10\"\u001b[0m\n"
      ]
     },
     "metadata": {},
     "output_type": "display_data"
    },
    {
     "data": {
      "text/html": [
       "<pre style=\"white-space:pre;overflow-x:auto;line-height:normal;font-family:Menlo,'DejaVu Sans Mono',consolas,'Courier New',monospace\">┏━━━━━━━━━━━━━━━━━━━━━━━━━━━━━━━━━┳━━━━━━━━━━━━━━━━━━━━━━━━┳━━━━━━━━━━━━━━━┓\n",
       "┃<span style=\"font-weight: bold\"> Layer (type)                    </span>┃<span style=\"font-weight: bold\"> Output Shape           </span>┃<span style=\"font-weight: bold\">       Param # </span>┃\n",
       "┡━━━━━━━━━━━━━━━━━━━━━━━━━━━━━━━━━╇━━━━━━━━━━━━━━━━━━━━━━━━╇━━━━━━━━━━━━━━━┩\n",
       "│ keras_tensor_32 (<span style=\"color: #0087ff; text-decoration-color: #0087ff\">InputLayer</span>)    │ (<span style=\"color: #00d7ff; text-decoration-color: #00d7ff\">None</span>, <span style=\"color: #00af00; text-decoration-color: #00af00\">28</span>, <span style=\"color: #00af00; text-decoration-color: #00af00\">28</span>, <span style=\"color: #00af00; text-decoration-color: #00af00\">1</span>)      │             <span style=\"color: #00af00; text-decoration-color: #00af00\">0</span> │\n",
       "├─────────────────────────────────┼────────────────────────┼───────────────┤\n",
       "│ sequential (<span style=\"color: #0087ff; text-decoration-color: #0087ff\">Sequential</span>)         │ (<span style=\"color: #00d7ff; text-decoration-color: #00d7ff\">None</span>, <span style=\"color: #00af00; text-decoration-color: #00af00\">7</span>, <span style=\"color: #00af00; text-decoration-color: #00af00\">7</span>, <span style=\"color: #00af00; text-decoration-color: #00af00\">16</span>)       │        <span style=\"color: #00af00; text-decoration-color: #00af00\">23,728</span> │\n",
       "├─────────────────────────────────┼────────────────────────┼───────────────┤\n",
       "│ sequential_1 (<span style=\"color: #0087ff; text-decoration-color: #0087ff\">Sequential</span>)       │ (<span style=\"color: #00d7ff; text-decoration-color: #00d7ff\">None</span>, <span style=\"color: #00af00; text-decoration-color: #00af00\">28</span>, <span style=\"color: #00af00; text-decoration-color: #00af00\">28</span>, <span style=\"color: #00af00; text-decoration-color: #00af00\">1</span>)      │        <span style=\"color: #00af00; text-decoration-color: #00af00\">23,713</span> │\n",
       "└─────────────────────────────────┴────────────────────────┴───────────────┘\n",
       "</pre>\n"
      ],
      "text/plain": [
       "┏━━━━━━━━━━━━━━━━━━━━━━━━━━━━━━━━━┳━━━━━━━━━━━━━━━━━━━━━━━━┳━━━━━━━━━━━━━━━┓\n",
       "┃\u001b[1m \u001b[0m\u001b[1mLayer (type)                   \u001b[0m\u001b[1m \u001b[0m┃\u001b[1m \u001b[0m\u001b[1mOutput Shape          \u001b[0m\u001b[1m \u001b[0m┃\u001b[1m \u001b[0m\u001b[1m      Param #\u001b[0m\u001b[1m \u001b[0m┃\n",
       "┡━━━━━━━━━━━━━━━━━━━━━━━━━━━━━━━━━╇━━━━━━━━━━━━━━━━━━━━━━━━╇━━━━━━━━━━━━━━━┩\n",
       "│ keras_tensor_32 (\u001b[38;5;33mInputLayer\u001b[0m)    │ (\u001b[38;5;45mNone\u001b[0m, \u001b[38;5;34m28\u001b[0m, \u001b[38;5;34m28\u001b[0m, \u001b[38;5;34m1\u001b[0m)      │             \u001b[38;5;34m0\u001b[0m │\n",
       "├─────────────────────────────────┼────────────────────────┼───────────────┤\n",
       "│ sequential (\u001b[38;5;33mSequential\u001b[0m)         │ (\u001b[38;5;45mNone\u001b[0m, \u001b[38;5;34m7\u001b[0m, \u001b[38;5;34m7\u001b[0m, \u001b[38;5;34m16\u001b[0m)       │        \u001b[38;5;34m23,728\u001b[0m │\n",
       "├─────────────────────────────────┼────────────────────────┼───────────────┤\n",
       "│ sequential_1 (\u001b[38;5;33mSequential\u001b[0m)       │ (\u001b[38;5;45mNone\u001b[0m, \u001b[38;5;34m28\u001b[0m, \u001b[38;5;34m28\u001b[0m, \u001b[38;5;34m1\u001b[0m)      │        \u001b[38;5;34m23,713\u001b[0m │\n",
       "└─────────────────────────────────┴────────────────────────┴───────────────┘\n"
      ]
     },
     "metadata": {},
     "output_type": "display_data"
    },
    {
     "data": {
      "text/html": [
       "<pre style=\"white-space:pre;overflow-x:auto;line-height:normal;font-family:Menlo,'DejaVu Sans Mono',consolas,'Courier New',monospace\"><span style=\"font-weight: bold\"> Total params: </span><span style=\"color: #00af00; text-decoration-color: #00af00\">142,325</span> (555.96 KB)\n",
       "</pre>\n"
      ],
      "text/plain": [
       "\u001b[1m Total params: \u001b[0m\u001b[38;5;34m142,325\u001b[0m (555.96 KB)\n"
      ]
     },
     "metadata": {},
     "output_type": "display_data"
    },
    {
     "data": {
      "text/html": [
       "<pre style=\"white-space:pre;overflow-x:auto;line-height:normal;font-family:Menlo,'DejaVu Sans Mono',consolas,'Courier New',monospace\"><span style=\"font-weight: bold\"> Trainable params: </span><span style=\"color: #00af00; text-decoration-color: #00af00\">47,441</span> (185.32 KB)\n",
       "</pre>\n"
      ],
      "text/plain": [
       "\u001b[1m Trainable params: \u001b[0m\u001b[38;5;34m47,441\u001b[0m (185.32 KB)\n"
      ]
     },
     "metadata": {},
     "output_type": "display_data"
    },
    {
     "data": {
      "text/html": [
       "<pre style=\"white-space:pre;overflow-x:auto;line-height:normal;font-family:Menlo,'DejaVu Sans Mono',consolas,'Courier New',monospace\"><span style=\"font-weight: bold\"> Non-trainable params: </span><span style=\"color: #00af00; text-decoration-color: #00af00\">0</span> (0.00 B)\n",
       "</pre>\n"
      ],
      "text/plain": [
       "\u001b[1m Non-trainable params: \u001b[0m\u001b[38;5;34m0\u001b[0m (0.00 B)\n"
      ]
     },
     "metadata": {},
     "output_type": "display_data"
    },
    {
     "data": {
      "text/html": [
       "<pre style=\"white-space:pre;overflow-x:auto;line-height:normal;font-family:Menlo,'DejaVu Sans Mono',consolas,'Courier New',monospace\"><span style=\"font-weight: bold\"> Optimizer params: </span><span style=\"color: #00af00; text-decoration-color: #00af00\">94,884</span> (370.64 KB)\n",
       "</pre>\n"
      ],
      "text/plain": [
       "\u001b[1m Optimizer params: \u001b[0m\u001b[38;5;34m94,884\u001b[0m (370.64 KB)\n"
      ]
     },
     "metadata": {},
     "output_type": "display_data"
    }
   ],
   "source": [
    "autoencoder_definitive.summary()"
   ]
  },
  {
   "cell_type": "markdown",
   "metadata": {
    "id": "u0vmqt-4x3id"
   },
   "source": [
    "La capa \"sequential\" es la que corresponde al encoder. La separamos y predecimos los embeddings a partir de las entradas de tXtest cuya etiqueta es '0':"
   ]
  },
  {
   "cell_type": "code",
   "execution_count": 28,
   "metadata": {
    "colab": {
     "base_uri": "https://localhost:8080/"
    },
    "executionInfo": {
     "elapsed": 599,
     "status": "ok",
     "timestamp": 1748115917042,
     "user": {
      "displayName": "Chipolu",
      "userId": "04329133111751212648"
     },
     "user_tz": -120
    },
    "id": "FDDZOaF50F4n",
    "outputId": "856d99c1-d319-46db-d979-5ea03c480630"
   },
   "outputs": [
    {
     "name": "stdout",
     "output_type": "stream",
     "text": [
      "\u001b[1m31/31\u001b[0m \u001b[32m━━━━━━━━━━━━━━━━━━━━\u001b[0m\u001b[37m\u001b[0m \u001b[1m1s\u001b[0m 13ms/step\n",
      "(980, 7, 7, 16)\n"
     ]
    }
   ],
   "source": [
    "# Extraer la salida del encoder\n",
    "encoder_output = autoencoder_definitive.get_layer('sequential').output\n",
    "\n",
    "# Crear un nuevo modelo que solo incluya el encoder\n",
    "encoder_model = Model(inputs=autoencoder_definitive.input, outputs=encoder_output)\n",
    "\n",
    "# Obtenemos los embeddings a partir de tXtest\n",
    "embeddings = encoder_model.predict(tXtest[tYtest == 0])\n",
    "\n",
    "print(embeddings.shape)"
   ]
  },
  {
   "cell_type": "markdown",
   "metadata": {
    "id": "N_w4N8lA1XwY"
   },
   "source": [
    "Vemos como hemos obtenido los embeddings, que son 980 (hay 980 imágenes en tXtest con etiqueta '0') con dimensiones 7, 7, 16, tal y como indiquemos en el modelo encoder original."
   ]
  },
  {
   "cell_type": "markdown",
   "metadata": {
    "id": "v6QvN5wJ7Tt_"
   },
   "source": [
    "Vamos a calcular el embedding promedio y embedding de desviación:"
   ]
  },
  {
   "cell_type": "code",
   "execution_count": 29,
   "metadata": {
    "colab": {
     "base_uri": "https://localhost:8080/"
    },
    "executionInfo": {
     "elapsed": 15,
     "status": "ok",
     "timestamp": 1748115917072,
     "user": {
      "displayName": "Chipolu",
      "userId": "04329133111751212648"
     },
     "user_tz": -120
    },
    "id": "mMQRnET05IlN",
    "outputId": "ca30bed6-ae96-470b-ae53-a7c125fe13ac"
   },
   "outputs": [
    {
     "name": "stdout",
     "output_type": "stream",
     "text": [
      "Embedding promedio shape: (7, 7, 16)\n",
      "Embedding de desviación shape: (7, 7, 16)\n"
     ]
    }
   ],
   "source": [
    "# Calcular el embedding promedio y de desviación\n",
    "embedding_promedio = np.mean(embeddings, axis=0)\n",
    "embedding_de_desviacion = np.std(embeddings, axis=0)\n",
    "\n",
    "print(\"Embedding promedio shape:\", embedding_promedio.shape)\n",
    "print(\"Embedding de desviación shape:\", embedding_de_desviacion.shape)"
   ]
  },
  {
   "cell_type": "markdown",
   "metadata": {
    "id": "dm26h2_z37lo"
   },
   "source": [
    "Separamos la capa del decoder y generamos la imagen a partir del embedding promedio que hemos generado para el número 0:"
   ]
  },
  {
   "cell_type": "code",
   "execution_count": 30,
   "metadata": {
    "colab": {
     "base_uri": "https://localhost:8080/"
    },
    "executionInfo": {
     "elapsed": 659,
     "status": "ok",
     "timestamp": 1748115917735,
     "user": {
      "displayName": "Chipolu",
      "userId": "04329133111751212648"
     },
     "user_tz": -120
    },
    "id": "Lqyo5cb-2qbF",
    "outputId": "b1686e3f-1da3-46ae-babc-2a9cce1db635"
   },
   "outputs": [
    {
     "name": "stdout",
     "output_type": "stream",
     "text": [
      "\u001b[1m1/1\u001b[0m \u001b[32m━━━━━━━━━━━━━━━━━━━━\u001b[0m\u001b[37m\u001b[0m \u001b[1m0s\u001b[0m 414ms/step\n"
     ]
    }
   ],
   "source": [
    "# Extraer la entrada y salida del decoder\n",
    "decoder_input = autoencoder_definitive.get_layer('sequential_1').input\n",
    "decoder_output = autoencoder_definitive.get_layer('sequential_1').output\n",
    "\n",
    "# Crear un nuevo modelo que solo incluya el decoder\n",
    "decoder_model = Model(inputs=decoder_input, outputs=decoder_output)\n",
    "\n",
    "# Obtenemos la imagen generada a partir del embedding promedio\n",
    "image_output = decoder_model.predict(np.expand_dims(embedding_promedio, axis=0))"
   ]
  },
  {
   "cell_type": "markdown",
   "metadata": {
    "id": "B1ArcWnl8Mpl"
   },
   "source": [
    "Mostramos la imagen generada a partir del embedding promedio del '0':"
   ]
  },
  {
   "cell_type": "code",
   "execution_count": 31,
   "metadata": {
    "colab": {
     "base_uri": "https://localhost:8080/",
     "height": 422
    },
    "executionInfo": {
     "elapsed": 30,
     "status": "ok",
     "timestamp": 1748115917780,
     "user": {
      "displayName": "Chipolu",
      "userId": "04329133111751212648"
     },
     "user_tz": -120
    },
    "id": "K19ZOcyy8BjD",
    "outputId": "bd367de9-0dc0-4554-b609-91de7969371b"
   },
   "outputs": [
    {
     "data": {
      "image/png": "[encoded data removed]",
      "text/plain": [
       "<Figure size 500x500 with 1 Axes>"
      ]
     },
     "metadata": {},
     "output_type": "display_data"
    }
   ],
   "source": [
    "plt.figure(figsize=(5, 5))\n",
    "plt.imshow(image_output.reshape(28, 28), cmap='gray')\n",
    "plt.axis('off')\n",
    "plt.show()"
   ]
  },
  {
   "cell_type": "markdown",
   "metadata": {
    "id": "m9yPE9ZI8Rt4"
   },
   "source": [
    "El resultado obtenido es bueno, la imagen tiene forma de 0."
   ]
  },
  {
   "cell_type": "markdown",
   "metadata": {
    "id": "Xa3hHkPM93e_"
   },
   "source": [
    "Generamos el embedding promedio y de desviación para cada número:"
   ]
  },
  {
   "cell_type": "code",
   "execution_count": 32,
   "metadata": {
    "colab": {
     "base_uri": "https://localhost:8080/"
    },
    "executionInfo": {
     "elapsed": 4765,
     "status": "ok",
     "timestamp": 1748115922558,
     "user": {
      "displayName": "Chipolu",
      "userId": "04329133111751212648"
     },
     "user_tz": -120
    },
    "id": "RD_GZiOo8k_e",
    "outputId": "7e39ab7f-6fad-4e2f-e95e-bf59c8a1c661"
   },
   "outputs": [
    {
     "name": "stdout",
     "output_type": "stream",
     "text": [
      "\u001b[1m31/31\u001b[0m \u001b[32m━━━━━━━━━━━━━━━━━━━━\u001b[0m\u001b[37m\u001b[0m \u001b[1m0s\u001b[0m 2ms/step \n",
      "\u001b[1m36/36\u001b[0m \u001b[32m━━━━━━━━━━━━━━━━━━━━\u001b[0m\u001b[37m\u001b[0m \u001b[1m0s\u001b[0m 9ms/step\n",
      "\u001b[1m33/33\u001b[0m \u001b[32m━━━━━━━━━━━━━━━━━━━━\u001b[0m\u001b[37m\u001b[0m \u001b[1m0s\u001b[0m 12ms/step\n",
      "\u001b[1m32/32\u001b[0m \u001b[32m━━━━━━━━━━━━━━━━━━━━\u001b[0m\u001b[37m\u001b[0m \u001b[1m0s\u001b[0m 11ms/step\n",
      "\u001b[1m31/31\u001b[0m \u001b[32m━━━━━━━━━━━━━━━━━━━━\u001b[0m\u001b[37m\u001b[0m \u001b[1m0s\u001b[0m 10ms/step\n",
      "\u001b[1m28/28\u001b[0m \u001b[32m━━━━━━━━━━━━━━━━━━━━\u001b[0m\u001b[37m\u001b[0m \u001b[1m0s\u001b[0m 10ms/step\n",
      "\u001b[1m30/30\u001b[0m \u001b[32m━━━━━━━━━━━━━━━━━━━━\u001b[0m\u001b[37m\u001b[0m \u001b[1m0s\u001b[0m 9ms/step\n",
      "\u001b[1m33/33\u001b[0m \u001b[32m━━━━━━━━━━━━━━━━━━━━\u001b[0m\u001b[37m\u001b[0m \u001b[1m0s\u001b[0m 8ms/step\n",
      "\u001b[1m31/31\u001b[0m \u001b[32m━━━━━━━━━━━━━━━━━━━━\u001b[0m\u001b[37m\u001b[0m \u001b[1m0s\u001b[0m 8ms/step\n",
      "\u001b[1m32/32\u001b[0m \u001b[32m━━━━━━━━━━━━━━━━━━━━\u001b[0m\u001b[37m\u001b[0m \u001b[1m0s\u001b[0m 9ms/step\n"
     ]
    }
   ],
   "source": [
    "embeddings_promedio = []\n",
    "embeddings_de_desviacion = []\n",
    "\n",
    "for i in range(0,10):\n",
    "    embeddings = encoder_model.predict(tXtest[tYtest == i])\n",
    "\n",
    "    embeddings_promedio.append(np.mean(embeddings, axis=0))\n",
    "    embeddings_de_desviacion.append(np.std(embeddings, axis=0))"
   ]
  },
  {
   "cell_type": "markdown",
   "metadata": {
    "id": "VP0AbXjt-wzR"
   },
   "source": [
    "Generamos varias imágenes para cada número a partir de su media y desviación típica y las mostramos:"
   ]
  },
  {
   "cell_type": "code",
   "execution_count": 33,
   "metadata": {
    "colab": {
     "base_uri": "https://localhost:8080/",
     "height": 1000
    },
    "executionInfo": {
     "elapsed": 2235,
     "status": "ok",
     "timestamp": 1748115924807,
     "user": {
      "displayName": "Chipolu",
      "userId": "04329133111751212648"
     },
     "user_tz": -120
    },
    "id": "gVdGhwGY_auH",
    "outputId": "c8e57a9b-7c6c-4471-9a51-9a81279f88da"
   },
   "outputs": [
    {
     "name": "stdout",
     "output_type": "stream",
     "text": [
      "\u001b[1m1/1\u001b[0m \u001b[32m━━━━━━━━━━━━━━━━━━━━\u001b[0m\u001b[37m\u001b[0m \u001b[1m0s\u001b[0m 399ms/step\n",
      "\u001b[1m1/1\u001b[0m \u001b[32m━━━━━━━━━━━━━━━━━━━━\u001b[0m\u001b[37m\u001b[0m \u001b[1m0s\u001b[0m 31ms/step\n",
      "\u001b[1m1/1\u001b[0m \u001b[32m━━━━━━━━━━━━━━━━━━━━\u001b[0m\u001b[37m\u001b[0m \u001b[1m0s\u001b[0m 31ms/step\n",
      "\u001b[1m1/1\u001b[0m \u001b[32m━━━━━━━━━━━━━━━━━━━━\u001b[0m\u001b[37m\u001b[0m \u001b[1m0s\u001b[0m 33ms/step\n",
      "\u001b[1m1/1\u001b[0m \u001b[32m━━━━━━━━━━━━━━━━━━━━\u001b[0m\u001b[37m\u001b[0m \u001b[1m0s\u001b[0m 34ms/step\n",
      "\u001b[1m1/1\u001b[0m \u001b[32m━━━━━━━━━━━━━━━━━━━━\u001b[0m\u001b[37m\u001b[0m \u001b[1m0s\u001b[0m 32ms/step\n",
      "\u001b[1m1/1\u001b[0m \u001b[32m━━━━━━━━━━━━━━━━━━━━\u001b[0m\u001b[37m\u001b[0m \u001b[1m0s\u001b[0m 31ms/step\n",
      "\u001b[1m1/1\u001b[0m \u001b[32m━━━━━━━━━━━━━━━━━━━━\u001b[0m\u001b[37m\u001b[0m \u001b[1m0s\u001b[0m 32ms/step\n",
      "\u001b[1m1/1\u001b[0m \u001b[32m━━━━━━━━━━━━━━━━━━━━\u001b[0m\u001b[37m\u001b[0m \u001b[1m0s\u001b[0m 30ms/step\n",
      "\u001b[1m1/1\u001b[0m \u001b[32m━━━━━━━━━━━━━━━━━━━━\u001b[0m\u001b[37m\u001b[0m \u001b[1m0s\u001b[0m 32ms/step\n"
     ]
    },
    {
     "data": {
      "image/png": "[encoded data removed]",
      "text/plain": [
       "<Figure size 1500x1000 with 50 Axes>"
      ]
     },
     "metadata": {},
     "output_type": "display_data"
    }
   ],
   "source": [
    "n_samples = 5\n",
    "\n",
    "plt.figure(figsize=(15, 10))\n",
    "\n",
    "for i in range(10):\n",
    "    # Genera los embeddings a partir de la media y la desviación típica\n",
    "    embeddings = np.random.normal(loc=embeddings_promedio[i], scale=embeddings_de_desviacion[i], size=(n_samples, 7, 7, 16))\n",
    "\n",
    "    # Genera las imágenes a partir de los embeddings\n",
    "    images_output = decoder_model.predict(embeddings)\n",
    "\n",
    "    # Muestra las imágenes generadas\n",
    "    for j in range(n_samples):\n",
    "        plt.subplot(10, n_samples, i * n_samples + j + 1)  # Posiciona la imagen en la cuadrícula\n",
    "        plt.imshow(images_output[j], cmap='gray')\n",
    "        plt.axis('off')\n",
    "        if j == 0:  # Solo muestra la etiqueta en la primera imagen de cada grupo\n",
    "            plt.title(f'Número: {i}')\n",
    "\n",
    "plt.tight_layout()\n",
    "plt.show()"
   ]
  },
  {
   "cell_type": "markdown",
   "metadata": {
    "id": "IYVa9Sdma4yr"
   },
   "source": [
    "Las imágenes obtenidas son un poco borrosas y no del todo claras, ya que se han generado a partir de variaciones respecto de la media que no existian previamente en el conjunto de datos y que pueden tener bastantes diferencias respecto a las imágenes de números reales. Sin embargo, en muchas de ellas se aprecia bien el número que representan."
   ]
  }
 ],
 "metadata": {
  "accelerator": "GPU",
  "colab": {
   "collapsed_sections": [
    "sbmdqr0DZgnx"
   ],
   "gpuType": "T4",
   "provenance": []
  },
  "kernelspec": {
   "display_name": "Python 3",
   "name": "python3"
  },
  "language_info": {
   "codemirror_mode": {
    "name": "ipython",
    "version": 3
   },
   "file_extension": ".py",
   "mimetype": "text/x-python",
   "name": "python",
   "nbconvert_exporter": "python",
   "pygments_lexer": "ipython3",
   "version": "3.12.10"
  }
 },
 "nbformat": 4,
 "nbformat_minor": 0
}
